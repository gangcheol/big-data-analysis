{
  "cells": [
    {
      "cell_type": "markdown",
      "id": "904c2d8f-accf-4a4a-86b3-e9a6361ba29a",
      "metadata": {
        "id": "904c2d8f-accf-4a4a-86b3-e9a6361ba29a"
      },
      "source": [
        "# (2주차) Tensorflow\n",
        "\n",
        "- toc:true\n",
        "- branch: master\n",
        "- badges: true\n",
        "- comments: true\n",
        "- author: 최규빈\n",
        "- categories: [python]\n",
        "- hide :false\n",
        "- published: true\n",
        "- editor : 전북대학교 통계학과 이강철"
      ]
    },
    {
      "cell_type": "markdown",
      "source": [
        "# 1주차 복습"
      ],
      "metadata": {
        "id": "kAjfueGf4q4b"
      },
      "id": "kAjfueGf4q4b"
    },
    {
      "cell_type": "markdown",
      "source": [
        "## 회귀계수 추정치"
      ],
      "metadata": {
        "id": "1xOki4HJ4wts"
      },
      "id": "1xOki4HJ4wts"
    },
    {
      "cell_type": "markdown",
      "source": [
        "* 단순선형회귀의 경우 일반적인 베타계수의 추정치 "
      ],
      "metadata": {
        "id": "Wbd0_5FM4zKM"
      },
      "id": "Wbd0_5FM4zKM"
    },
    {
      "cell_type": "markdown",
      "source": [
        "$\\hat {\\beta_0} = \\bar y - \\beta _1\\bar x, \\quad \\hat {\\beta_1} = \\frac {S_{xy}} {S_{xx}}$"
      ],
      "metadata": {
        "id": "2DXQkWvT408U"
      },
      "id": "2DXQkWvT408U"
    },
    {
      "cell_type": "markdown",
      "source": [
        "* 다중 회귀의 경우"
      ],
      "metadata": {
        "id": "iRAMs4M9453M"
      },
      "id": "iRAMs4M9453M"
    },
    {
      "cell_type": "markdown",
      "source": [
        "$$L=loss =({\\bf y}-{\\bf X}{\\boldsymbol \\beta})^\\top({\\bf y}-{\\bf X}{\\boldsymbol \\beta})$$ "
      ],
      "metadata": {
        "id": "pym2kJn-5Awk"
      },
      "id": "pym2kJn-5Awk"
    },
    {
      "cell_type": "markdown",
      "source": [
        "\n",
        "$$ L= {\\bf y}^\\top {\\bf y} - {\\bf y}^\\top {\\bf X}{\\boldsymbol\\beta} - {\\boldsymbol\\beta}^\\top {\\bf X}^\\top {\\bf y} + {\\boldsymbol\\beta}^\\top {\\bf X}^\\top {\\bf X} {\\boldsymbol\\beta}$$"
      ],
      "metadata": {
        "id": "oGTqWbg35HA0"
      },
      "id": "oGTqWbg35HA0"
    },
    {
      "cell_type": "markdown",
      "source": [
        "* 위를 미분하면"
      ],
      "metadata": {
        "id": "KZs8lDYd5Ixs"
      },
      "id": "KZs8lDYd5Ixs"
    },
    {
      "cell_type": "markdown",
      "source": [
        "$$\\frac{\\partial}{\\partial \\boldsymbol{\\beta}} L = \\frac{\\partial}{\\partial \\boldsymbol{\\beta}} {\\bf y}^\\top {\\bf y} - \\frac{\\partial}{\\partial \\boldsymbol{\\beta}} {\\bf y}^\\top {\\bf X}{\\boldsymbol\\beta} - \\frac{\\partial}{\\partial \\boldsymbol{\\beta}} {\\boldsymbol\\beta}^\\top {\\bf X}^\\top {\\bf y} + \\frac{\\partial}{\\partial \\boldsymbol{\\beta}} {\\boldsymbol\\beta}^\\top {\\bf X}^\\top {\\bf X} {\\boldsymbol\\beta}  $$"
      ],
      "metadata": {
        "id": "BsohtuVr5J6c"
      },
      "id": "BsohtuVr5J6c"
    },
    {
      "cell_type": "markdown",
      "source": [
        "\n",
        " $$\\frac{\\partial}{\\partial \\boldsymbol{\\beta}} L=- \\mathbf{X^{\\top}y} - \\mathbf{X^{\\top}y} + 2\\mathbf{X^{\\top}X\\boldsymbol \\beta}$$"
      ],
      "metadata": {
        "id": "W_WSUFP25Lz9"
      },
      "id": "W_WSUFP25Lz9"
    },
    {
      "cell_type": "markdown",
      "source": [
        "따라서"
      ],
      "metadata": {
        "id": "FgYSrVvg5NQU"
      },
      "id": "FgYSrVvg5NQU"
    },
    {
      "cell_type": "markdown",
      "source": [
        "$$\\quad \\bf{X^{\\top}X}\\beta\n",
        " = \\bf{X^{\\top}Y}$$"
      ],
      "metadata": {
        "id": "Fh3AzmB45Ogc"
      },
      "id": "Fh3AzmB45Ogc"
    },
    {
      "cell_type": "markdown",
      "source": [
        "$$\\therefore \\quad \\hat {\\beta} = \\left(\\bf{X^{\\top}X}^{-1}\\right)XY$$"
      ],
      "metadata": {
        "id": "ZaLQaiOr5RB9"
      },
      "id": "ZaLQaiOr5RB9"
    },
    {
      "cell_type": "markdown",
      "source": [
        "***"
      ],
      "metadata": {
        "id": "1cDoNNmw5f4D"
      },
      "id": "1cDoNNmw5f4D"
    },
    {
      "cell_type": "markdown",
      "source": [
        "# 2주차 수업시작~~"
      ],
      "metadata": {
        "id": "YXFewDw-5WLs"
      },
      "id": "YXFewDw-5WLs"
    },
    {
      "cell_type": "code",
      "execution_count": 1,
      "id": "e18d4288-4668-45c2-a66f-5bb76f5b9ca2",
      "metadata": {
        "id": "e18d4288-4668-45c2-a66f-5bb76f5b9ca2"
      },
      "outputs": [],
      "source": [
        "#collapse-hide\n",
        "import tensorflow as tf\n",
        "import numpy as np"
      ]
    },
    {
      "cell_type": "markdown",
      "source": [
        "# tensorflow의 GPU 연결법"
      ],
      "metadata": {
        "id": "mTuMUVm054gG"
      },
      "id": "mTuMUVm054gG"
    },
    {
      "cell_type": "code",
      "execution_count": null,
      "id": "c4a78936-73df-4a20-8041-0d76aa07fd0f",
      "metadata": {
        "id": "c4a78936-73df-4a20-8041-0d76aa07fd0f",
        "outputId": "17363712-bece-4d8e-e7a6-a70dbf075c0c"
      },
      "outputs": [
        {
          "data": {
            "text/plain": [
              "[PhysicalDevice(name='/physical_device:GPU:0', device_type='GPU')]"
            ]
          },
          "execution_count": 3,
          "metadata": {},
          "output_type": "execute_result"
        }
      ],
      "source": [
        "tf.config.experimental.list_physical_devices('GPU')"
      ]
    },
    {
      "cell_type": "markdown",
      "id": "1f7d8172-8b82-4777-b922-aa46ea9e5a48",
      "metadata": {
        "id": "1f7d8172-8b82-4777-b922-aa46ea9e5a48"
      },
      "source": [
        "# tf.constant "
      ]
    },
    {
      "cell_type": "markdown",
      "id": "19d1b4f6-91ae-4638-b332-103dadaf6473",
      "metadata": {
        "id": "19d1b4f6-91ae-4638-b332-103dadaf6473"
      },
      "source": [
        "## 예비학습: 중첩리스트 "
      ]
    },
    {
      "cell_type": "markdown",
      "source": [
        "`-` 리스트"
      ],
      "metadata": {
        "id": "NNM8XGjC7Ny0"
      },
      "id": "NNM8XGjC7Ny0"
    },
    {
      "cell_type": "code",
      "source": [
        "lst = list(range(6))\n",
        "lst"
      ],
      "metadata": {
        "colab": {
          "base_uri": "https://localhost:8080/"
        },
        "id": "SpR6R0Fp6yTs",
        "outputId": "2503e5b6-2432-4d63-b0f4-c1571cf7d086"
      },
      "id": "SpR6R0Fp6yTs",
      "execution_count": 5,
      "outputs": [
        {
          "output_type": "execute_result",
          "data": {
            "text/plain": [
              "[0, 1, 2, 3, 4, 5]"
            ]
          },
          "metadata": {},
          "execution_count": 5
        }
      ]
    },
    {
      "cell_type": "code",
      "source": [
        "lst[-1]"
      ],
      "metadata": {
        "colab": {
          "base_uri": "https://localhost:8080/"
        },
        "id": "_NIvGlJ-64Fl",
        "outputId": "dfe86788-3628-44e9-daba-6198b87a063c"
      },
      "id": "_NIvGlJ-64Fl",
      "execution_count": 6,
      "outputs": [
        {
          "output_type": "execute_result",
          "data": {
            "text/plain": [
              "5"
            ]
          },
          "metadata": {},
          "execution_count": 6
        }
      ]
    },
    {
      "cell_type": "markdown",
      "source": [
        "`-` 리스트 안에 리스트 생성"
      ],
      "metadata": {
        "id": "3wGsuC9Q7RSY"
      },
      "id": "3wGsuC9Q7RSY"
    },
    {
      "cell_type": "code",
      "source": [
        "lst =[[1,2,],[3,4]]\n",
        "lst"
      ],
      "metadata": {
        "colab": {
          "base_uri": "https://localhost:8080/"
        },
        "id": "RX7EcA7N7Tfk",
        "outputId": "7d22cf3e-81ff-455b-fb97-19ff9381e5cb"
      },
      "id": "RX7EcA7N7Tfk",
      "execution_count": 9,
      "outputs": [
        {
          "output_type": "execute_result",
          "data": {
            "text/plain": [
              "[[1, 2], [3, 4]]"
            ]
          },
          "metadata": {},
          "execution_count": 9
        }
      ]
    },
    {
      "cell_type": "code",
      "source": [
        "print(lst[1][0],lst[0][0])"
      ],
      "metadata": {
        "colab": {
          "base_uri": "https://localhost:8080/"
        },
        "id": "1X4r-goL7aOS",
        "outputId": "0d0f21e4-9f0b-45dd-b057-bace1c63c9d2"
      },
      "id": "1X4r-goL7aOS",
      "execution_count": 12,
      "outputs": [
        {
          "output_type": "stream",
          "name": "stdout",
          "text": [
            "3 1\n"
          ]
        }
      ]
    },
    {
      "cell_type": "markdown",
      "source": [
        "`-` 위 같은 2차원의 리스트 구조를 행렬로 생각할 수 있다"
      ],
      "metadata": {
        "id": "gjGsghhj7sI9"
      },
      "id": "gjGsghhj7sI9"
    },
    {
      "cell_type": "markdown",
      "source": [
        "1  2 \\\\\n",
        "3  4"
      ],
      "metadata": {
        "id": "SbQ9CSX170T1"
      },
      "id": "SbQ9CSX170T1"
    },
    {
      "cell_type": "markdown",
      "source": [
        "또는"
      ],
      "metadata": {
        "id": "q6CGISwY8KZl"
      },
      "id": "q6CGISwY8KZl"
    },
    {
      "cell_type": "markdown",
      "source": [
        "1  \\\\\n",
        "2  \\\\\n",
        "3  \\\\\n",
        "4 "
      ],
      "metadata": {
        "id": "1I0EWzni8MmF"
      },
      "id": "1I0EWzni8MmF"
    },
    {
      "cell_type": "markdown",
      "source": [
        "`-`  (4,1) 행렬 느낌의 리스트"
      ],
      "metadata": {
        "id": "xGXmZlKK8U-2"
      },
      "id": "xGXmZlKK8U-2"
    },
    {
      "cell_type": "code",
      "source": [
        "lst = [[1],[2],[3],[4]]\n",
        "lst"
      ],
      "metadata": {
        "colab": {
          "base_uri": "https://localhost:8080/"
        },
        "id": "VL4kTENO8ZRN",
        "outputId": "9b82bdbf-9027-4c3e-dfae-8f436618f14f"
      },
      "id": "VL4kTENO8ZRN",
      "execution_count": 22,
      "outputs": [
        {
          "output_type": "execute_result",
          "data": {
            "text/plain": [
              "[[1], [2], [3], [4]]"
            ]
          },
          "metadata": {},
          "execution_count": 22
        }
      ]
    },
    {
      "cell_type": "code",
      "source": [
        "np.array(lst)"
      ],
      "metadata": {
        "colab": {
          "base_uri": "https://localhost:8080/"
        },
        "id": "KGbjkwWD89oH",
        "outputId": "ccf0ea04-9989-4c8e-f77b-8791f2798cb1"
      },
      "id": "KGbjkwWD89oH",
      "execution_count": 23,
      "outputs": [
        {
          "output_type": "execute_result",
          "data": {
            "text/plain": [
              "array([[1],\n",
              "       [2],\n",
              "       [3],\n",
              "       [4]])"
            ]
          },
          "metadata": {},
          "execution_count": 23
        }
      ]
    },
    {
      "cell_type": "markdown",
      "source": [
        "`-` (1,4) 행렬 느낌의 리스트"
      ],
      "metadata": {
        "id": "PZQMRUfN8xAe"
      },
      "id": "PZQMRUfN8xAe"
    },
    {
      "cell_type": "code",
      "source": [
        "lst = [1,2,3,4]\n",
        "lst"
      ],
      "metadata": {
        "colab": {
          "base_uri": "https://localhost:8080/"
        },
        "id": "VPKDhqh884HG",
        "outputId": "e7e318a1-5814-44b2-e424-6f3f65bf2b41"
      },
      "id": "VPKDhqh884HG",
      "execution_count": 24,
      "outputs": [
        {
          "output_type": "execute_result",
          "data": {
            "text/plain": [
              "[1, 2, 3, 4]"
            ]
          },
          "metadata": {},
          "execution_count": 24
        }
      ]
    },
    {
      "cell_type": "code",
      "source": [
        "np.array(lst)"
      ],
      "metadata": {
        "colab": {
          "base_uri": "https://localhost:8080/"
        },
        "id": "PlFx4uXs9CeI",
        "outputId": "6f931317-3486-41f8-fa00-7bd1829571fa"
      },
      "id": "PlFx4uXs9CeI",
      "execution_count": 25,
      "outputs": [
        {
          "output_type": "execute_result",
          "data": {
            "text/plain": [
              "array([1, 2, 3, 4])"
            ]
          },
          "metadata": {},
          "execution_count": 25
        }
      ]
    },
    {
      "cell_type": "markdown",
      "id": "6a4dd379-e9c5-4e5d-a3ec-c2383ae1ac56",
      "metadata": {
        "id": "6a4dd379-e9c5-4e5d-a3ec-c2383ae1ac56"
      },
      "source": [
        "\n",
        "## 변수 선언"
      ]
    },
    {
      "cell_type": "markdown",
      "source": [
        "### 스칼라 "
      ],
      "metadata": {
        "id": "iY9bqrpb9H4T"
      },
      "id": "iY9bqrpb9H4T"
    },
    {
      "cell_type": "code",
      "source": [
        "tf.constant(3.14)"
      ],
      "metadata": {
        "colab": {
          "base_uri": "https://localhost:8080/"
        },
        "id": "X23f0uhM9Tln",
        "outputId": "ca8bc2db-8f78-4b38-b05e-c802966561e5"
      },
      "id": "X23f0uhM9Tln",
      "execution_count": 26,
      "outputs": [
        {
          "output_type": "execute_result",
          "data": {
            "text/plain": [
              "<tf.Tensor: shape=(), dtype=float32, numpy=3.14>"
            ]
          },
          "metadata": {},
          "execution_count": 26
        }
      ]
    },
    {
      "cell_type": "code",
      "source": [
        "tf.constant(3.14) + tf.constant(3.14)"
      ],
      "metadata": {
        "colab": {
          "base_uri": "https://localhost:8080/"
        },
        "id": "OWAj6gCA9X7k",
        "outputId": "5d81c58b-62ef-4f51-b40e-6c61a8997c72"
      },
      "id": "OWAj6gCA9X7k",
      "execution_count": 27,
      "outputs": [
        {
          "output_type": "execute_result",
          "data": {
            "text/plain": [
              "<tf.Tensor: shape=(), dtype=float32, numpy=6.28>"
            ]
          },
          "metadata": {},
          "execution_count": 27
        }
      ]
    },
    {
      "cell_type": "markdown",
      "source": [
        "### 벡터"
      ],
      "metadata": {
        "id": "rjC9tBjz9p_G"
      },
      "id": "rjC9tBjz9p_G"
    },
    {
      "cell_type": "code",
      "source": [
        "_vector = tf.constant([1,2,3 ])\n",
        "_vector"
      ],
      "metadata": {
        "colab": {
          "base_uri": "https://localhost:8080/"
        },
        "id": "qaXuCdFo9q7x",
        "outputId": "e76edc8d-47f6-496b-9cb5-684a4ae1a633"
      },
      "id": "qaXuCdFo9q7x",
      "execution_count": 31,
      "outputs": [
        {
          "output_type": "execute_result",
          "data": {
            "text/plain": [
              "<tf.Tensor: shape=(3,), dtype=int32, numpy=array([1, 2, 3], dtype=int32)>"
            ]
          },
          "metadata": {},
          "execution_count": 31
        }
      ]
    },
    {
      "cell_type": "code",
      "source": [
        "_vector[0]"
      ],
      "metadata": {
        "colab": {
          "base_uri": "https://localhost:8080/"
        },
        "id": "9QtTUY0c-Ipp",
        "outputId": "29e6d62a-d6e3-436a-f885-4f829970fa06"
      },
      "id": "9QtTUY0c-Ipp",
      "execution_count": 32,
      "outputs": [
        {
          "output_type": "execute_result",
          "data": {
            "text/plain": [
              "<tf.Tensor: shape=(), dtype=int32, numpy=1>"
            ]
          },
          "metadata": {},
          "execution_count": 32
        }
      ]
    },
    {
      "cell_type": "markdown",
      "source": [
        "### 매트릭스 생성"
      ],
      "metadata": {
        "id": "7lxqLNqp-Ndx"
      },
      "id": "7lxqLNqp-Ndx"
    },
    {
      "cell_type": "code",
      "source": [
        "_matrix = tf.constant([[1,0],[0,1]])\n",
        "_matrix"
      ],
      "metadata": {
        "colab": {
          "base_uri": "https://localhost:8080/"
        },
        "id": "TEqza_-U-QqJ",
        "outputId": "1b292417-dad1-489b-e996-6ef1f718bbda"
      },
      "id": "TEqza_-U-QqJ",
      "execution_count": 34,
      "outputs": [
        {
          "output_type": "execute_result",
          "data": {
            "text/plain": [
              "<tf.Tensor: shape=(2, 2), dtype=int32, numpy=\n",
              "array([[1, 0],\n",
              "       [0, 1]], dtype=int32)>"
            ]
          },
          "metadata": {},
          "execution_count": 34
        }
      ]
    },
    {
      "cell_type": "markdown",
      "source": [
        "### 텐서 == 3차원 이상의 배열"
      ],
      "metadata": {
        "id": "FXWooXnF-a7i"
      },
      "id": "FXWooXnF-a7i"
    },
    {
      "cell_type": "code",
      "source": [
        "np.array([[[0,1],[1,2]],[[0,1],[1,2]]])"
      ],
      "metadata": {
        "colab": {
          "base_uri": "https://localhost:8080/"
        },
        "id": "1CoYyIm8-flY",
        "outputId": "a4969b01-33aa-4a47-aebc-3160a390f118"
      },
      "id": "1CoYyIm8-flY",
      "execution_count": 36,
      "outputs": [
        {
          "output_type": "execute_result",
          "data": {
            "text/plain": [
              "array([[[0, 1],\n",
              "        [1, 2]],\n",
              "\n",
              "       [[0, 1],\n",
              "        [1, 2]]])"
            ]
          },
          "metadata": {},
          "execution_count": 36
        }
      ]
    },
    {
      "cell_type": "code",
      "source": [
        "tf.constant([[[0,1],[1,2]],[[0,1],[1,2]]])"
      ],
      "metadata": {
        "colab": {
          "base_uri": "https://localhost:8080/"
        },
        "id": "Q6wT78qT-w96",
        "outputId": "ed2ff9c8-abb1-435d-f4d7-0085a77dad2e"
      },
      "id": "Q6wT78qT-w96",
      "execution_count": 37,
      "outputs": [
        {
          "output_type": "execute_result",
          "data": {
            "text/plain": [
              "<tf.Tensor: shape=(2, 2, 2), dtype=int32, numpy=\n",
              "array([[[0, 1],\n",
              "        [1, 2]],\n",
              "\n",
              "       [[0, 1],\n",
              "        [1, 2]]], dtype=int32)>"
            ]
          },
          "metadata": {},
          "execution_count": 37
        }
      ]
    },
    {
      "cell_type": "markdown",
      "id": "db79211f-706f-4388-9e10-6b057ec840fb",
      "metadata": {
        "id": "db79211f-706f-4388-9e10-6b057ec840fb"
      },
      "source": [
        "### 타입"
      ]
    },
    {
      "cell_type": "code",
      "source": [
        "type(tf.constant([[[0,1],[1,2]],[[0,1],[1,2]]]))"
      ],
      "metadata": {
        "colab": {
          "base_uri": "https://localhost:8080/"
        },
        "id": "LvrkMeM3-2PK",
        "outputId": "9e65365a-e48f-4c5a-a40b-a973540c98a0"
      },
      "id": "LvrkMeM3-2PK",
      "execution_count": 38,
      "outputs": [
        {
          "output_type": "execute_result",
          "data": {
            "text/plain": [
              "tensorflow.python.framework.ops.EagerTensor"
            ]
          },
          "metadata": {},
          "execution_count": 38
        }
      ]
    },
    {
      "cell_type": "markdown",
      "source": [
        " `-` 끝에 `EagerTensor` 가 나오는 것을 기억하자"
      ],
      "metadata": {
        "id": "uQqQp8tQ-46o"
      },
      "id": "uQqQp8tQ-46o"
    },
    {
      "cell_type": "markdown",
      "id": "f06b1e19-16d1-4667-b881-5aabf63c84d9",
      "metadata": {
        "id": "f06b1e19-16d1-4667-b881-5aabf63c84d9"
      },
      "source": [
        "### 인덱싱 "
      ]
    },
    {
      "cell_type": "code",
      "source": [
        "_matrix  = tf.constant([[1,2],[3,4]])\n",
        "_matrix"
      ],
      "metadata": {
        "colab": {
          "base_uri": "https://localhost:8080/"
        },
        "id": "E_Urxqme_Bdn",
        "outputId": "e66c2721-6256-4c07-ff1d-295203ffc846"
      },
      "id": "E_Urxqme_Bdn",
      "execution_count": 39,
      "outputs": [
        {
          "output_type": "execute_result",
          "data": {
            "text/plain": [
              "<tf.Tensor: shape=(2, 2), dtype=int32, numpy=\n",
              "array([[1, 2],\n",
              "       [3, 4]], dtype=int32)>"
            ]
          },
          "metadata": {},
          "execution_count": 39
        }
      ]
    },
    {
      "cell_type": "code",
      "source": [
        "_matrix[0]"
      ],
      "metadata": {
        "colab": {
          "base_uri": "https://localhost:8080/"
        },
        "id": "4OaqEiyy_IbS",
        "outputId": "c828f701-7e25-4eab-a026-edeb2f9f4039"
      },
      "id": "4OaqEiyy_IbS",
      "execution_count": 40,
      "outputs": [
        {
          "output_type": "execute_result",
          "data": {
            "text/plain": [
              "<tf.Tensor: shape=(2,), dtype=int32, numpy=array([1, 2], dtype=int32)>"
            ]
          },
          "metadata": {},
          "execution_count": 40
        }
      ]
    },
    {
      "cell_type": "code",
      "source": [
        "_matrix[0,:]"
      ],
      "metadata": {
        "colab": {
          "base_uri": "https://localhost:8080/"
        },
        "id": "a8Xl442E_Ncj",
        "outputId": "a80d61ad-1464-4e63-88b4-369d90dfe050"
      },
      "id": "a8Xl442E_Ncj",
      "execution_count": 42,
      "outputs": [
        {
          "output_type": "execute_result",
          "data": {
            "text/plain": [
              "<tf.Tensor: shape=(2,), dtype=int32, numpy=array([1, 2], dtype=int32)>"
            ]
          },
          "metadata": {},
          "execution_count": 42
        }
      ]
    },
    {
      "cell_type": "code",
      "source": [
        "_matrix[0,0]"
      ],
      "metadata": {
        "colab": {
          "base_uri": "https://localhost:8080/"
        },
        "id": "qUB8OZ-f_TVq",
        "outputId": "f0943f70-fab1-43dc-91d5-d4191eb2d909"
      },
      "id": "qUB8OZ-f_TVq",
      "execution_count": 43,
      "outputs": [
        {
          "output_type": "execute_result",
          "data": {
            "text/plain": [
              "<tf.Tensor: shape=(), dtype=int32, numpy=1>"
            ]
          },
          "metadata": {},
          "execution_count": 43
        }
      ]
    },
    {
      "cell_type": "code",
      "source": [
        "_matrix[0][0]"
      ],
      "metadata": {
        "colab": {
          "base_uri": "https://localhost:8080/"
        },
        "id": "8RR3Bfw8_Xwy",
        "outputId": "c85e8589-64c9-4328-8078-dac72dd8ecd8"
      },
      "id": "8RR3Bfw8_Xwy",
      "execution_count": 44,
      "outputs": [
        {
          "output_type": "execute_result",
          "data": {
            "text/plain": [
              "<tf.Tensor: shape=(), dtype=int32, numpy=1>"
            ]
          },
          "metadata": {},
          "execution_count": 44
        }
      ]
    },
    {
      "cell_type": "markdown",
      "id": "cebc2e49-6c71-47bf-a884-e8556c3198cf",
      "metadata": {
        "id": "cebc2e49-6c71-47bf-a884-e8556c3198cf"
      },
      "source": [
        "### tf.constant는 불편하다. "
      ]
    },
    {
      "cell_type": "markdown",
      "source": [
        "`-` 각 컬럼의 데이터 타입이 전부 동일하여야 한다."
      ],
      "metadata": {
        "id": "JuQaNC2d_lgS"
      },
      "id": "JuQaNC2d_lgS"
    },
    {
      "cell_type": "markdown",
      "source": [
        "`-` 원소 수정이 불가능함."
      ],
      "metadata": {
        "id": "Si9ICLbD_wS2"
      },
      "id": "Si9ICLbD_wS2"
    },
    {
      "cell_type": "code",
      "source": [
        " a= tf.constant([1,22,33])\n",
        " a"
      ],
      "metadata": {
        "colab": {
          "base_uri": "https://localhost:8080/"
        },
        "id": "34XbajOE_4id",
        "outputId": "03e0deb0-c68e-4279-8863-916f6bad1754"
      },
      "id": "34XbajOE_4id",
      "execution_count": 45,
      "outputs": [
        {
          "output_type": "execute_result",
          "data": {
            "text/plain": [
              "<tf.Tensor: shape=(3,), dtype=int32, numpy=array([ 1, 22, 33], dtype=int32)>"
            ]
          },
          "metadata": {},
          "execution_count": 45
        }
      ]
    },
    {
      "cell_type": "code",
      "source": [
        "a[0] =11"
      ],
      "metadata": {
        "colab": {
          "base_uri": "https://localhost:8080/",
          "height": 174
        },
        "id": "RNkfTCrHAAkb",
        "outputId": "c3675028-b1dc-46be-bebf-a529145cf705"
      },
      "id": "RNkfTCrHAAkb",
      "execution_count": 47,
      "outputs": [
        {
          "output_type": "error",
          "ename": "TypeError",
          "evalue": "ignored",
          "traceback": [
            "\u001b[0;31m---------------------------------------------------------------------------\u001b[0m",
            "\u001b[0;31mTypeError\u001b[0m                                 Traceback (most recent call last)",
            "\u001b[0;32m<ipython-input-47-cf0e5bd1fc84>\u001b[0m in \u001b[0;36m<module>\u001b[0;34m()\u001b[0m\n\u001b[0;32m----> 1\u001b[0;31m \u001b[0ma\u001b[0m\u001b[0;34m[\u001b[0m\u001b[0;36m0\u001b[0m\u001b[0;34m]\u001b[0m \u001b[0;34m=\u001b[0m\u001b[0;36m11\u001b[0m\u001b[0;34m\u001b[0m\u001b[0;34m\u001b[0m\u001b[0m\n\u001b[0m",
            "\u001b[0;31mTypeError\u001b[0m: 'tensorflow.python.framework.ops.EagerTensor' object does not support item assignment"
          ]
        }
      ]
    },
    {
      "cell_type": "markdown",
      "source": [
        "`-` 묵시적(간접적) 형변환이 불가능하다."
      ],
      "metadata": {
        "id": "Hi5r0QTt_2-f"
      },
      "id": "Hi5r0QTt_2-f"
    },
    {
      "cell_type": "code",
      "source": [
        "1+3.14"
      ],
      "metadata": {
        "colab": {
          "base_uri": "https://localhost:8080/"
        },
        "id": "XKNC7KAMAdlq",
        "outputId": "220f0e67-160e-4c58-91f2-09808567e645"
      },
      "id": "XKNC7KAMAdlq",
      "execution_count": 48,
      "outputs": [
        {
          "output_type": "execute_result",
          "data": {
            "text/plain": [
              "4.140000000000001"
            ]
          },
          "metadata": {},
          "execution_count": 48
        }
      ]
    },
    {
      "cell_type": "code",
      "source": [
        "tf.constant(1) + tf.constant(3.14)"
      ],
      "metadata": {
        "colab": {
          "base_uri": "https://localhost:8080/",
          "height": 327
        },
        "id": "V-JjxhoHAfUK",
        "outputId": "3bb815d0-8db5-452c-e92e-dc92a99e15ba"
      },
      "id": "V-JjxhoHAfUK",
      "execution_count": 54,
      "outputs": [
        {
          "output_type": "error",
          "ename": "InvalidArgumentError",
          "evalue": "ignored",
          "traceback": [
            "\u001b[0;31m---------------------------------------------------------------------------\u001b[0m",
            "\u001b[0;31mInvalidArgumentError\u001b[0m                      Traceback (most recent call last)",
            "\u001b[0;32m<ipython-input-54-51b23ac3bfb0>\u001b[0m in \u001b[0;36m<module>\u001b[0;34m()\u001b[0m\n\u001b[0;32m----> 1\u001b[0;31m \u001b[0mtf\u001b[0m\u001b[0;34m.\u001b[0m\u001b[0mconstant\u001b[0m\u001b[0;34m(\u001b[0m\u001b[0;36m1\u001b[0m\u001b[0;34m)\u001b[0m \u001b[0;34m+\u001b[0m \u001b[0mtf\u001b[0m\u001b[0;34m.\u001b[0m\u001b[0mconstant\u001b[0m\u001b[0;34m(\u001b[0m\u001b[0;36m3.14\u001b[0m\u001b[0;34m)\u001b[0m\u001b[0;34m\u001b[0m\u001b[0;34m\u001b[0m\u001b[0m\n\u001b[0m",
            "\u001b[0;32m/usr/local/lib/python3.7/dist-packages/tensorflow/python/util/traceback_utils.py\u001b[0m in \u001b[0;36merror_handler\u001b[0;34m(*args, **kwargs)\u001b[0m\n\u001b[1;32m    151\u001b[0m     \u001b[0;32mexcept\u001b[0m \u001b[0mException\u001b[0m \u001b[0;32mas\u001b[0m \u001b[0me\u001b[0m\u001b[0;34m:\u001b[0m\u001b[0;34m\u001b[0m\u001b[0;34m\u001b[0m\u001b[0m\n\u001b[1;32m    152\u001b[0m       \u001b[0mfiltered_tb\u001b[0m \u001b[0;34m=\u001b[0m \u001b[0m_process_traceback_frames\u001b[0m\u001b[0;34m(\u001b[0m\u001b[0me\u001b[0m\u001b[0;34m.\u001b[0m\u001b[0m__traceback__\u001b[0m\u001b[0;34m)\u001b[0m\u001b[0;34m\u001b[0m\u001b[0;34m\u001b[0m\u001b[0m\n\u001b[0;32m--> 153\u001b[0;31m       \u001b[0;32mraise\u001b[0m \u001b[0me\u001b[0m\u001b[0;34m.\u001b[0m\u001b[0mwith_traceback\u001b[0m\u001b[0;34m(\u001b[0m\u001b[0mfiltered_tb\u001b[0m\u001b[0;34m)\u001b[0m \u001b[0;32mfrom\u001b[0m \u001b[0;32mNone\u001b[0m\u001b[0;34m\u001b[0m\u001b[0;34m\u001b[0m\u001b[0m\n\u001b[0m\u001b[1;32m    154\u001b[0m     \u001b[0;32mfinally\u001b[0m\u001b[0;34m:\u001b[0m\u001b[0;34m\u001b[0m\u001b[0;34m\u001b[0m\u001b[0m\n\u001b[1;32m    155\u001b[0m       \u001b[0;32mdel\u001b[0m \u001b[0mfiltered_tb\u001b[0m\u001b[0;34m\u001b[0m\u001b[0;34m\u001b[0m\u001b[0m\n",
            "\u001b[0;32m/usr/local/lib/python3.7/dist-packages/tensorflow/python/framework/ops.py\u001b[0m in \u001b[0;36mraise_from_not_ok_status\u001b[0;34m(e, name)\u001b[0m\n\u001b[1;32m   7184\u001b[0m \u001b[0;32mdef\u001b[0m \u001b[0mraise_from_not_ok_status\u001b[0m\u001b[0;34m(\u001b[0m\u001b[0me\u001b[0m\u001b[0;34m,\u001b[0m \u001b[0mname\u001b[0m\u001b[0;34m)\u001b[0m\u001b[0;34m:\u001b[0m\u001b[0;34m\u001b[0m\u001b[0;34m\u001b[0m\u001b[0m\n\u001b[1;32m   7185\u001b[0m   \u001b[0me\u001b[0m\u001b[0;34m.\u001b[0m\u001b[0mmessage\u001b[0m \u001b[0;34m+=\u001b[0m \u001b[0;34m(\u001b[0m\u001b[0;34m\" name: \"\u001b[0m \u001b[0;34m+\u001b[0m \u001b[0mname\u001b[0m \u001b[0;32mif\u001b[0m \u001b[0mname\u001b[0m \u001b[0;32mis\u001b[0m \u001b[0;32mnot\u001b[0m \u001b[0;32mNone\u001b[0m \u001b[0;32melse\u001b[0m \u001b[0;34m\"\"\u001b[0m\u001b[0;34m)\u001b[0m\u001b[0;34m\u001b[0m\u001b[0;34m\u001b[0m\u001b[0m\n\u001b[0;32m-> 7186\u001b[0;31m   \u001b[0;32mraise\u001b[0m \u001b[0mcore\u001b[0m\u001b[0;34m.\u001b[0m\u001b[0m_status_to_exception\u001b[0m\u001b[0;34m(\u001b[0m\u001b[0me\u001b[0m\u001b[0;34m)\u001b[0m \u001b[0;32mfrom\u001b[0m \u001b[0;32mNone\u001b[0m  \u001b[0;31m# pylint: disable=protected-access\u001b[0m\u001b[0;34m\u001b[0m\u001b[0;34m\u001b[0m\u001b[0m\n\u001b[0m\u001b[1;32m   7187\u001b[0m \u001b[0;34m\u001b[0m\u001b[0m\n\u001b[1;32m   7188\u001b[0m \u001b[0;34m\u001b[0m\u001b[0m\n",
            "\u001b[0;31mInvalidArgumentError\u001b[0m: cannot compute AddV2 as input #1(zero-based) was expected to be a int32 tensor but is a float tensor [Op:AddV2]"
          ]
        }
      ]
    },
    {
      "cell_type": "markdown",
      "source": [
        "`-` 같은 float 도 안되는 경우가 있음"
      ],
      "metadata": {
        "id": "nGHz1s1VBODr"
      },
      "id": "nGHz1s1VBODr"
    },
    {
      "cell_type": "code",
      "source": [
        "tf.constant(1.0, dtype= tf.float64) + tf.constant(3.14)"
      ],
      "metadata": {
        "colab": {
          "base_uri": "https://localhost:8080/",
          "height": 327
        },
        "id": "KHIM76SgBSBr",
        "outputId": "44f30649-3421-4245-e2ed-6083d80f6eed"
      },
      "id": "KHIM76SgBSBr",
      "execution_count": 57,
      "outputs": [
        {
          "output_type": "error",
          "ename": "InvalidArgumentError",
          "evalue": "ignored",
          "traceback": [
            "\u001b[0;31m---------------------------------------------------------------------------\u001b[0m",
            "\u001b[0;31mInvalidArgumentError\u001b[0m                      Traceback (most recent call last)",
            "\u001b[0;32m<ipython-input-57-4390fbcde8ad>\u001b[0m in \u001b[0;36m<module>\u001b[0;34m()\u001b[0m\n\u001b[0;32m----> 1\u001b[0;31m \u001b[0mtf\u001b[0m\u001b[0;34m.\u001b[0m\u001b[0mconstant\u001b[0m\u001b[0;34m(\u001b[0m\u001b[0;36m1.0\u001b[0m\u001b[0;34m,\u001b[0m \u001b[0mdtype\u001b[0m\u001b[0;34m=\u001b[0m \u001b[0mtf\u001b[0m\u001b[0;34m.\u001b[0m\u001b[0mfloat64\u001b[0m\u001b[0;34m)\u001b[0m \u001b[0;34m+\u001b[0m \u001b[0mtf\u001b[0m\u001b[0;34m.\u001b[0m\u001b[0mconstant\u001b[0m\u001b[0;34m(\u001b[0m\u001b[0;36m3.14\u001b[0m\u001b[0;34m)\u001b[0m\u001b[0;34m\u001b[0m\u001b[0;34m\u001b[0m\u001b[0m\n\u001b[0m",
            "\u001b[0;32m/usr/local/lib/python3.7/dist-packages/tensorflow/python/util/traceback_utils.py\u001b[0m in \u001b[0;36merror_handler\u001b[0;34m(*args, **kwargs)\u001b[0m\n\u001b[1;32m    151\u001b[0m     \u001b[0;32mexcept\u001b[0m \u001b[0mException\u001b[0m \u001b[0;32mas\u001b[0m \u001b[0me\u001b[0m\u001b[0;34m:\u001b[0m\u001b[0;34m\u001b[0m\u001b[0;34m\u001b[0m\u001b[0m\n\u001b[1;32m    152\u001b[0m       \u001b[0mfiltered_tb\u001b[0m \u001b[0;34m=\u001b[0m \u001b[0m_process_traceback_frames\u001b[0m\u001b[0;34m(\u001b[0m\u001b[0me\u001b[0m\u001b[0;34m.\u001b[0m\u001b[0m__traceback__\u001b[0m\u001b[0;34m)\u001b[0m\u001b[0;34m\u001b[0m\u001b[0;34m\u001b[0m\u001b[0m\n\u001b[0;32m--> 153\u001b[0;31m       \u001b[0;32mraise\u001b[0m \u001b[0me\u001b[0m\u001b[0;34m.\u001b[0m\u001b[0mwith_traceback\u001b[0m\u001b[0;34m(\u001b[0m\u001b[0mfiltered_tb\u001b[0m\u001b[0;34m)\u001b[0m \u001b[0;32mfrom\u001b[0m \u001b[0;32mNone\u001b[0m\u001b[0;34m\u001b[0m\u001b[0;34m\u001b[0m\u001b[0m\n\u001b[0m\u001b[1;32m    154\u001b[0m     \u001b[0;32mfinally\u001b[0m\u001b[0;34m:\u001b[0m\u001b[0;34m\u001b[0m\u001b[0;34m\u001b[0m\u001b[0m\n\u001b[1;32m    155\u001b[0m       \u001b[0;32mdel\u001b[0m \u001b[0mfiltered_tb\u001b[0m\u001b[0;34m\u001b[0m\u001b[0;34m\u001b[0m\u001b[0m\n",
            "\u001b[0;32m/usr/local/lib/python3.7/dist-packages/tensorflow/python/framework/ops.py\u001b[0m in \u001b[0;36mraise_from_not_ok_status\u001b[0;34m(e, name)\u001b[0m\n\u001b[1;32m   7184\u001b[0m \u001b[0;32mdef\u001b[0m \u001b[0mraise_from_not_ok_status\u001b[0m\u001b[0;34m(\u001b[0m\u001b[0me\u001b[0m\u001b[0;34m,\u001b[0m \u001b[0mname\u001b[0m\u001b[0;34m)\u001b[0m\u001b[0;34m:\u001b[0m\u001b[0;34m\u001b[0m\u001b[0;34m\u001b[0m\u001b[0m\n\u001b[1;32m   7185\u001b[0m   \u001b[0me\u001b[0m\u001b[0;34m.\u001b[0m\u001b[0mmessage\u001b[0m \u001b[0;34m+=\u001b[0m \u001b[0;34m(\u001b[0m\u001b[0;34m\" name: \"\u001b[0m \u001b[0;34m+\u001b[0m \u001b[0mname\u001b[0m \u001b[0;32mif\u001b[0m \u001b[0mname\u001b[0m \u001b[0;32mis\u001b[0m \u001b[0;32mnot\u001b[0m \u001b[0;32mNone\u001b[0m \u001b[0;32melse\u001b[0m \u001b[0;34m\"\"\u001b[0m\u001b[0;34m)\u001b[0m\u001b[0;34m\u001b[0m\u001b[0;34m\u001b[0m\u001b[0m\n\u001b[0;32m-> 7186\u001b[0;31m   \u001b[0;32mraise\u001b[0m \u001b[0mcore\u001b[0m\u001b[0;34m.\u001b[0m\u001b[0m_status_to_exception\u001b[0m\u001b[0;34m(\u001b[0m\u001b[0me\u001b[0m\u001b[0;34m)\u001b[0m \u001b[0;32mfrom\u001b[0m \u001b[0;32mNone\u001b[0m  \u001b[0;31m# pylint: disable=protected-access\u001b[0m\u001b[0;34m\u001b[0m\u001b[0;34m\u001b[0m\u001b[0m\n\u001b[0m\u001b[1;32m   7187\u001b[0m \u001b[0;34m\u001b[0m\u001b[0m\n\u001b[1;32m   7188\u001b[0m \u001b[0;34m\u001b[0m\u001b[0m\n",
            "\u001b[0;31mInvalidArgumentError\u001b[0m: cannot compute AddV2 as input #1(zero-based) was expected to be a double tensor but is a float tensor [Op:AddV2]"
          ]
        }
      ]
    },
    {
      "cell_type": "markdown",
      "id": "0f7a75ed-b984-4f27-9440-d57253cb89bd",
      "metadata": {
        "id": "0f7a75ed-b984-4f27-9440-d57253cb89bd"
      },
      "source": [
        "### tf.constant $\\to$ 넘파이 "
      ]
    },
    {
      "cell_type": "code",
      "source": [
        "np.array(tf.constant(1))"
      ],
      "metadata": {
        "colab": {
          "base_uri": "https://localhost:8080/"
        },
        "id": "nGboyUjKCmTX",
        "outputId": "6e679aa5-795d-4845-c382-d1c6fa5452b6"
      },
      "id": "nGboyUjKCmTX",
      "execution_count": 59,
      "outputs": [
        {
          "output_type": "execute_result",
          "data": {
            "text/plain": [
              "array(1, dtype=int32)"
            ]
          },
          "metadata": {},
          "execution_count": 59
        }
      ]
    },
    {
      "cell_type": "code",
      "source": [
        "a = tf.constant(3.14)\n",
        "type(a)"
      ],
      "metadata": {
        "colab": {
          "base_uri": "https://localhost:8080/"
        },
        "id": "er0OXrFWCEnD",
        "outputId": "ff9601c9-2f29-4390-a283-18a77605e925"
      },
      "id": "er0OXrFWCEnD",
      "execution_count": 60,
      "outputs": [
        {
          "output_type": "execute_result",
          "data": {
            "text/plain": [
              "tensorflow.python.framework.ops.EagerTensor"
            ]
          },
          "metadata": {},
          "execution_count": 60
        }
      ]
    },
    {
      "cell_type": "code",
      "source": [
        "a.numpy()"
      ],
      "metadata": {
        "colab": {
          "base_uri": "https://localhost:8080/"
        },
        "id": "rf8WD-4RCt-J",
        "outputId": "16daf6a9-3e55-47d2-f3e4-45b0ba673383"
      },
      "id": "rf8WD-4RCt-J",
      "execution_count": 61,
      "outputs": [
        {
          "output_type": "execute_result",
          "data": {
            "text/plain": [
              "3.14"
            ]
          },
          "metadata": {},
          "execution_count": 61
        }
      ]
    },
    {
      "cell_type": "markdown",
      "id": "b1e11f1e-122d-4de3-95e8-e8eda9dac045",
      "metadata": {
        "id": "b1e11f1e-122d-4de3-95e8-e8eda9dac045"
      },
      "source": [
        "## 연산"
      ]
    },
    {
      "cell_type": "markdown",
      "source": [
        "### 더하기"
      ],
      "metadata": {
        "id": "qgnCoozuEmnl"
      },
      "id": "qgnCoozuEmnl"
    },
    {
      "cell_type": "code",
      "source": [
        "a = tf.constant([1,2])\n",
        "b = tf.constant([3,4])\n",
        "a+b"
      ],
      "metadata": {
        "colab": {
          "base_uri": "https://localhost:8080/"
        },
        "id": "GVgjs26RFu9k",
        "outputId": "1678efb8-3793-4986-9cd0-7d4d8c925b81"
      },
      "id": "GVgjs26RFu9k",
      "execution_count": 64,
      "outputs": [
        {
          "output_type": "execute_result",
          "data": {
            "text/plain": [
              "<tf.Tensor: shape=(2,), dtype=int32, numpy=array([4, 6], dtype=int32)>"
            ]
          },
          "metadata": {},
          "execution_count": 64
        }
      ]
    },
    {
      "cell_type": "code",
      "source": [
        "tf.add(a,b) ## 이건 예전버전 "
      ],
      "metadata": {
        "colab": {
          "base_uri": "https://localhost:8080/"
        },
        "id": "ZiG8G6gcF2Uu",
        "outputId": "68d25c32-3f3a-429a-96d5-5540103a4546"
      },
      "id": "ZiG8G6gcF2Uu",
      "execution_count": 65,
      "outputs": [
        {
          "output_type": "execute_result",
          "data": {
            "text/plain": [
              "<tf.Tensor: shape=(2,), dtype=int32, numpy=array([4, 6], dtype=int32)>"
            ]
          },
          "metadata": {},
          "execution_count": 65
        }
      ]
    },
    {
      "cell_type": "markdown",
      "source": [
        "### 곱하기"
      ],
      "metadata": {
        "id": "iGHsToPfGJB-"
      },
      "id": "iGHsToPfGJB-"
    },
    {
      "cell_type": "markdown",
      "source": [
        "`-` 결과가 조금 이상하다. 일반적인 행렬연사이 아니다"
      ],
      "metadata": {
        "id": "TaKttbclGq39"
      },
      "id": "TaKttbclGq39"
    },
    {
      "cell_type": "code",
      "source": [
        "a = tf.constant([[1,2],[3,4]])\n",
        "b = tf.constant([[5,6],[7,8]])\n",
        "a*b"
      ],
      "metadata": {
        "colab": {
          "base_uri": "https://localhost:8080/"
        },
        "id": "Owm4MMBmGLpT",
        "outputId": "a3d344a1-5032-45be-cf40-8bbc73c94203"
      },
      "id": "Owm4MMBmGLpT",
      "execution_count": 67,
      "outputs": [
        {
          "output_type": "execute_result",
          "data": {
            "text/plain": [
              "<tf.Tensor: shape=(2, 2), dtype=int32, numpy=\n",
              "array([[ 5, 12],\n",
              "       [21, 32]], dtype=int32)>"
            ]
          },
          "metadata": {},
          "execution_count": 67
        }
      ]
    },
    {
      "cell_type": "markdown",
      "source": [
        "`-` but matrix의 곱은"
      ],
      "metadata": {
        "id": "QM4q4I0xGdqT"
      },
      "id": "QM4q4I0xGdqT"
    },
    {
      "cell_type": "code",
      "source": [
        "a = tf.constant([[1,0],[0,1]])\n",
        "b = tf.constant([[5],[7]])\n",
        "a@b"
      ],
      "metadata": {
        "colab": {
          "base_uri": "https://localhost:8080/"
        },
        "id": "cHe9qko2GgnU",
        "outputId": "4055c1b7-ab23-4630-df6f-2bb1978b125a"
      },
      "id": "cHe9qko2GgnU",
      "execution_count": 68,
      "outputs": [
        {
          "output_type": "execute_result",
          "data": {
            "text/plain": [
              "<tf.Tensor: shape=(2, 1), dtype=int32, numpy=\n",
              "array([[5],\n",
              "       [7]], dtype=int32)>"
            ]
          },
          "metadata": {},
          "execution_count": 68
        }
      ]
    },
    {
      "cell_type": "code",
      "source": [
        "tf.matmul(a,b) ## 위와 같은 표현"
      ],
      "metadata": {
        "id": "JWlJUcLAGuue"
      },
      "id": "JWlJUcLAGuue",
      "execution_count": null,
      "outputs": []
    },
    {
      "cell_type": "markdown",
      "source": [
        "### 역행렬"
      ],
      "metadata": {
        "id": "4mPukjVSGyxB"
      },
      "id": "4mPukjVSGyxB"
    },
    {
      "cell_type": "code",
      "source": [
        "a = tf.constant([[1,0],[0,2]])\n",
        "a"
      ],
      "metadata": {
        "colab": {
          "base_uri": "https://localhost:8080/"
        },
        "id": "OvbMWbq3G3Wt",
        "outputId": "62a0d2c2-1bfb-4aa1-eef1-dc5fad12b0d9"
      },
      "id": "OvbMWbq3G3Wt",
      "execution_count": 69,
      "outputs": [
        {
          "output_type": "execute_result",
          "data": {
            "text/plain": [
              "<tf.Tensor: shape=(2, 2), dtype=int32, numpy=\n",
              "array([[1, 0],\n",
              "       [0, 2]], dtype=int32)>"
            ]
          },
          "metadata": {},
          "execution_count": 69
        }
      ]
    },
    {
      "cell_type": "code",
      "source": [
        "tf.linalg.inv(a)"
      ],
      "metadata": {
        "colab": {
          "base_uri": "https://localhost:8080/",
          "height": 364
        },
        "id": "I3Mrn5DVHA6o",
        "outputId": "5e0e341a-21c1-4287-eb29-680bf714ba51"
      },
      "id": "I3Mrn5DVHA6o",
      "execution_count": 70,
      "outputs": [
        {
          "output_type": "error",
          "ename": "InvalidArgumentError",
          "evalue": "ignored",
          "traceback": [
            "\u001b[0;31m---------------------------------------------------------------------------\u001b[0m",
            "\u001b[0;31mInvalidArgumentError\u001b[0m                      Traceback (most recent call last)",
            "\u001b[0;32m<ipython-input-70-fd9ade66c025>\u001b[0m in \u001b[0;36m<module>\u001b[0;34m()\u001b[0m\n\u001b[0;32m----> 1\u001b[0;31m \u001b[0mtf\u001b[0m\u001b[0;34m.\u001b[0m\u001b[0mlinalg\u001b[0m\u001b[0;34m.\u001b[0m\u001b[0minv\u001b[0m\u001b[0;34m(\u001b[0m\u001b[0ma\u001b[0m\u001b[0;34m)\u001b[0m\u001b[0;34m\u001b[0m\u001b[0;34m\u001b[0m\u001b[0m\n\u001b[0m",
            "\u001b[0;32m/usr/local/lib/python3.7/dist-packages/tensorflow/python/ops/gen_linalg_ops.py\u001b[0m in \u001b[0;36mmatrix_inverse\u001b[0;34m(input, adjoint, name)\u001b[0m\n\u001b[1;32m   1504\u001b[0m       \u001b[0;32mreturn\u001b[0m \u001b[0m_result\u001b[0m\u001b[0;34m\u001b[0m\u001b[0;34m\u001b[0m\u001b[0m\n\u001b[1;32m   1505\u001b[0m     \u001b[0;32mexcept\u001b[0m \u001b[0m_core\u001b[0m\u001b[0;34m.\u001b[0m\u001b[0m_NotOkStatusException\u001b[0m \u001b[0;32mas\u001b[0m \u001b[0me\u001b[0m\u001b[0;34m:\u001b[0m\u001b[0;34m\u001b[0m\u001b[0;34m\u001b[0m\u001b[0m\n\u001b[0;32m-> 1506\u001b[0;31m       \u001b[0m_ops\u001b[0m\u001b[0;34m.\u001b[0m\u001b[0mraise_from_not_ok_status\u001b[0m\u001b[0;34m(\u001b[0m\u001b[0me\u001b[0m\u001b[0;34m,\u001b[0m \u001b[0mname\u001b[0m\u001b[0;34m)\u001b[0m\u001b[0;34m\u001b[0m\u001b[0;34m\u001b[0m\u001b[0m\n\u001b[0m\u001b[1;32m   1507\u001b[0m     \u001b[0;32mexcept\u001b[0m \u001b[0m_core\u001b[0m\u001b[0;34m.\u001b[0m\u001b[0m_FallbackException\u001b[0m\u001b[0;34m:\u001b[0m\u001b[0;34m\u001b[0m\u001b[0;34m\u001b[0m\u001b[0m\n\u001b[1;32m   1508\u001b[0m       \u001b[0;32mpass\u001b[0m\u001b[0;34m\u001b[0m\u001b[0;34m\u001b[0m\u001b[0m\n",
            "\u001b[0;32m/usr/local/lib/python3.7/dist-packages/tensorflow/python/framework/ops.py\u001b[0m in \u001b[0;36mraise_from_not_ok_status\u001b[0;34m(e, name)\u001b[0m\n\u001b[1;32m   7184\u001b[0m \u001b[0;32mdef\u001b[0m \u001b[0mraise_from_not_ok_status\u001b[0m\u001b[0;34m(\u001b[0m\u001b[0me\u001b[0m\u001b[0;34m,\u001b[0m \u001b[0mname\u001b[0m\u001b[0;34m)\u001b[0m\u001b[0;34m:\u001b[0m\u001b[0;34m\u001b[0m\u001b[0;34m\u001b[0m\u001b[0m\n\u001b[1;32m   7185\u001b[0m   \u001b[0me\u001b[0m\u001b[0;34m.\u001b[0m\u001b[0mmessage\u001b[0m \u001b[0;34m+=\u001b[0m \u001b[0;34m(\u001b[0m\u001b[0;34m\" name: \"\u001b[0m \u001b[0;34m+\u001b[0m \u001b[0mname\u001b[0m \u001b[0;32mif\u001b[0m \u001b[0mname\u001b[0m \u001b[0;32mis\u001b[0m \u001b[0;32mnot\u001b[0m \u001b[0;32mNone\u001b[0m \u001b[0;32melse\u001b[0m \u001b[0;34m\"\"\u001b[0m\u001b[0;34m)\u001b[0m\u001b[0;34m\u001b[0m\u001b[0;34m\u001b[0m\u001b[0m\n\u001b[0;32m-> 7186\u001b[0;31m   \u001b[0;32mraise\u001b[0m \u001b[0mcore\u001b[0m\u001b[0;34m.\u001b[0m\u001b[0m_status_to_exception\u001b[0m\u001b[0;34m(\u001b[0m\u001b[0me\u001b[0m\u001b[0;34m)\u001b[0m \u001b[0;32mfrom\u001b[0m \u001b[0;32mNone\u001b[0m  \u001b[0;31m# pylint: disable=protected-access\u001b[0m\u001b[0;34m\u001b[0m\u001b[0;34m\u001b[0m\u001b[0m\n\u001b[0m\u001b[1;32m   7187\u001b[0m \u001b[0;34m\u001b[0m\u001b[0m\n\u001b[1;32m   7188\u001b[0m \u001b[0;34m\u001b[0m\u001b[0m\n",
            "\u001b[0;31mInvalidArgumentError\u001b[0m: Value for attr 'T' of int32 is not in the list of allowed values: double, float, half, complex64, complex128\n\t; NodeDef: {{node MatrixInverse}}; Op<name=MatrixInverse; signature=input:T -> output:T; attr=adjoint:bool,default=false; attr=T:type,allowed=[DT_DOUBLE, DT_FLOAT, DT_HALF, DT_COMPLEX64, DT_COMPLEX128]> [Op:MatrixInverse]"
          ]
        }
      ]
    },
    {
      "cell_type": "markdown",
      "source": [
        "* 위의 경우는 자료가 int 형이여서 안되는 거임 "
      ],
      "metadata": {
        "id": "d7ZpupLgHUNe"
      },
      "id": "d7ZpupLgHUNe"
    },
    {
      "cell_type": "code",
      "source": [
        "?tf.constant"
      ],
      "metadata": {
        "id": "FMLeynSAHzbB"
      },
      "id": "FMLeynSAHzbB",
      "execution_count": 71,
      "outputs": []
    },
    {
      "cell_type": "markdown",
      "source": [
        "* 아래오 같이 자료형을 선언해 주어야함 "
      ],
      "metadata": {
        "id": "7Vnc9NoWIBoF"
      },
      "id": "7Vnc9NoWIBoF"
    },
    {
      "cell_type": "code",
      "source": [
        "a = tf.constant([[1,0],[0,2]],dtype=float)\n",
        "tf.linalg.inv(a)"
      ],
      "metadata": {
        "colab": {
          "base_uri": "https://localhost:8080/"
        },
        "id": "c3MMWGclHxRh",
        "outputId": "b7d7cf82-2e3c-4b65-fcbf-8f385c6bdfa0"
      },
      "id": "c3MMWGclHxRh",
      "execution_count": 72,
      "outputs": [
        {
          "output_type": "execute_result",
          "data": {
            "text/plain": [
              "<tf.Tensor: shape=(2, 2), dtype=float32, numpy=\n",
              "array([[1. , 0. ],\n",
              "       [0. , 0.5]], dtype=float32)>"
            ]
          },
          "metadata": {},
          "execution_count": 72
        }
      ]
    },
    {
      "cell_type": "markdown",
      "source": [
        "### determinant"
      ],
      "metadata": {
        "id": "OUtng2V1ISNk"
      },
      "id": "OUtng2V1ISNk"
    },
    {
      "cell_type": "code",
      "source": [
        "a = tf.constant([[1,2],[3,4]],dtype=float)\n",
        "print(a)\n",
        "tf.linalg.det(a)"
      ],
      "metadata": {
        "colab": {
          "base_uri": "https://localhost:8080/"
        },
        "id": "1MlB8HdfIAln",
        "outputId": "4bc34ad2-db43-4d77-b919-7e104373656f"
      },
      "id": "1MlB8HdfIAln",
      "execution_count": 73,
      "outputs": [
        {
          "output_type": "stream",
          "name": "stdout",
          "text": [
            "tf.Tensor(\n",
            "[[1. 2.]\n",
            " [3. 4.]], shape=(2, 2), dtype=float32)\n"
          ]
        },
        {
          "output_type": "execute_result",
          "data": {
            "text/plain": [
              "<tf.Tensor: shape=(), dtype=float32, numpy=-2.0>"
            ]
          },
          "metadata": {},
          "execution_count": 73
        }
      ]
    },
    {
      "cell_type": "markdown",
      "source": [
        "### Trace"
      ],
      "metadata": {
        "id": "ixOSv89GIV2-"
      },
      "id": "ixOSv89GIV2-"
    },
    {
      "cell_type": "code",
      "source": [
        "tf.linalg.trace(a)"
      ],
      "metadata": {
        "colab": {
          "base_uri": "https://localhost:8080/"
        },
        "id": "TDrE4BkHIYHG",
        "outputId": "c36b05e8-bf84-4462-e329-68d828533557"
      },
      "id": "TDrE4BkHIYHG",
      "execution_count": 74,
      "outputs": [
        {
          "output_type": "execute_result",
          "data": {
            "text/plain": [
              "<tf.Tensor: shape=(), dtype=float32, numpy=5.0>"
            ]
          },
          "metadata": {},
          "execution_count": 74
        }
      ]
    },
    {
      "cell_type": "markdown",
      "id": "36eb6964-8d92-469c-b4fd-5e9ae19bf9af",
      "metadata": {
        "tags": [],
        "id": "36eb6964-8d92-469c-b4fd-5e9ae19bf9af"
      },
      "source": [
        "## 형태변환"
      ]
    },
    {
      "cell_type": "markdown",
      "source": [
        "`-` 1 x 4 행렬을 $\\to$  4 x 1 "
      ],
      "metadata": {
        "id": "k5ysFg7wJLBM"
      },
      "id": "k5ysFg7wJLBM"
    },
    {
      "cell_type": "code",
      "source": [
        "a = tf.constant([1,2,3,4])\n",
        "a"
      ],
      "metadata": {
        "colab": {
          "base_uri": "https://localhost:8080/"
        },
        "id": "GL0ia92PJCsD",
        "outputId": "2a30d98d-b25e-4cc4-fb82-6df836db6069"
      },
      "id": "GL0ia92PJCsD",
      "execution_count": 75,
      "outputs": [
        {
          "output_type": "execute_result",
          "data": {
            "text/plain": [
              "<tf.Tensor: shape=(4,), dtype=int32, numpy=array([1, 2, 3, 4], dtype=int32)>"
            ]
          },
          "metadata": {},
          "execution_count": 75
        }
      ]
    },
    {
      "cell_type": "code",
      "source": [
        "tf.reshape(a,(2,2))"
      ],
      "metadata": {
        "colab": {
          "base_uri": "https://localhost:8080/"
        },
        "id": "F5AqtEKTJH-H",
        "outputId": "3b2e339a-bbba-4b61-caa9-d4212c4598b3"
      },
      "id": "F5AqtEKTJH-H",
      "execution_count": 76,
      "outputs": [
        {
          "output_type": "execute_result",
          "data": {
            "text/plain": [
              "<tf.Tensor: shape=(2, 2), dtype=int32, numpy=\n",
              "array([[1, 2],\n",
              "       [3, 4]], dtype=int32)>"
            ]
          },
          "metadata": {},
          "execution_count": 76
        }
      ]
    },
    {
      "cell_type": "markdown",
      "source": [
        "`-` 3차원으로도 변경이 가능"
      ],
      "metadata": {
        "id": "vj1Qj81IJd3H"
      },
      "id": "vj1Qj81IJd3H"
    },
    {
      "cell_type": "code",
      "source": [
        "tf.reshape(a,(2,2,1))"
      ],
      "metadata": {
        "colab": {
          "base_uri": "https://localhost:8080/"
        },
        "id": "5c2GBie9JaDc",
        "outputId": "0bc956d6-ee2b-46d8-8fba-11a504028d9b"
      },
      "id": "5c2GBie9JaDc",
      "execution_count": 77,
      "outputs": [
        {
          "output_type": "execute_result",
          "data": {
            "text/plain": [
              "<tf.Tensor: shape=(2, 2, 1), dtype=int32, numpy=\n",
              "array([[[1],\n",
              "        [2]],\n",
              "\n",
              "       [[3],\n",
              "        [4]]], dtype=int32)>"
            ]
          },
          "metadata": {},
          "execution_count": 77
        }
      ]
    },
    {
      "cell_type": "markdown",
      "source": [
        "`-` 다차원의 경우 적용"
      ],
      "metadata": {
        "id": "2SoXrRFYJrsL"
      },
      "id": "2SoXrRFYJrsL"
    },
    {
      "cell_type": "code",
      "source": [
        "a = tf.constant(list(range(1,13)))\n",
        "a"
      ],
      "metadata": {
        "colab": {
          "base_uri": "https://localhost:8080/"
        },
        "id": "rXskIY7FJjRO",
        "outputId": "4d4d184f-c0fb-41e7-fd8d-3ebb668e104c"
      },
      "id": "rXskIY7FJjRO",
      "execution_count": 81,
      "outputs": [
        {
          "output_type": "execute_result",
          "data": {
            "text/plain": [
              "<tf.Tensor: shape=(12,), dtype=int32, numpy=array([ 1,  2,  3,  4,  5,  6,  7,  8,  9, 10, 11, 12], dtype=int32)>"
            ]
          },
          "metadata": {},
          "execution_count": 81
        }
      ]
    },
    {
      "cell_type": "code",
      "source": [
        "tf.reshape(a,(2,2,3))"
      ],
      "metadata": {
        "colab": {
          "base_uri": "https://localhost:8080/"
        },
        "id": "9O-39AdaJt_Z",
        "outputId": "e3fa32b0-142c-412c-b72b-2fb00dff9755"
      },
      "id": "9O-39AdaJt_Z",
      "execution_count": 82,
      "outputs": [
        {
          "output_type": "execute_result",
          "data": {
            "text/plain": [
              "<tf.Tensor: shape=(2, 2, 3), dtype=int32, numpy=\n",
              "array([[[ 1,  2,  3],\n",
              "        [ 4,  5,  6]],\n",
              "\n",
              "       [[ 7,  8,  9],\n",
              "        [10, 11, 12]]], dtype=int32)>"
            ]
          },
          "metadata": {},
          "execution_count": 82
        }
      ]
    },
    {
      "cell_type": "code",
      "source": [
        "tf.reshape(a,(4,3))"
      ],
      "metadata": {
        "colab": {
          "base_uri": "https://localhost:8080/"
        },
        "id": "rLhsnqKRJxk-",
        "outputId": "9a54213c-ec23-4cb9-db98-3288f67aaed0"
      },
      "id": "rLhsnqKRJxk-",
      "execution_count": 83,
      "outputs": [
        {
          "output_type": "execute_result",
          "data": {
            "text/plain": [
              "<tf.Tensor: shape=(4, 3), dtype=int32, numpy=\n",
              "array([[ 1,  2,  3],\n",
              "       [ 4,  5,  6],\n",
              "       [ 7,  8,  9],\n",
              "       [10, 11, 12]], dtype=int32)>"
            ]
          },
          "metadata": {},
          "execution_count": 83
        }
      ]
    },
    {
      "cell_type": "markdown",
      "source": [
        "* `-1` 을 기입하면 남은 차원 수를 알아서 기입해줌 `-1` = `?` 라고 생각"
      ],
      "metadata": {
        "id": "2-LjEwjKKDJd"
      },
      "id": "2-LjEwjKKDJd"
    },
    {
      "cell_type": "code",
      "source": [
        "tf.reshape(a,(4,-1))"
      ],
      "metadata": {
        "colab": {
          "base_uri": "https://localhost:8080/"
        },
        "id": "4g8perxxJ-xe",
        "outputId": "1728f17b-b7a0-4704-b8f6-b572a844657e"
      },
      "id": "4g8perxxJ-xe",
      "execution_count": 86,
      "outputs": [
        {
          "output_type": "execute_result",
          "data": {
            "text/plain": [
              "<tf.Tensor: shape=(4, 3), dtype=int32, numpy=\n",
              "array([[ 1,  2,  3],\n",
              "       [ 4,  5,  6],\n",
              "       [ 7,  8,  9],\n",
              "       [10, 11, 12]], dtype=int32)>"
            ]
          },
          "metadata": {},
          "execution_count": 86
        }
      ]
    },
    {
      "cell_type": "code",
      "source": [
        "b= tf.reshape(a,(2,2,-1))\n",
        "b"
      ],
      "metadata": {
        "colab": {
          "base_uri": "https://localhost:8080/"
        },
        "id": "tJobZo4sKM6p",
        "outputId": "822961e9-dc60-4dbd-b93c-f407b0acdacc"
      },
      "id": "tJobZo4sKM6p",
      "execution_count": 89,
      "outputs": [
        {
          "output_type": "execute_result",
          "data": {
            "text/plain": [
              "<tf.Tensor: shape=(2, 2, 3), dtype=int32, numpy=\n",
              "array([[[ 1,  2,  3],\n",
              "        [ 4,  5,  6]],\n",
              "\n",
              "       [[ 7,  8,  9],\n",
              "        [10, 11, 12]]], dtype=int32)>"
            ]
          },
          "metadata": {},
          "execution_count": 89
        }
      ]
    },
    {
      "cell_type": "markdown",
      "source": [
        "`-` 다시 일차원으로 되돌림 "
      ],
      "metadata": {
        "id": "zCN98xgCKcsH"
      },
      "id": "zCN98xgCKcsH"
    },
    {
      "cell_type": "code",
      "source": [
        "tf.reshape(b,-1)"
      ],
      "metadata": {
        "colab": {
          "base_uri": "https://localhost:8080/"
        },
        "id": "cgabDzJoKYVV",
        "outputId": "2ca02020-9170-4ada-d9b1-f351d0c4823c"
      },
      "id": "cgabDzJoKYVV",
      "execution_count": 90,
      "outputs": [
        {
          "output_type": "execute_result",
          "data": {
            "text/plain": [
              "<tf.Tensor: shape=(12,), dtype=int32, numpy=array([ 1,  2,  3,  4,  5,  6,  7,  8,  9, 10, 11, 12], dtype=int32)>"
            ]
          },
          "metadata": {},
          "execution_count": 90
        }
      ]
    },
    {
      "cell_type": "markdown",
      "id": "327eb735-9f41-40d5-8837-1ff630860b58",
      "metadata": {
        "id": "327eb735-9f41-40d5-8837-1ff630860b58"
      },
      "source": [
        "## 선언고급 "
      ]
    },
    {
      "cell_type": "markdown",
      "source": [
        "`-` 리스트나, 넘파이로 만들고 output을 tensor로 변경하는 것도 좋은 방법이다."
      ],
      "metadata": {
        "id": "Np37nBqvKku5"
      },
      "id": "Np37nBqvKku5"
    },
    {
      "cell_type": "code",
      "source": [
        "ㅣ = [1,2,3,4]\n",
        "tf.constant(np.diag(ㅣ))"
      ],
      "metadata": {
        "colab": {
          "base_uri": "https://localhost:8080/"
        },
        "id": "MgFK7WSvKv6g",
        "outputId": "0a8d2da2-413c-4ceb-ced9-6281f4feb432"
      },
      "id": "MgFK7WSvKv6g",
      "execution_count": 93,
      "outputs": [
        {
          "output_type": "execute_result",
          "data": {
            "text/plain": [
              "<tf.Tensor: shape=(4, 4), dtype=int64, numpy=\n",
              "array([[1, 0, 0, 0],\n",
              "       [0, 2, 0, 0],\n",
              "       [0, 0, 3, 0],\n",
              "       [0, 0, 0, 4]])>"
            ]
          },
          "metadata": {},
          "execution_count": 93
        }
      ]
    },
    {
      "cell_type": "markdown",
      "source": [
        "`-` tf.ones, tf.zeros "
      ],
      "metadata": {
        "id": "UY8BKlU1K8zt"
      },
      "id": "UY8BKlU1K8zt"
    },
    {
      "cell_type": "code",
      "source": [
        "tf.zeros([3,3])"
      ],
      "metadata": {
        "colab": {
          "base_uri": "https://localhost:8080/"
        },
        "id": "umziaBtgLEy-",
        "outputId": "41cad85b-2b57-46fb-90e0-0616eefa4860"
      },
      "id": "umziaBtgLEy-",
      "execution_count": 94,
      "outputs": [
        {
          "output_type": "execute_result",
          "data": {
            "text/plain": [
              "<tf.Tensor: shape=(3, 3), dtype=float32, numpy=\n",
              "array([[0., 0., 0.],\n",
              "       [0., 0., 0.],\n",
              "       [0., 0., 0.]], dtype=float32)>"
            ]
          },
          "metadata": {},
          "execution_count": 94
        }
      ]
    },
    {
      "cell_type": "markdown",
      "source": [
        "`-` tf.linspace(0,1,10)"
      ],
      "metadata": {
        "id": "7rNbZvdyMH_n"
      },
      "id": "7rNbZvdyMH_n"
    },
    {
      "cell_type": "code",
      "source": [
        "tf.linspace(0,1,10)"
      ],
      "metadata": {
        "colab": {
          "base_uri": "https://localhost:8080/"
        },
        "id": "5qffbijkML-Q",
        "outputId": "72ac7fb5-cdc8-4f32-c22b-bc05e7da4e07"
      },
      "id": "5qffbijkML-Q",
      "execution_count": 95,
      "outputs": [
        {
          "output_type": "execute_result",
          "data": {
            "text/plain": [
              "<tf.Tensor: shape=(10,), dtype=float64, numpy=\n",
              "array([0.        , 0.11111111, 0.22222222, 0.33333333, 0.44444444,\n",
              "       0.55555556, 0.66666667, 0.77777778, 0.88888889, 1.        ])>"
            ]
          },
          "metadata": {},
          "execution_count": 95
        }
      ]
    },
    {
      "cell_type": "markdown",
      "id": "2d0f27b7-688e-437a-856a-7ebb6d6a4a27",
      "metadata": {
        "id": "2d0f27b7-688e-437a-856a-7ebb6d6a4a27"
      },
      "source": [
        "## tf.concat "
      ]
    },
    {
      "cell_type": "markdown",
      "id": "fd8402bf-ccef-414e-a574-22524b02b593",
      "metadata": {
        "id": "fd8402bf-ccef-414e-a574-22524b02b593"
      },
      "source": [
        "## tf.stack "
      ]
    },
    {
      "cell_type": "markdown",
      "id": "57cefe0a-61fa-451a-8b7c-cf27ceb750b6",
      "metadata": {
        "tags": [],
        "id": "57cefe0a-61fa-451a-8b7c-cf27ceb750b6"
      },
      "source": [
        "## tf.einsum"
      ]
    },
    {
      "cell_type": "markdown",
      "id": "d314cfb7-f3f1-496d-b5cb-ac6f57eaa503",
      "metadata": {
        "id": "d314cfb7-f3f1-496d-b5cb-ac6f57eaa503"
      },
      "source": [
        "# tnp"
      ]
    },
    {
      "cell_type": "markdown",
      "id": "de010dbc-4294-4a4f-a861-c13799fe1eb6",
      "metadata": {
        "id": "de010dbc-4294-4a4f-a861-c13799fe1eb6"
      },
      "source": [
        "## tnp 사용방법 (불만해결방법)"
      ]
    },
    {
      "cell_type": "markdown",
      "id": "a7e4538a-52ff-4f84-8ac9-5381e0970fef",
      "metadata": {
        "id": "a7e4538a-52ff-4f84-8ac9-5381e0970fef"
      },
      "source": [
        "#### 선언, 선언고급"
      ]
    },
    {
      "cell_type": "markdown",
      "id": "c1a84f81-fff4-4a5a-b8b2-8045ba3943fe",
      "metadata": {
        "id": "c1a84f81-fff4-4a5a-b8b2-8045ba3943fe"
      },
      "source": [
        "#### 타입"
      ]
    },
    {
      "cell_type": "markdown",
      "id": "bb759864-ef75-4ba0-9a11-d10cca6669f3",
      "metadata": {
        "id": "bb759864-ef75-4ba0-9a11-d10cca6669f3"
      },
      "source": [
        "#### tf.contant로 만들어도 마치 넘파이인듯 쓰는 기능들"
      ]
    },
    {
      "cell_type": "markdown",
      "id": "8426767e-976c-4e35-a390-7f2943ec4e8d",
      "metadata": {
        "id": "8426767e-976c-4e35-a390-7f2943ec4e8d"
      },
      "source": [
        "#### 그렇지만 np.array는 아님 "
      ]
    },
    {
      "cell_type": "markdown",
      "id": "134e8dc9-4dcf-4802-b6c8-ca0178d2792d",
      "metadata": {
        "id": "134e8dc9-4dcf-4802-b6c8-ca0178d2792d"
      },
      "source": [
        "### tf.Variable"
      ]
    },
    {
      "cell_type": "markdown",
      "id": "da5a80db-9fe7-4c46-b210-dd10a07fef3b",
      "metadata": {
        "id": "da5a80db-9fe7-4c46-b210-dd10a07fef3b"
      },
      "source": [
        "#### 선언 "
      ]
    },
    {
      "cell_type": "markdown",
      "id": "e60dd0db-f157-4def-802d-613b2bd20804",
      "metadata": {
        "id": "e60dd0db-f157-4def-802d-613b2bd20804"
      },
      "source": [
        "#### 타입"
      ]
    },
    {
      "cell_type": "markdown",
      "id": "ea5946ae-2c9a-4d31-8720-5c136a024eca",
      "metadata": {
        "id": "ea5946ae-2c9a-4d31-8720-5c136a024eca"
      },
      "source": [
        "#### 인덱싱 "
      ]
    },
    {
      "cell_type": "markdown",
      "id": "7e469d06-98f9-4470-a654-299a97383706",
      "metadata": {
        "id": "7e469d06-98f9-4470-a654-299a97383706"
      },
      "source": [
        "#### tf.Variable $\\to$ 넘파이 "
      ]
    },
    {
      "cell_type": "markdown",
      "id": "065ea0b5-16ea-4884-b640-ac074d0c44ce",
      "metadata": {
        "id": "065ea0b5-16ea-4884-b640-ac074d0c44ce"
      },
      "source": [
        "#### tf.Variable 도 불편하다. "
      ]
    },
    {
      "cell_type": "markdown",
      "id": "6f802f8d-2562-4af8-b386-199fb01461c5",
      "metadata": {
        "id": "6f802f8d-2562-4af8-b386-199fb01461c5"
      },
      "source": [
        "#### 연산 "
      ]
    },
    {
      "cell_type": "markdown",
      "id": "5ae73107-074f-4c65-8ebb-4bf54e889b4c",
      "metadata": {
        "id": "5ae73107-074f-4c65-8ebb-4bf54e889b4c"
      },
      "source": [
        "#### 형태변환 "
      ]
    },
    {
      "cell_type": "markdown",
      "id": "a9b7e7eb-aeb9-491b-83d7-4a3d26334364",
      "metadata": {
        "id": "a9b7e7eb-aeb9-491b-83d7-4a3d26334364"
      },
      "source": [
        "#### 선언고급 "
      ]
    },
    {
      "cell_type": "markdown",
      "id": "ac9fb364-db20-4174-8b1d-5a476436fe77",
      "metadata": {
        "id": "ac9fb364-db20-4174-8b1d-5a476436fe77"
      },
      "source": [
        "#### tf.concat "
      ]
    },
    {
      "cell_type": "markdown",
      "id": "fc96fc7a-a57e-4eee-9931-88bca5d3e0f6",
      "metadata": {
        "id": "fc96fc7a-a57e-4eee-9931-88bca5d3e0f6"
      },
      "source": [
        "#### tf.stack"
      ]
    },
    {
      "cell_type": "markdown",
      "id": "43844a72-d627-49f1-8146-36859459a654",
      "metadata": {
        "id": "43844a72-d627-49f1-8146-36859459a654"
      },
      "source": [
        "#### 심지어 tf.Variable()로 만들어진 오브젝트는 tnp의 효과(은총)도 받지 못함"
      ]
    }
  ],
  "metadata": {
    "kernelspec": {
      "display_name": "Python 3",
      "language": "python",
      "name": "python3"
    },
    "language_info": {
      "codemirror_mode": {
        "name": "ipython",
        "version": 3
      },
      "file_extension": ".py",
      "mimetype": "text/x-python",
      "name": "python",
      "nbconvert_exporter": "python",
      "pygments_lexer": "ipython3",
      "version": "3.9.7"
    },
    "colab": {
      "name": "2022-03-14-(2주차).ipynb의 사본",
      "provenance": [],
      "toc_visible": true,
      "collapsed_sections": []
    },
    "accelerator": "GPU"
  },
  "nbformat": 4,
  "nbformat_minor": 5
}