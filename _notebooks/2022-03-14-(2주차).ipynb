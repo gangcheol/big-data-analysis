{
  "nbformat": 4,
  "nbformat_minor": 0,
  "metadata": {
    "colab": {
      "name": "2022-03-14-빅데이터분석.ipynb",
      "provenance": [],
      "collapsed_sections": [],
      "toc_visible": true
    },
    "kernelspec": {
      "name": "python3",
      "display_name": "Python 3"
    },
    "language_info": {
      "name": "python"
    }
  },
  "cells": [
    {
      "cell_type": "markdown",
      "source": [
        "# (2주차) \n",
        "\n",
        "- toc:true\n",
        "- branch: master\n",
        "- badges: true\n",
        "- comments: true\n",
        "- author: 최규빈\n",
        "- categories: [python]\n",
        "- hide :false\n",
        "- published: true\n",
        "- editor : 전북대학교 통계학과 이강철"
      ],
      "metadata": {
        "id": "PC2n6iwkpA9i"
      }
    },
    {
      "cell_type": "markdown",
      "source": [
        "# 1주차 복습"
      ],
      "metadata": {
        "id": "qJS4vmdaPYfL"
      }
    },
    {
      "cell_type": "markdown",
      "source": [
        "## 회귀계수 추정치"
      ],
      "metadata": {
        "id": "Ro8w-ofESkDo"
      }
    },
    {
      "cell_type": "markdown",
      "source": [
        "* 단순선형회귀의 경우 일반적인 베타계수의 추정치 "
      ],
      "metadata": {
        "id": "qHG0QqQTP2ET"
      }
    },
    {
      "cell_type": "markdown",
      "source": [
        "$\\hat {\\beta_0} = \\bar y - \\beta _1\\bar x, \\quad \\hat {\\beta_1} = \\frac {S_{xy}} {S_{xx}}$"
      ],
      "metadata": {
        "id": "UcDoVH3uPWhA"
      }
    },
    {
      "cell_type": "markdown",
      "source": [
        "* 다중 회귀의 경우"
      ],
      "metadata": {
        "id": "45uS6IQ8P6JM"
      }
    },
    {
      "cell_type": "markdown",
      "source": [
        "$$L=loss =({\\bf y}-{\\bf X}{\\boldsymbol \\beta})^\\top({\\bf y}-{\\bf X}{\\boldsymbol \\beta})$$ "
      ],
      "metadata": {
        "id": "pAIeJNbqSo4C"
      }
    },
    {
      "cell_type": "markdown",
      "source": [
        "\n",
        "$$ L= {\\bf y}^\\top {\\bf y} - {\\bf y}^\\top {\\bf X}{\\boldsymbol\\beta} - {\\boldsymbol\\beta}^\\top {\\bf X}^\\top {\\bf y} + {\\boldsymbol\\beta}^\\top {\\bf X}^\\top {\\bf X} {\\boldsymbol\\beta}$$"
      ],
      "metadata": {
        "id": "EDq22dVqWQH3"
      }
    },
    {
      "cell_type": "markdown",
      "source": [
        "* 위를 미분하면"
      ],
      "metadata": {
        "id": "ueOzBQ7bTLdB"
      }
    },
    {
      "cell_type": "markdown",
      "source": [
        "$$\\frac{\\partial}{\\partial \\boldsymbol{\\beta}} L = \\frac{\\partial}{\\partial \\boldsymbol{\\beta}} {\\bf y}^\\top {\\bf y} - \\frac{\\partial}{\\partial \\boldsymbol{\\beta}} {\\bf y}^\\top {\\bf X}{\\boldsymbol\\beta} - \\frac{\\partial}{\\partial \\boldsymbol{\\beta}} {\\boldsymbol\\beta}^\\top {\\bf X}^\\top {\\bf y} + \\frac{\\partial}{\\partial \\boldsymbol{\\beta}} {\\boldsymbol\\beta}^\\top {\\bf X}^\\top {\\bf X} {\\boldsymbol\\beta}  $$"
      ],
      "metadata": {
        "id": "vEvqDfs_TD2q"
      }
    },
    {
      "cell_type": "markdown",
      "source": [
        "\n",
        " $$\\frac{\\partial}{\\partial \\boldsymbol{\\beta}} L=- \\mathbf{X^{\\top}y} - \\mathbf{X^{\\top}y} + 2\\mathbf{X^{\\top}X\\boldsymbol \\beta}$$"
      ],
      "metadata": {
        "id": "Um6CLOwbWiFz"
      }
    },
    {
      "cell_type": "markdown",
      "source": [
        "따라서"
      ],
      "metadata": {
        "id": "5Dl3VukqT86X"
      }
    },
    {
      "cell_type": "markdown",
      "source": [
        "$$\\quad \\bf{X^{\\top}X}\\beta\n",
        " = \\bf{X^{\\top}Y}$$"
      ],
      "metadata": {
        "id": "TIonbMLwTrzS"
      }
    },
    {
      "cell_type": "markdown",
      "source": [
        "$$\\therefore \\quad \\hat {\\beta} = \\left(\\bf{X^{\\top}X}^{-1}\\right)XY$$"
      ],
      "metadata": {
        "id": "Nl44XXJHTd78"
      }
    }
  ]
}