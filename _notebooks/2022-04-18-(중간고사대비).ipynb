{
  "nbformat": 4,
  "nbformat_minor": 0,
  "metadata": {
    "colab": {
      "name": "2022-04-18-(중간고사 대비).ipynb",
      "provenance": [],
      "collapsed_sections": [],
      "toc_visible": true
    },
    "kernelspec": {
      "name": "python3",
      "display_name": "Python 3"
    },
    "language_info": {
      "name": "python"
    },
    "accelerator": "GPU"
  },
  "cells": [
    {
      "cell_type": "markdown",
      "source": [
        "# 중간고사 대비\n",
        "\n",
        "- toc:true\n",
        "- branch: master\n",
        "- badges: true\n",
        "- comments: true\n",
        "- editor : 이강철\n",
        "- hide : false\n",
        "- published : true"
      ],
      "metadata": {
        "id": "Im5ANgq-NHMe"
      }
    },
    {
      "cell_type": "markdown",
      "source": [
        "## 1주차 : 단순선형회귀"
      ],
      "metadata": {
        "id": "M5Ly2hkNNLeW"
      }
    },
    {
      "cell_type": "code",
      "source": [
        "import numpy as np\n",
        "import matplotlib.pyplot as plt\n",
        "import tensorflow as tf"
      ],
      "metadata": {
        "id": "QFi4n2LMNgvV"
      },
      "execution_count": null,
      "outputs": []
    },
    {
      "cell_type": "markdown",
      "source": [
        "### 온도에 따른 아메리카노 판매량"
      ],
      "metadata": {
        "id": "sqeNWL_RNrGb"
      }
    },
    {
      "cell_type": "markdown",
      "source": [
        "$$아이스 아메리카노  = \\beta_1 \\times 온도 + \\varepsilon$$"
      ],
      "metadata": {
        "id": "2-ZnDMLvNxLM"
      }
    },
    {
      "cell_type": "markdown",
      "source": [
        "`-` 온도 $\\bf{x}$를 아래와 같이 생성"
      ],
      "metadata": {
        "id": "zjWimtHON4eM"
      }
    },
    {
      "cell_type": "code",
      "source": [
        "x = tf.constant([20.1,22.2,22.7,23.3,24.4,25.1,26.2,27.3,28.4,30.4])\n",
        "x"
      ],
      "metadata": {
        "colab": {
          "base_uri": "https://localhost:8080/"
        },
        "id": "2OfRbLgDOGWW",
        "outputId": "1491d951-e18b-4266-968e-35f66c1127cc"
      },
      "execution_count": null,
      "outputs": [
        {
          "output_type": "execute_result",
          "data": {
            "text/plain": [
              "<tf.Tensor: shape=(10,), dtype=float32, numpy=\n",
              "array([20.1, 22.2, 22.7, 23.3, 24.4, 25.1, 26.2, 27.3, 28.4, 30.4],\n",
              "      dtype=float32)>"
            ]
          },
          "metadata": {},
          "execution_count": 43
        }
      ]
    },
    {
      "cell_type": "markdown",
      "source": [
        "`-` 가정 : 만약 아메리카노 판매량 $\\bf{y}$가 아래와 같다고 하자"
      ],
      "metadata": {
        "id": "Znsq7N-fOOsK"
      }
    },
    {
      "cell_type": "markdown",
      "source": [
        "$$ \\bf {y} \\approx 10.2 + 2.2 \\bf{x}$$"
      ],
      "metadata": {
        "id": "7W3Z1FzdOZpv"
      }
    },
    {
      "cell_type": "code",
      "source": [
        "tf.random.set_seed(202150256)\n",
        "\n",
        "epsilon = tf.random.normal([10])\n",
        "y = 10.2 + 2.2*x + epsilon\n",
        "y"
      ],
      "metadata": {
        "colab": {
          "base_uri": "https://localhost:8080/"
        },
        "id": "61His9FtOetV",
        "outputId": "6a882286-d881-47c6-f175-953fce923f01"
      },
      "execution_count": null,
      "outputs": [
        {
          "output_type": "execute_result",
          "data": {
            "text/plain": [
              "<tf.Tensor: shape=(10,), dtype=float32, numpy=\n",
              "array([53.728127, 57.886845, 59.39006 , 63.192116, 63.904133, 63.547157,\n",
              "       68.00105 , 70.056755, 72.11336 , 78.33952 ], dtype=float32)>"
            ]
          },
          "metadata": {},
          "execution_count": 83
        }
      ]
    },
    {
      "cell_type": "markdown",
      "source": [
        "`-` 일상적인 데이터 형식에서 다음과 같이 자료를 모은 셈이다 "
      ],
      "metadata": {
        "id": "kOTdqQ69O04B"
      }
    },
    {
      "cell_type": "code",
      "source": [
        "tf.transpose(tf.concat([[x],[y]],0))"
      ],
      "metadata": {
        "colab": {
          "base_uri": "https://localhost:8080/"
        },
        "id": "_-mGBagRO73Y",
        "outputId": "19be23f4-16ef-48ee-c6fd-f54c401cb3a6"
      },
      "execution_count": null,
      "outputs": [
        {
          "output_type": "execute_result",
          "data": {
            "text/plain": [
              "<tf.Tensor: shape=(10, 2), dtype=float32, numpy=\n",
              "array([[20.1     , 53.728127],\n",
              "       [22.2     , 57.886845],\n",
              "       [22.7     , 59.39006 ],\n",
              "       [23.3     , 63.192116],\n",
              "       [24.4     , 63.904133],\n",
              "       [25.1     , 63.547157],\n",
              "       [26.2     , 68.00105 ],\n",
              "       [27.3     , 70.056755],\n",
              "       [28.4     , 72.11336 ],\n",
              "       [30.4     , 78.33952 ]], dtype=float32)>"
            ]
          },
          "metadata": {},
          "execution_count": 84
        }
      ]
    },
    {
      "cell_type": "markdown",
      "source": [
        "### 도식화 "
      ],
      "metadata": {
        "id": "v1RdDB_EPPor"
      }
    },
    {
      "cell_type": "code",
      "source": [
        "plt.figure(figsize=(8,6))\n",
        "plt.plot(x,y,\".\",label=\"y\")\n",
        "plt.plot(x,10.2+2.2*x,\"--\",label =\"hat y\")\n",
        "plt.legend()"
      ],
      "metadata": {
        "colab": {
          "base_uri": "https://localhost:8080/",
          "height": 392
        },
        "id": "jSAGO7FuPZB4",
        "outputId": "358322b5-8144-4d5f-8da6-198f23155717"
      },
      "execution_count": null,
      "outputs": [
        {
          "output_type": "execute_result",
          "data": {
            "text/plain": [
              "<matplotlib.legend.Legend at 0x7ff99b361c50>"
            ]
          },
          "metadata": {},
          "execution_count": 85
        },
        {
          "output_type": "display_data",
          "data": {
            "text/plain": [
              "<Figure size 576x432 with 1 Axes>"
            ],
            "image/png": "[encoded data removed]"
          },
          "metadata": {
            "needs_background": "light"
          }
        }
      ]
    },
    {
      "cell_type": "markdown",
      "source": [
        "### 목표"
      ],
      "metadata": {
        "id": "3cr2TKspQHMK"
      }
    },
    {
      "cell_type": "markdown",
      "source": [
        "$$loss = \\sum (y - \\hat {y})^2 $$"
      ],
      "metadata": {
        "id": "XBHIVnVVQIyB"
      }
    },
    {
      "cell_type": "markdown",
      "source": [
        "* `loss`를 최소화 하는 것이 우리의 목표이다."
      ],
      "metadata": {
        "id": "qIBP6IGjQR5T"
      }
    },
    {
      "cell_type": "markdown",
      "source": [
        "* 일일이 $\\beta_i$의 값을 집어넣으면 `loss`를 최소화하는 $\\beta_i$를 구할 수 있지만 사실상 무한번 저 과정을 반복하는 것은 불가능하다."
      ],
      "metadata": {
        "id": "YDfZj3PaQZPw"
      }
    },
    {
      "cell_type": "markdown",
      "source": [
        "* 따라서 위를 각각의 $\\beta_i$로 미분하면 다음과 같이 구할 수 있다."
      ],
      "metadata": {
        "id": "W74KNlG-REB5"
      }
    },
    {
      "cell_type": "markdown",
      "source": [
        "$$\\hat {\\beta_1} = \\frac {S_{xy}}{S_{xx}}  = \\frac {\\sum (x-\\bar x)(y-\\bar y)}{\\sum {(x-\\bar x)^2}}$$"
      ],
      "metadata": {
        "id": "ZCHIY8bvRNEA"
      }
    },
    {
      "cell_type": "markdown",
      "source": [
        "$$\\hat {\\beta_0} =  \\bar y - \\hat {\\beta_1}\\bar x $$"
      ],
      "metadata": {
        "id": "wuNRN8VBRcuW"
      }
    },
    {
      "cell_type": "code",
      "source": [
        "import numpy as np"
      ],
      "metadata": {
        "id": "VdbQ0RfKSP7l"
      },
      "execution_count": null,
      "outputs": []
    },
    {
      "cell_type": "code",
      "source": [
        "Sxx = sum((x- np.mean(x))**2)\n",
        "Sxy = sum((x-np.mean(x))*(y-np.mean(y)))"
      ],
      "metadata": {
        "id": "peF6TDUdR05n"
      },
      "execution_count": null,
      "outputs": []
    },
    {
      "cell_type": "code",
      "source": [
        "hat_b1 = Sxy/Sxx\n",
        "hat_b0 = np.mean(y) - hat_b1*np.mean(x)"
      ],
      "metadata": {
        "id": "kyWKn1qeSDkP"
      },
      "execution_count": null,
      "outputs": []
    },
    {
      "cell_type": "code",
      "source": [
        "hat_b1,hat_b0"
      ],
      "metadata": {
        "colab": {
          "base_uri": "https://localhost:8080/"
        },
        "id": "1115E7J1SLOa",
        "outputId": "23db613f-f635-410d-f537-0db97b7cc44e"
      },
      "execution_count": null,
      "outputs": [
        {
          "output_type": "execute_result",
          "data": {
            "text/plain": [
              "(<tf.Tensor: shape=(), dtype=float32, numpy=2.311769>,\n",
              " <tf.Tensor: shape=(), dtype=float32, numpy=7.198574>)"
            ]
          },
          "metadata": {},
          "execution_count": 92
        }
      ]
    },
    {
      "cell_type": "markdown",
      "source": [
        "`-` 위의 그래프와 비교해보자"
      ],
      "metadata": {
        "id": "BuhnJeEmS4kp"
      }
    },
    {
      "cell_type": "markdown",
      "source": [
        "* $y$ : 실제 값\n",
        "* $\\hat {y_1}$ : 우리가 일전에 가정한 것(세상의 법칡)\n",
        "* $\\hat {y_2}$ : 미분으로 구한 베타 추정치"
      ],
      "metadata": {
        "id": "JRoe03p7TFl3"
      }
    },
    {
      "cell_type": "markdown",
      "source": [
        "$$\\hat {y_1} = 10.2 + 2.2 x$$"
      ],
      "metadata": {
        "id": "1Mj3lHMGTs-5"
      }
    },
    {
      "cell_type": "markdown",
      "source": [
        "$$\\hat  {y_2} = \\hat {\\beta_{0,2}} + \\hat {\\beta_{1,2}} \\times x $$"
      ],
      "metadata": {
        "id": "Jessh9w0TwTd"
      }
    },
    {
      "cell_type": "code",
      "source": [
        "plt.figure(figsize = (10,6))\n",
        "plt.plot(x, y,\".\", label = \"y\")\n",
        "plt.plot(x, 10.2+2.2*x,\"--\", label = \"hat y1\")\n",
        "plt.plot(x, hat_b1*x + hat_b0, label = \"hat y2\")\n",
        "plt.legend()"
      ],
      "metadata": {
        "colab": {
          "base_uri": "https://localhost:8080/",
          "height": 392
        },
        "id": "hd1swpLcTgP1",
        "outputId": "c794fa91-06c4-4de5-f168-a577d0617fa5"
      },
      "execution_count": null,
      "outputs": [
        {
          "output_type": "execute_result",
          "data": {
            "text/plain": [
              "<matplotlib.legend.Legend at 0x7ff99cd223d0>"
            ]
          },
          "metadata": {},
          "execution_count": 93
        },
        {
          "output_type": "display_data",
          "data": {
            "text/plain": [
              "<Figure size 720x432 with 1 Axes>"
            ],
            "image/png": "[encoded data removed]"
          },
          "metadata": {
            "needs_background": "light"
          }
        }
      ]
    },
    {
      "cell_type": "markdown",
      "source": [
        "*  여튼 미분을 통해서 $\\beta_i$를 추정한다는 것은 수학적 관점에서 꽤나 훌륭한 방법인 것 같다."
      ],
      "metadata": {
        "id": "IM7X-8QeV7gE"
      }
    },
    {
      "cell_type": "markdown",
      "source": [
        "* 그러나 만약 $x_i,i = 1,2,\\dots 10009$  이런식으로 무수히 많은 변수가 존재할 경우 확장이 어렵고 \\beta_i 를 추정하는데 어마어마한 시간이 걸릴 것임"
      ],
      "metadata": {
        "id": "MwtRdD4gWBRG"
      }
    },
    {
      "cell_type": "markdown",
      "source": [
        "* 이를 행렬구조로 바꾸어서 생각해보자"
      ],
      "metadata": {
        "id": "Naxiqc9HWVen"
      }
    },
    {
      "cell_type": "markdown",
      "source": [
        "$$ \\bf {y} = \\bf {x} \\boldsymbol{\\beta} + \\boldsymbol{\\varepsilon}$$"
      ],
      "metadata": {
        "id": "ob-kUEPZWfCG"
      }
    },
    {
      "cell_type": "markdown",
      "source": [
        "* $\\bf {y} \\to (n\\times 1)$"
      ],
      "metadata": {
        "id": "nV_goCanW-fj"
      }
    },
    {
      "cell_type": "markdown",
      "source": [
        "* $\\bf {x} \\to  (n \\times p), \\quad \\boldsymbol {\\beta} \\to (\\bf p \\times 1), \\quad \\therefore \\quad \\bf {x} \\boldsymbol{\\beta} \\to (n \\times 1)$"
      ],
      "metadata": {
        "id": "S5cNnVsmXIoY"
      }
    },
    {
      "cell_type": "markdown",
      "source": [
        "* $\\boldsymbol {\\varepsilon} \\to (\\bf n \\times 1)$"
      ],
      "metadata": {
        "id": "Qvk3VbtJXX8Z"
      }
    },
    {
      "cell_type": "markdown",
      "source": [
        "$$loss = \\sum (y- \\hat y)^2 = (\\bf y - \\bf X \\boldsymbol {\\beta} )^{\\top}(\\bf y - \\bf X \\boldsymbol {\\beta} ) $$"
      ],
      "metadata": {
        "id": "y73keZCOYQXB"
      }
    },
    {
      "cell_type": "markdown",
      "source": [
        "위를 풀면"
      ],
      "metadata": {
        "id": "ew8TkmBeYrgm"
      }
    },
    {
      "cell_type": "markdown",
      "source": [
        "$$loss = \\bf y^{\\top}y - \\bf y^{\\top}\\bf X \\boldsymbol{\\beta}  -\\boldsymbol {\\beta}^{\\top} \\bf {X}^{\\top}y + \\boldsymbol {\\beta}^{\\top}\\bf{X}^{\\top}\\bf X \\boldsymbol {\\beta}$$"
      ],
      "metadata": {
        "id": "D-7lWcszYsy5"
      }
    },
    {
      "cell_type": "markdown",
      "source": [
        "위를 미분하여  $loss$를 최소화하는 $\\hat {\\boldsymbol {\\beta}}$를 구하면"
      ],
      "metadata": {
        "id": "tcDMKKlTZVdc"
      }
    },
    {
      "cell_type": "markdown",
      "source": [
        "$$\\hat {\\boldsymbol {\\beta}} = (\\bf {X^{\\top} X})^{-1} \\bf X^{\\top} \\bf y$$ "
      ],
      "metadata": {
        "id": "A1nEa37GZhjc"
      }
    },
    {
      "cell_type": "markdown",
      "source": [
        "`-` 이제 직접 코드를 짜서 $loss$를 최소화하는 $\\hat {\\boldsymbol{\\beta}}$를 구해보자"
      ],
      "metadata": {
        "id": "ws3Tk4XyZ4t_"
      }
    },
    {
      "cell_type": "markdown",
      "source": [
        "#### 매트릭스를 이용한 베타 추정치 구하기"
      ],
      "metadata": {
        "id": "xR3vE2x1bWxb"
      }
    },
    {
      "cell_type": "code",
      "source": [
        "from tensorflow.python.ops.numpy_ops import np_config\n",
        "np_config.enable_numpy_behavior() ## numpy 처럼 사용하기 위해!"
      ],
      "metadata": {
        "id": "XZ9-4XhlfKxu"
      },
      "execution_count": 139,
      "outputs": []
    },
    {
      "cell_type": "code",
      "source": [
        "x = tf.constant([20.1,22.2,22.7,23.3,24.4,25.1,26.2,27.3,28.4,30.4])\n",
        "epsilon = tf.random.normal([10])\n",
        "y = 10.2 + 2.2*x + epsilon\n",
        "n = len(x)"
      ],
      "metadata": {
        "id": "ywvXrgAEcpH-"
      },
      "execution_count": 144,
      "outputs": []
    },
    {
      "cell_type": "code",
      "source": [
        "X = tf.concat([[[1.0]*n],[x]],0).T"
      ],
      "metadata": {
        "id": "clVlw17keOnH"
      },
      "execution_count": 145,
      "outputs": []
    },
    {
      "cell_type": "code",
      "source": [
        "X"
      ],
      "metadata": {
        "colab": {
          "base_uri": "https://localhost:8080/"
        },
        "id": "_O6Nh6CVe_Nj",
        "outputId": "7204bca2-10f0-48de-ad7c-b0c4937948bc"
      },
      "execution_count": 146,
      "outputs": [
        {
          "output_type": "execute_result",
          "data": {
            "text/plain": [
              "<tf.Tensor: shape=(10, 2), dtype=float32, numpy=\n",
              "array([[ 1. , 20.1],\n",
              "       [ 1. , 22.2],\n",
              "       [ 1. , 22.7],\n",
              "       [ 1. , 23.3],\n",
              "       [ 1. , 24.4],\n",
              "       [ 1. , 25.1],\n",
              "       [ 1. , 26.2],\n",
              "       [ 1. , 27.3],\n",
              "       [ 1. , 28.4],\n",
              "       [ 1. , 30.4]], dtype=float32)>"
            ]
          },
          "metadata": {},
          "execution_count": 146
        }
      ]
    },
    {
      "cell_type": "code",
      "source": [
        "print(tf.linalg.inv(X.T @ X) @ X.T @ y)"
      ],
      "metadata": {
        "colab": {
          "base_uri": "https://localhost:8080/"
        },
        "id": "WTxRjPgyfn8l",
        "outputId": "e4da7193-0593-41d9-a11b-663134e1e646"
      },
      "execution_count": 148,
      "outputs": [
        {
          "output_type": "stream",
          "name": "stdout",
          "text": [
            "tf.Tensor([9.045627  2.2322702], shape=(2,), dtype=float32)\n"
          ]
        }
      ]
    },
    {
      "cell_type": "markdown",
      "source": [
        "* 값이 좀 다르긴 한데 이는 텐서플로우가 계산을 대충하는 것임"
      ],
      "metadata": {
        "id": "goJI8Cc3f7SR"
      }
    },
    {
      "cell_type": "markdown",
      "source": [
        "* 실제로 정확한 계산을 위해  `tensorflow` 안에 내장된 `nummpy`를 이용하자"
      ],
      "metadata": {
        "id": "BQJKLgL5gCWc"
      }
    },
    {
      "cell_type": "markdown",
      "source": [
        "#### tensorflow의 정확한 계산을 위해!"
      ],
      "metadata": {
        "id": "-YzMkYj5hUCW"
      }
    },
    {
      "cell_type": "code",
      "source": [
        "import tensorflow.experimental.numpy as tnp"
      ],
      "metadata": {
        "id": "CR4bOJ2fgJ36"
      },
      "execution_count": 149,
      "outputs": []
    },
    {
      "cell_type": "code",
      "source": [
        "x = tnp.array([20.1, 22.2, 22.7, 23.3, 24.4, 25.1, 26.2, 27.3, 28.4, 30.4])\n",
        "y = 10.2 + 2.2 *x +epsilon"
      ],
      "metadata": {
        "id": "m3bWw3FAgONP"
      },
      "execution_count": 150,
      "outputs": []
    },
    {
      "cell_type": "code",
      "source": [
        "Sxx = sum((x-np.mean(x))**2)\n",
        "Sxy = sum((x-np.mean(x))* (y-np.mean(y)))\n",
        "beta1 =  Sxy/Sxx\n",
        "beta0 = np.mean(y) - beta1*np.mean(x)"
      ],
      "metadata": {
        "id": "OPfnvgttgU6c"
      },
      "execution_count": 154,
      "outputs": []
    },
    {
      "cell_type": "code",
      "source": [
        "[beta0,beta1]"
      ],
      "metadata": {
        "colab": {
          "base_uri": "https://localhost:8080/"
        },
        "id": "oUgdf59Qg5P9",
        "outputId": "c653e79a-82f8-4bc8-8eda-773711b4aa22"
      },
      "execution_count": 155,
      "outputs": [
        {
          "output_type": "execute_result",
          "data": {
            "text/plain": [
              "[<tf.Tensor: shape=(), dtype=float64, numpy=9.045680157770313>,\n",
              " <tf.Tensor: shape=(), dtype=float64, numpy=2.2322740618055756>]"
            ]
          },
          "metadata": {},
          "execution_count": 155
        }
      ]
    },
    {
      "cell_type": "code",
      "source": [
        "X = tnp.concatenate([[[1.0]*n],[x]]).T\n",
        "tf.linalg.inv(X.T @ X) @ X.T @ y"
      ],
      "metadata": {
        "colab": {
          "base_uri": "https://localhost:8080/"
        },
        "id": "eSkTvaFYg8qG",
        "outputId": "1fe69882-346b-4722-b70c-2022c914ab60"
      },
      "execution_count": 162,
      "outputs": [
        {
          "output_type": "execute_result",
          "data": {
            "text/plain": [
              "<tf.Tensor: shape=(2,), dtype=float64, numpy=array([9.04568016, 2.23227406])>"
            ]
          },
          "metadata": {},
          "execution_count": 162
        }
      ]
    },
    {
      "cell_type": "markdown",
      "source": [
        "***"
      ],
      "metadata": {
        "id": "dZ4zK2mwjzUB"
      }
    },
    {
      "cell_type": "markdown",
      "source": [
        "## Extra "
      ],
      "metadata": {
        "id": "JjERRM3Ej0dM"
      }
    },
    {
      "cell_type": "markdown",
      "source": [
        "$$L = loss = (\\bf y  -\\bf X \\boldsymbol{\\beta})^{\\top}(\\bf y  -\\bf X \\boldsymbol{\\beta})$$"
      ],
      "metadata": {
        "id": "9gXjLZXxj3fa"
      }
    },
    {
      "cell_type": "markdown",
      "source": [
        "* 위를 실제로 미분하여 수식을 써보장"
      ],
      "metadata": {
        "id": "hsCZLwQrkErY"
      }
    },
    {
      "cell_type": "markdown",
      "source": [
        "$L = \\bf y^{\\top}y - \\bf y^{\\top} \\bf X \\boldsymbol{\\beta} - \\boldsymbol {\\beta}^{\\top} \\bf X^{\\top}y + \\boldsymbol {\\beta}^{\\top} \\bf X^{\\top}X \\boldsymbol {\\beta}$"
      ],
      "metadata": {
        "id": "yTi_gLNxkJ3q"
      }
    },
    {
      "cell_type": "markdown",
      "source": [
        "기억하자 "
      ],
      "metadata": {
        "id": "hSSAIttNpvKq"
      }
    },
    {
      "cell_type": "markdown",
      "source": [
        "벡터든, 메트릭스든 $\\frac {\\partial}{\\partial {x}}x^{\\top}$는 $\\bf I$ 가 성립한다."
      ],
      "metadata": {
        "id": "TZ2iH5lQpwLI"
      }
    },
    {
      "cell_type": "markdown",
      "source": [
        "### 벡터 미분"
      ],
      "metadata": {
        "id": "U2VG9M9ikJmN"
      }
    },
    {
      "cell_type": "markdown",
      "source": [
        "`1`. $\\,\\,\\bf y^{\\top}y = \\sum y^{2}$"
      ],
      "metadata": {
        "id": "bjlHlNNsnRUa"
      }
    },
    {
      "cell_type": "markdown",
      "source": [
        "$\\bf {y} \\to (n \\times 1), \\quad \\bf {y}^{\\top} \\to (1 \\times n)$"
      ],
      "metadata": {
        "id": "Gr-DZU2Mm9lx"
      }
    },
    {
      "cell_type": "markdown",
      "source": [
        "$\\bf y^{\\top}y = \\sum y^{2}\\to (1\\times 1)$ 이므로"
      ],
      "metadata": {
        "id": "VIIjPY5NljMC"
      }
    },
    {
      "cell_type": "markdown",
      "source": [
        "$$\\therefore \\quad \\frac {\\partial \\sum y^2}{\\partial \\boldsymbol {\\beta}} = 0$$"
      ],
      "metadata": {
        "id": "Nv_7LnNWnXIG"
      }
    },
    {
      "cell_type": "markdown",
      "source": [
        "`2`.  $\\bf y^{\\top} X \\boldsymbol {\\beta}$ "
      ],
      "metadata": {
        "id": "S1MTC0YZnqJD"
      }
    },
    {
      "cell_type": "markdown",
      "source": [
        "$\\bf y^{\\top} X \\boldsymbol {\\beta} \\to (1\\times n)\\, (n\\times p)\\, (p \\times 1) = (1 \\times 1) $ 이는"
      ],
      "metadata": {
        "id": "PWEqr3WHn0fO"
      }
    },
    {
      "cell_type": "markdown",
      "source": [
        "$(\\bf y^{\\top} X \\boldsymbol {\\beta})^{\\top} = \\boldsymbol{\\beta}^{\\top} \\bf X^ {\\top} \\bf y  $ 를 의미한다"
      ],
      "metadata": {
        "id": "mUgIbryTpIKP"
      }
    },
    {
      "cell_type": "markdown",
      "source": [
        "따라서"
      ],
      "metadata": {
        "id": "KcZBeMlmptee"
      }
    },
    {
      "cell_type": "markdown",
      "source": [
        "$$\\frac {\\partial }{\\partial \\boldsymbol \\beta} \\left (\\boldsymbol {\\beta}^{\\top}\\bf X^{\\top}\\bf y\\right )= \\bf X^{\\top}\\bf y$$"
      ],
      "metadata": {
        "id": "gkmXSRoKqiWT"
      }
    },
    {
      "cell_type": "markdown",
      "source": [
        "`3`. $\\boldsymbol {\\beta}^{\\top} \\bf {X}^{\\top} \\bf {X} \\boldsymbol {\\beta}$"
      ],
      "metadata": {
        "id": "WUZ5xBa3rqWa"
      }
    },
    {
      "cell_type": "markdown",
      "source": [
        "알아야할 것 2"
      ],
      "metadata": {
        "id": "vM3EuA34sGSj"
      }
    },
    {
      "cell_type": "markdown",
      "source": [
        "$\\frac {\\partial}{\\partial y} y^{\\top}y \\neq = \\bf I y$ 가 성립한다.\n"
      ],
      "metadata": {
        "id": "SdhrgVGksJHf"
      }
    },
    {
      "cell_type": "markdown",
      "source": [
        "because !!"
      ],
      "metadata": {
        "id": "EygU-v1TsprY"
      }
    },
    {
      "cell_type": "markdown",
      "source": [
        "$y^{\\top}y= y_1^{2} + y_2^{2}\\dots y_n^{2}$ 이고"
      ],
      "metadata": {
        "id": "_YrDZU-ustLl"
      }
    },
    {
      "cell_type": "markdown",
      "source": [
        "$\\partial \\, \\bf y = [\\,\\partial y_1,\\dots \\partial y_n \\,]$ 이므로 $(n \\times 1) \\times (1\\times 1) \\to (n\\times 1)$이 성립한다."
      ],
      "metadata": {
        "id": "-AwpKf8hs6kI"
      }
    },
    {
      "cell_type": "markdown",
      "source": [
        "따라서 위 같은 경우 $\\frac {\\partial}{\\partial y} y^{\\top}y= 2\\bf y$ 이다."
      ],
      "metadata": {
        "id": "62nhT0DUtXrZ"
      }
    },
    {
      "cell_type": "markdown",
      "source": [
        "이를 아래와 같이 표현할 수 있다."
      ],
      "metadata": {
        "id": "P4BIKGtpuD8_"
      }
    },
    {
      "cell_type": "markdown",
      "source": [
        "$f(y) =  y^{\\top}y,\\quad g(y) = y^{\\top}y$ "
      ],
      "metadata": {
        "id": "IAVHnvknvZeb"
      }
    },
    {
      "cell_type": "markdown",
      "source": [
        "$\\frac {\\partial }{\\partial y} \\left \\{\\, (f(y)+ g(y)\\,\\right \\} = \\frac {\\partial}{\\partial y} f(y) +\\frac {\\partial}{\\partial y} g(y)$가 성립!"
      ],
      "metadata": {
        "id": "gE48FYnsuFCI"
      }
    },
    {
      "cell_type": "markdown",
      "source": [
        "어렵게 썼지만 2번 미분한다고 생각하자!!"
      ],
      "metadata": {
        "id": "nhgZlsyUvhAU"
      }
    },
    {
      "cell_type": "markdown",
      "source": [
        "다시 돌아와서 아래식을 2번 미분하면? "
      ],
      "metadata": {
        "id": "wrYqJfm5vkbJ"
      }
    },
    {
      "cell_type": "markdown",
      "source": [
        "$\\boldsymbol {\\beta}^{\\top} \\bf X^{\\top}\\bf X \\boldsymbol {\\beta}   = \\bf X^{\\top}\\bf X \\boldsymbol {\\beta} + \\bf X^{\\top}\\bf X \\boldsymbol {\\beta}  = 2 \\bf X^{\\top}\\bf X \\boldsymbol {\\beta}  $"
      ],
      "metadata": {
        "id": "OX7Xs0NOtmcD"
      }
    },
    {
      "cell_type": "markdown",
      "source": [
        "$\\frac {\\partial}{\\partial \\boldsymbol {\\beta}} L = 0 -2\\bf X ^{\\top}\\bf y  + 2\\bf X^{\\top}\\bf X \\boldsymbol {\\beta} =0$"
      ],
      "metadata": {
        "id": "sCwsLyM_vsui"
      }
    },
    {
      "cell_type": "markdown",
      "source": [
        "$\\bf X^{\\top} \\bf y = \\bf X ^{\\top}X \\boldsymbol {\\beta}$ 이므로"
      ],
      "metadata": {
        "id": "S0q4EiaGwC0Q"
      }
    },
    {
      "cell_type": "markdown",
      "source": [
        "$$\\hat {\\boldsymbol {\\beta}} = \\left (  \\bf X ^{\\top}X\\right )^{-1}\\bf X^{\\top}\\bf y$$"
      ],
      "metadata": {
        "id": "1uGEZ-tdwSdh"
      }
    },
    {
      "cell_type": "markdown",
      "source": [
        "***"
      ],
      "metadata": {
        "id": "ICEk1JzHxDr0"
      }
    },
    {
      "cell_type": "markdown",
      "source": [
        "## 2주차 : Tensorflow "
      ],
      "metadata": {
        "id": "MSs_Pr3axE-8"
      }
    },
    {
      "cell_type": "code",
      "source": [
        "import tensorflow as tf\n",
        "import numpy as np"
      ],
      "metadata": {
        "id": "UQ3kZi5-xQwm"
      },
      "execution_count": 1,
      "outputs": []
    },
    {
      "cell_type": "markdown",
      "source": [
        "`-` tensoflow의 CPU 연결법"
      ],
      "metadata": {
        "id": "f0YjjCUQyHDS"
      }
    },
    {
      "cell_type": "code",
      "source": [
        "tf.config.experimental.list_physical_devices(\"GPU\")"
      ],
      "metadata": {
        "colab": {
          "base_uri": "https://localhost:8080/"
        },
        "id": "2e-6LOHeyLjc",
        "outputId": "658b8ac5-4522-4f3b-f2d3-2395cd9f353e"
      },
      "execution_count": 2,
      "outputs": [
        {
          "output_type": "execute_result",
          "data": {
            "text/plain": [
              "[PhysicalDevice(name='/physical_device:GPU:0', device_type='GPU')]"
            ]
          },
          "metadata": {},
          "execution_count": 2
        }
      ]
    },
    {
      "cell_type": "markdown",
      "source": [
        "### tf.constant"
      ],
      "metadata": {
        "id": "kEgJVj1FzuXR"
      }
    },
    {
      "cell_type": "markdown",
      "source": [
        "`-` 리스트"
      ],
      "metadata": {
        "id": "I20I2TsMzzOc"
      }
    },
    {
      "cell_type": "code",
      "source": [
        "lst = list(range(6))\n",
        "lst"
      ],
      "metadata": {
        "colab": {
          "base_uri": "https://localhost:8080/"
        },
        "id": "NC7TP9VV0efs",
        "outputId": "a112d141-5302-44a7-cc4b-0c4726db4d8c"
      },
      "execution_count": 4,
      "outputs": [
        {
          "output_type": "execute_result",
          "data": {
            "text/plain": [
              "[0, 1, 2, 3, 4, 5]"
            ]
          },
          "metadata": {},
          "execution_count": 4
        }
      ]
    },
    {
      "cell_type": "markdown",
      "source": [
        "`-` 중첩 리스트 (2 x 2) "
      ],
      "metadata": {
        "id": "lZEVI2Rx1FBp"
      }
    },
    {
      "cell_type": "code",
      "source": [
        "lst = [[1,2],[3,4]]\n",
        "lst"
      ],
      "metadata": {
        "colab": {
          "base_uri": "https://localhost:8080/"
        },
        "id": "cqKWO5Dt1IB7",
        "outputId": "27c56148-eeb9-4a0f-ed75-386404e76bd9"
      },
      "execution_count": 6,
      "outputs": [
        {
          "output_type": "execute_result",
          "data": {
            "text/plain": [
              "[[1, 2], [3, 4]]"
            ]
          },
          "metadata": {},
          "execution_count": 6
        }
      ]
    },
    {
      "cell_type": "markdown",
      "source": [
        "`-` 중첩 리스트 (4 x 1)"
      ],
      "metadata": {
        "id": "wJnDWpud1Mlm"
      }
    },
    {
      "cell_type": "code",
      "source": [
        "lst = [[1],[2],[3],[4]]\n",
        "lst"
      ],
      "metadata": {
        "colab": {
          "base_uri": "https://localhost:8080/"
        },
        "id": "IFNq3_lH1Xwd",
        "outputId": "2b54e17c-5acc-4192-f52e-01e6686d258d"
      },
      "execution_count": 10,
      "outputs": [
        {
          "output_type": "execute_result",
          "data": {
            "text/plain": [
              "[[1], [2], [3], [4]]"
            ]
          },
          "metadata": {},
          "execution_count": 10
        }
      ]
    },
    {
      "cell_type": "markdown",
      "source": [
        "`-` 중첩 리스트 (1 x 4)"
      ],
      "metadata": {
        "id": "6Zdghdht1dd0"
      }
    },
    {
      "cell_type": "code",
      "source": [
        "lst = [list([1,2,3,4])]\n",
        "lst"
      ],
      "metadata": {
        "colab": {
          "base_uri": "https://localhost:8080/"
        },
        "id": "ao3IwGGG1hPg",
        "outputId": "fc5eab38-a98a-4607-8ddb-0e51240ab249"
      },
      "execution_count": 15,
      "outputs": [
        {
          "output_type": "execute_result",
          "data": {
            "text/plain": [
              "[[1, 2, 3, 4]]"
            ]
          },
          "metadata": {},
          "execution_count": 15
        }
      ]
    },
    {
      "cell_type": "markdown",
      "source": [
        "### tensorflow의 변수 선언"
      ],
      "metadata": {
        "id": "out6bNpd1t9Z"
      }
    },
    {
      "cell_type": "markdown",
      "source": [
        "#### 스칼라"
      ],
      "metadata": {
        "id": "kPrvFkOo13OU"
      }
    },
    {
      "cell_type": "code",
      "source": [
        "tf.constant(3.14)"
      ],
      "metadata": {
        "colab": {
          "base_uri": "https://localhost:8080/"
        },
        "id": "GC2Jt7BH1wsc",
        "outputId": "88456e46-f913-410d-f39c-884584229272"
      },
      "execution_count": 16,
      "outputs": [
        {
          "output_type": "execute_result",
          "data": {
            "text/plain": [
              "<tf.Tensor: shape=(), dtype=float32, numpy=3.14>"
            ]
          },
          "metadata": {},
          "execution_count": 16
        }
      ]
    },
    {
      "cell_type": "code",
      "source": [
        "tf.constant(3.14) + tf.constant(3.14)"
      ],
      "metadata": {
        "colab": {
          "base_uri": "https://localhost:8080/"
        },
        "id": "WwUdOe5Y11ke",
        "outputId": "23c03410-eec2-487b-b0bd-dee74d5fce8f"
      },
      "execution_count": 18,
      "outputs": [
        {
          "output_type": "execute_result",
          "data": {
            "text/plain": [
              "<tf.Tensor: shape=(), dtype=float32, numpy=6.28>"
            ]
          },
          "metadata": {},
          "execution_count": 18
        }
      ]
    },
    {
      "cell_type": "markdown",
      "source": [
        "#### 벡터"
      ],
      "metadata": {
        "id": "OmXjXnMz14dG"
      }
    },
    {
      "cell_type": "code",
      "source": [
        "vector = tf.constant([1,2,3])\n",
        "vector"
      ],
      "metadata": {
        "colab": {
          "base_uri": "https://localhost:8080/"
        },
        "id": "vZ6ieJNI15VY",
        "outputId": "78a3f26b-3caa-49c9-d162-7404c596021a"
      },
      "execution_count": 19,
      "outputs": [
        {
          "output_type": "execute_result",
          "data": {
            "text/plain": [
              "<tf.Tensor: shape=(3,), dtype=int32, numpy=array([1, 2, 3], dtype=int32)>"
            ]
          },
          "metadata": {},
          "execution_count": 19
        }
      ]
    },
    {
      "cell_type": "markdown",
      "source": [
        "#### 매트릭스"
      ],
      "metadata": {
        "id": "Ky-8d_bF1-Gn"
      }
    },
    {
      "cell_type": "code",
      "source": [
        "matrix = tf.constant([[1,0],[0,1]])\n",
        "matrix"
      ],
      "metadata": {
        "colab": {
          "base_uri": "https://localhost:8080/"
        },
        "id": "tsGau12U1_x_",
        "outputId": "856c3a37-e2bf-48a3-948d-05e72afb6bb1"
      },
      "execution_count": 21,
      "outputs": [
        {
          "output_type": "execute_result",
          "data": {
            "text/plain": [
              "<tf.Tensor: shape=(2, 2), dtype=int32, numpy=\n",
              "array([[1, 0],\n",
              "       [0, 1]], dtype=int32)>"
            ]
          },
          "metadata": {},
          "execution_count": 21
        }
      ]
    },
    {
      "cell_type": "markdown",
      "source": [
        "#### 3차원 이상의 배열"
      ],
      "metadata": {
        "id": "wNra7nHV2Gmb"
      }
    },
    {
      "cell_type": "code",
      "source": [
        "np.array( [[[0,1,1],[1,2,-1]], [[0,1,2],[1,2,-1]]])"
      ],
      "metadata": {
        "colab": {
          "base_uri": "https://localhost:8080/"
        },
        "id": "LSItix9f2Ihk",
        "outputId": "d6487c3a-a8f5-4cfe-a461-ba62fb9c82f0"
      },
      "execution_count": 22,
      "outputs": [
        {
          "output_type": "execute_result",
          "data": {
            "text/plain": [
              "array([[[ 0,  1,  1],\n",
              "        [ 1,  2, -1]],\n",
              "\n",
              "       [[ 0,  1,  2],\n",
              "        [ 1,  2, -1]]])"
            ]
          },
          "metadata": {},
          "execution_count": 22
        }
      ]
    },
    {
      "cell_type": "code",
      "source": [
        "tf.constant([[[0,1,1],[1,2,-1]], [[0,1,2],[1,2,-1]]])"
      ],
      "metadata": {
        "colab": {
          "base_uri": "https://localhost:8080/"
        },
        "id": "QEJLAjon2zQ0",
        "outputId": "a44d2b0e-e458-43f6-8c78-818ea032a213"
      },
      "execution_count": 27,
      "outputs": [
        {
          "output_type": "execute_result",
          "data": {
            "text/plain": [
              "<tf.Tensor: shape=(2, 2, 3), dtype=int32, numpy=\n",
              "array([[[ 0,  1,  1],\n",
              "        [ 1,  2, -1]],\n",
              "\n",
              "       [[ 0,  1,  2],\n",
              "        [ 1,  2, -1]]], dtype=int32)>"
            ]
          },
          "metadata": {},
          "execution_count": 27
        }
      ]
    },
    {
      "cell_type": "code",
      "source": [
        "tf.constant([[[0,1,1],[1,2,-1]], [[0,1,2],[1,2,-1]],[[0,1,2],[1,2,-1]]])"
      ],
      "metadata": {
        "colab": {
          "base_uri": "https://localhost:8080/"
        },
        "id": "MPuc8AA12aTc",
        "outputId": "a899d1f7-5728-4a0a-e31f-5fb465d96eec"
      },
      "execution_count": 28,
      "outputs": [
        {
          "output_type": "execute_result",
          "data": {
            "text/plain": [
              "<tf.Tensor: shape=(3, 2, 3), dtype=int32, numpy=\n",
              "array([[[ 0,  1,  1],\n",
              "        [ 1,  2, -1]],\n",
              "\n",
              "       [[ 0,  1,  2],\n",
              "        [ 1,  2, -1]],\n",
              "\n",
              "       [[ 0,  1,  2],\n",
              "        [ 1,  2, -1]]], dtype=int32)>"
            ]
          },
          "metadata": {},
          "execution_count": 28
        }
      ]
    },
    {
      "cell_type": "code",
      "source": [
        "type(tf.constant([[[0,1,1],[1,2,-1]], [[0,1,2],[1,2,-1]]]))"
      ],
      "metadata": {
        "colab": {
          "base_uri": "https://localhost:8080/"
        },
        "id": "PhTZTM9Q2goT",
        "outputId": "e5726bb5-631c-4d48-ad5f-7c8ea6d99915"
      },
      "execution_count": 24,
      "outputs": [
        {
          "output_type": "execute_result",
          "data": {
            "text/plain": [
              "tensorflow.python.framework.ops.EagerTensor"
            ]
          },
          "metadata": {},
          "execution_count": 24
        }
      ]
    },
    {
      "cell_type": "markdown",
      "source": [
        "`EagerTensor`가 나오는 것을 기억하자"
      ],
      "metadata": {
        "id": "qUUaJbDX2mQS"
      }
    },
    {
      "cell_type": "markdown",
      "source": [
        "#### 인덱싱"
      ],
      "metadata": {
        "id": "tgxeqKcY27Kg"
      }
    },
    {
      "cell_type": "code",
      "source": [
        "matrix  = tf.constant([[[0,1,1],[1,2,-1]], [[0,1,2],[1,2,-1]],[[0,1,2],[1,2,-1]]])\n",
        "matrix"
      ],
      "metadata": {
        "colab": {
          "base_uri": "https://localhost:8080/"
        },
        "id": "wKN0reH429Sy",
        "outputId": "05ec3f81-43fc-4deb-bb58-3b0e0e5e8e8d"
      },
      "execution_count": 33,
      "outputs": [
        {
          "output_type": "execute_result",
          "data": {
            "text/plain": [
              "<tf.Tensor: shape=(3, 2, 3), dtype=int32, numpy=\n",
              "array([[[ 0,  1,  1],\n",
              "        [ 1,  2, -1]],\n",
              "\n",
              "       [[ 0,  1,  2],\n",
              "        [ 1,  2, -1]],\n",
              "\n",
              "       [[ 0,  1,  2],\n",
              "        [ 1,  2, -1]]], dtype=int32)>"
            ]
          },
          "metadata": {},
          "execution_count": 33
        }
      ]
    },
    {
      "cell_type": "code",
      "source": [
        "matrix[0][1][2], matrix[0][1][1]"
      ],
      "metadata": {
        "colab": {
          "base_uri": "https://localhost:8080/"
        },
        "id": "DfXo1Rb13IOP",
        "outputId": "1eff5571-811a-4bae-ebe1-c576419f81bf"
      },
      "execution_count": 36,
      "outputs": [
        {
          "output_type": "execute_result",
          "data": {
            "text/plain": [
              "(<tf.Tensor: shape=(), dtype=int32, numpy=-1>,\n",
              " <tf.Tensor: shape=(), dtype=int32, numpy=2>)"
            ]
          },
          "metadata": {},
          "execution_count": 36
        }
      ]
    },
    {
      "cell_type": "markdown",
      "source": [
        "##### tf.constant의 단점"
      ],
      "metadata": {
        "id": "BlNybl913WSN"
      }
    },
    {
      "cell_type": "markdown",
      "source": [
        "`-` 모든 원소의 데이터 타입이 동일해야하고, 데이터 타입의 묵시적 변환이 불가능하다."
      ],
      "metadata": {
        "id": "64j9K1MI3ftB"
      }
    },
    {
      "cell_type": "markdown",
      "source": [
        "`-` 원소 수정이 불가능함"
      ],
      "metadata": {
        "id": "HV-WoWTN3rZJ"
      }
    },
    {
      "cell_type": "code",
      "source": [
        "a = tf.constant([1,2])\n",
        "a"
      ],
      "metadata": {
        "colab": {
          "base_uri": "https://localhost:8080/"
        },
        "id": "iyXqGbsC3vPZ",
        "outputId": "d5f64d6b-1450-4e13-a932-0340fab7f10c"
      },
      "execution_count": 37,
      "outputs": [
        {
          "output_type": "execute_result",
          "data": {
            "text/plain": [
              "<tf.Tensor: shape=(2,), dtype=int32, numpy=array([1, 2], dtype=int32)>"
            ]
          },
          "metadata": {},
          "execution_count": 37
        }
      ]
    },
    {
      "cell_type": "code",
      "source": [
        "a[0]"
      ],
      "metadata": {
        "colab": {
          "base_uri": "https://localhost:8080/"
        },
        "id": "noCZH9yA3yTN",
        "outputId": "5d3ddfec-f43e-44bc-fb5b-4937fb67619d"
      },
      "execution_count": 38,
      "outputs": [
        {
          "output_type": "execute_result",
          "data": {
            "text/plain": [
              "<tf.Tensor: shape=(), dtype=int32, numpy=1>"
            ]
          },
          "metadata": {},
          "execution_count": 38
        }
      ]
    },
    {
      "cell_type": "code",
      "source": [
        "a[0] =11"
      ],
      "metadata": {
        "colab": {
          "base_uri": "https://localhost:8080/",
          "height": 172
        },
        "id": "6FT6Dfix30dV",
        "outputId": "205bde5c-1156-4260-de79-16c6a71b98cf"
      },
      "execution_count": 39,
      "outputs": [
        {
          "output_type": "error",
          "ename": "TypeError",
          "evalue": "ignored",
          "traceback": [
            "\u001b[0;31m---------------------------------------------------------------------------\u001b[0m",
            "\u001b[0;31mTypeError\u001b[0m                                 Traceback (most recent call last)",
            "\u001b[0;32m<ipython-input-39-cf0e5bd1fc84>\u001b[0m in \u001b[0;36m<module>\u001b[0;34m()\u001b[0m\n\u001b[0;32m----> 1\u001b[0;31m \u001b[0ma\u001b[0m\u001b[0;34m[\u001b[0m\u001b[0;36m0\u001b[0m\u001b[0;34m]\u001b[0m \u001b[0;34m=\u001b[0m\u001b[0;36m11\u001b[0m\u001b[0;34m\u001b[0m\u001b[0;34m\u001b[0m\u001b[0m\n\u001b[0m",
            "\u001b[0;31mTypeError\u001b[0m: 'tensorflow.python.framework.ops.EagerTensor' object does not support item assignment"
          ]
        }
      ]
    },
    {
      "cell_type": "markdown",
      "source": [
        "### tf.constant -> 넘파이 "
      ],
      "metadata": {
        "id": "OTrjg0rl3-Sr"
      }
    },
    {
      "cell_type": "code",
      "source": [
        "np.array([tf.constant(1)])"
      ],
      "metadata": {
        "colab": {
          "base_uri": "https://localhost:8080/"
        },
        "id": "wxeiBxyV4Bkf",
        "outputId": "98dabf3f-2a69-4e2a-a660-2a97de465a25"
      },
      "execution_count": 40,
      "outputs": [
        {
          "output_type": "execute_result",
          "data": {
            "text/plain": [
              "array([1], dtype=int32)"
            ]
          },
          "metadata": {},
          "execution_count": 40
        }
      ]
    },
    {
      "cell_type": "code",
      "source": [
        "a = tf.constant(3.14)\n",
        "type(a)"
      ],
      "metadata": {
        "colab": {
          "base_uri": "https://localhost:8080/"
        },
        "id": "yA-sulLh4GW1",
        "outputId": "0d260fd2-96f2-4145-c15c-57e2e7c05a07"
      },
      "execution_count": 41,
      "outputs": [
        {
          "output_type": "execute_result",
          "data": {
            "text/plain": [
              "tensorflow.python.framework.ops.EagerTensor"
            ]
          },
          "metadata": {},
          "execution_count": 41
        }
      ]
    },
    {
      "cell_type": "code",
      "source": [
        "a.numpy()"
      ],
      "metadata": {
        "colab": {
          "base_uri": "https://localhost:8080/"
        },
        "id": "n1Hf5tIb4Jl_",
        "outputId": "332923b8-90d2-4c87-d978-414c1f6af071"
      },
      "execution_count": 43,
      "outputs": [
        {
          "output_type": "execute_result",
          "data": {
            "text/plain": [
              "tensorflow.python.framework.ops.EagerTensor"
            ]
          },
          "metadata": {},
          "execution_count": 43
        }
      ]
    },
    {
      "cell_type": "markdown",
      "source": [
        "### 연산"
      ],
      "metadata": {
        "id": "TRvJJesV4NPR"
      }
    },
    {
      "cell_type": "markdown",
      "source": [
        "#### 더하기 "
      ],
      "metadata": {
        "id": "GJ_lg5mg4asu"
      }
    },
    {
      "cell_type": "code",
      "source": [
        "a = tf.constant([1,2])\n",
        "b = tf.constant([3,4])\n",
        "a+b"
      ],
      "metadata": {
        "colab": {
          "base_uri": "https://localhost:8080/"
        },
        "id": "D5tqSmFk4Ogr",
        "outputId": "c4660757-469a-4383-cdb7-599d677a8c04"
      },
      "execution_count": 44,
      "outputs": [
        {
          "output_type": "execute_result",
          "data": {
            "text/plain": [
              "<tf.Tensor: shape=(2,), dtype=int32, numpy=array([4, 6], dtype=int32)>"
            ]
          },
          "metadata": {},
          "execution_count": 44
        }
      ]
    },
    {
      "cell_type": "code",
      "source": [
        "a+b"
      ],
      "metadata": {
        "colab": {
          "base_uri": "https://localhost:8080/"
        },
        "id": "KjGXEs514Tui",
        "outputId": "66a1aad8-e77d-40ed-a1e0-923f18d863c4"
      },
      "execution_count": 45,
      "outputs": [
        {
          "output_type": "execute_result",
          "data": {
            "text/plain": [
              "<tf.Tensor: shape=(2,), dtype=int32, numpy=array([4, 6], dtype=int32)>"
            ]
          },
          "metadata": {},
          "execution_count": 45
        }
      ]
    },
    {
      "cell_type": "code",
      "source": [
        "tf.add(a,b)"
      ],
      "metadata": {
        "colab": {
          "base_uri": "https://localhost:8080/"
        },
        "id": "kAsNIlhc4XSL",
        "outputId": "0d3faaef-048e-440d-97e7-e19e69304d7d"
      },
      "execution_count": 46,
      "outputs": [
        {
          "output_type": "execute_result",
          "data": {
            "text/plain": [
              "<tf.Tensor: shape=(2,), dtype=int32, numpy=array([4, 6], dtype=int32)>"
            ]
          },
          "metadata": {},
          "execution_count": 46
        }
      ]
    },
    {
      "cell_type": "markdown",
      "source": [
        "#### 곱하기"
      ],
      "metadata": {
        "id": "yxMKrgj74ZXo"
      }
    },
    {
      "cell_type": "markdown",
      "source": [
        "`-` 아래값을 살펴보면 우리가 일반적으로 원하는 행렬 연산이 수행되지 않는다"
      ],
      "metadata": {
        "id": "zHZN2ub34rsE"
      }
    },
    {
      "cell_type": "code",
      "source": [
        "a = tf.constant([[1,2],[3,4]])\n",
        "b = tf.constant([[5,6],[7,8]])"
      ],
      "metadata": {
        "id": "t0vGDj_14exX"
      },
      "execution_count": 47,
      "outputs": []
    },
    {
      "cell_type": "code",
      "source": [
        "a*b"
      ],
      "metadata": {
        "colab": {
          "base_uri": "https://localhost:8080/"
        },
        "id": "kg2O8FBb4o6d",
        "outputId": "e32fa9b9-36e9-4e1c-9300-448fce0065e6"
      },
      "execution_count": 48,
      "outputs": [
        {
          "output_type": "execute_result",
          "data": {
            "text/plain": [
              "<tf.Tensor: shape=(2, 2), dtype=int32, numpy=\n",
              "array([[ 5, 12],\n",
              "       [21, 32]], dtype=int32)>"
            ]
          },
          "metadata": {},
          "execution_count": 48
        }
      ]
    },
    {
      "cell_type": "markdown",
      "source": [
        "`-` 아래와 같은 연산자를 이용하자"
      ],
      "metadata": {
        "id": "4r-rX1o34yiT"
      }
    },
    {
      "cell_type": "code",
      "source": [
        "a@b"
      ],
      "metadata": {
        "colab": {
          "base_uri": "https://localhost:8080/"
        },
        "id": "5QPSX_CI41gw",
        "outputId": "eb16a392-9098-4166-89b8-497665cd083f"
      },
      "execution_count": 50,
      "outputs": [
        {
          "output_type": "execute_result",
          "data": {
            "text/plain": [
              "<tf.Tensor: shape=(2, 2), dtype=int32, numpy=\n",
              "array([[19, 22],\n",
              "       [43, 50]], dtype=int32)>"
            ]
          },
          "metadata": {},
          "execution_count": 50
        }
      ]
    },
    {
      "cell_type": "code",
      "source": [
        "tf.matmul(a,b)"
      ],
      "metadata": {
        "colab": {
          "base_uri": "https://localhost:8080/"
        },
        "id": "lRqTTfTj49c8",
        "outputId": "1eae0ad9-9523-47c4-ccff-8644ac53a4b0"
      },
      "execution_count": 51,
      "outputs": [
        {
          "output_type": "execute_result",
          "data": {
            "text/plain": [
              "<tf.Tensor: shape=(2, 2), dtype=int32, numpy=\n",
              "array([[19, 22],\n",
              "       [43, 50]], dtype=int32)>"
            ]
          },
          "metadata": {},
          "execution_count": 51
        }
      ]
    },
    {
      "cell_type": "markdown",
      "source": [
        "#### 역행렬"
      ],
      "metadata": {
        "id": "b7NmT_C35AM0"
      }
    },
    {
      "cell_type": "markdown",
      "source": [
        "`-` 초기 매트릭스를 `int`로 설정할 경우 역행렬 연산이 수행되지 않는다."
      ],
      "metadata": {
        "id": "yTlb9fLv5Ico"
      }
    },
    {
      "cell_type": "code",
      "source": [
        "tf.linalg.inv(a)"
      ],
      "metadata": {
        "colab": {
          "base_uri": "https://localhost:8080/",
          "height": 361
        },
        "id": "FJAmnjJc5Dqc",
        "outputId": "9789ee18-7aec-4de4-ad53-81c2f51af392"
      },
      "execution_count": 52,
      "outputs": [
        {
          "output_type": "error",
          "ename": "InvalidArgumentError",
          "evalue": "ignored",
          "traceback": [
            "\u001b[0;31m---------------------------------------------------------------------------\u001b[0m",
            "\u001b[0;31mInvalidArgumentError\u001b[0m                      Traceback (most recent call last)",
            "\u001b[0;32m<ipython-input-52-fd9ade66c025>\u001b[0m in \u001b[0;36m<module>\u001b[0;34m()\u001b[0m\n\u001b[0;32m----> 1\u001b[0;31m \u001b[0mtf\u001b[0m\u001b[0;34m.\u001b[0m\u001b[0mlinalg\u001b[0m\u001b[0;34m.\u001b[0m\u001b[0minv\u001b[0m\u001b[0;34m(\u001b[0m\u001b[0ma\u001b[0m\u001b[0;34m)\u001b[0m\u001b[0;34m\u001b[0m\u001b[0;34m\u001b[0m\u001b[0m\n\u001b[0m",
            "\u001b[0;32m/usr/local/lib/python3.7/dist-packages/tensorflow/python/ops/gen_linalg_ops.py\u001b[0m in \u001b[0;36mmatrix_inverse\u001b[0;34m(input, adjoint, name)\u001b[0m\n\u001b[1;32m   1504\u001b[0m       \u001b[0;32mreturn\u001b[0m \u001b[0m_result\u001b[0m\u001b[0;34m\u001b[0m\u001b[0;34m\u001b[0m\u001b[0m\n\u001b[1;32m   1505\u001b[0m     \u001b[0;32mexcept\u001b[0m \u001b[0m_core\u001b[0m\u001b[0;34m.\u001b[0m\u001b[0m_NotOkStatusException\u001b[0m \u001b[0;32mas\u001b[0m \u001b[0me\u001b[0m\u001b[0;34m:\u001b[0m\u001b[0;34m\u001b[0m\u001b[0;34m\u001b[0m\u001b[0m\n\u001b[0;32m-> 1506\u001b[0;31m       \u001b[0m_ops\u001b[0m\u001b[0;34m.\u001b[0m\u001b[0mraise_from_not_ok_status\u001b[0m\u001b[0;34m(\u001b[0m\u001b[0me\u001b[0m\u001b[0;34m,\u001b[0m \u001b[0mname\u001b[0m\u001b[0;34m)\u001b[0m\u001b[0;34m\u001b[0m\u001b[0;34m\u001b[0m\u001b[0m\n\u001b[0m\u001b[1;32m   1507\u001b[0m     \u001b[0;32mexcept\u001b[0m \u001b[0m_core\u001b[0m\u001b[0;34m.\u001b[0m\u001b[0m_FallbackException\u001b[0m\u001b[0;34m:\u001b[0m\u001b[0;34m\u001b[0m\u001b[0;34m\u001b[0m\u001b[0m\n\u001b[1;32m   1508\u001b[0m       \u001b[0;32mpass\u001b[0m\u001b[0;34m\u001b[0m\u001b[0;34m\u001b[0m\u001b[0m\n",
            "\u001b[0;32m/usr/local/lib/python3.7/dist-packages/tensorflow/python/framework/ops.py\u001b[0m in \u001b[0;36mraise_from_not_ok_status\u001b[0;34m(e, name)\u001b[0m\n\u001b[1;32m   7184\u001b[0m \u001b[0;32mdef\u001b[0m \u001b[0mraise_from_not_ok_status\u001b[0m\u001b[0;34m(\u001b[0m\u001b[0me\u001b[0m\u001b[0;34m,\u001b[0m \u001b[0mname\u001b[0m\u001b[0;34m)\u001b[0m\u001b[0;34m:\u001b[0m\u001b[0;34m\u001b[0m\u001b[0;34m\u001b[0m\u001b[0m\n\u001b[1;32m   7185\u001b[0m   \u001b[0me\u001b[0m\u001b[0;34m.\u001b[0m\u001b[0mmessage\u001b[0m \u001b[0;34m+=\u001b[0m \u001b[0;34m(\u001b[0m\u001b[0;34m\" name: \"\u001b[0m \u001b[0;34m+\u001b[0m \u001b[0mname\u001b[0m \u001b[0;32mif\u001b[0m \u001b[0mname\u001b[0m \u001b[0;32mis\u001b[0m \u001b[0;32mnot\u001b[0m \u001b[0;32mNone\u001b[0m \u001b[0;32melse\u001b[0m \u001b[0;34m\"\"\u001b[0m\u001b[0;34m)\u001b[0m\u001b[0;34m\u001b[0m\u001b[0;34m\u001b[0m\u001b[0m\n\u001b[0;32m-> 7186\u001b[0;31m   \u001b[0;32mraise\u001b[0m \u001b[0mcore\u001b[0m\u001b[0;34m.\u001b[0m\u001b[0m_status_to_exception\u001b[0m\u001b[0;34m(\u001b[0m\u001b[0me\u001b[0m\u001b[0;34m)\u001b[0m \u001b[0;32mfrom\u001b[0m \u001b[0;32mNone\u001b[0m  \u001b[0;31m# pylint: disable=protected-access\u001b[0m\u001b[0;34m\u001b[0m\u001b[0;34m\u001b[0m\u001b[0m\n\u001b[0m\u001b[1;32m   7187\u001b[0m \u001b[0;34m\u001b[0m\u001b[0m\n\u001b[1;32m   7188\u001b[0m \u001b[0;34m\u001b[0m\u001b[0m\n",
            "\u001b[0;31mInvalidArgumentError\u001b[0m: Value for attr 'T' of int32 is not in the list of allowed values: double, float, half, complex64, complex128\n\t; NodeDef: {{node MatrixInverse}}; Op<name=MatrixInverse; signature=input:T -> output:T; attr=adjoint:bool,default=false; attr=T:type,allowed=[DT_DOUBLE, DT_FLOAT, DT_HALF, DT_COMPLEX64, DT_COMPLEX128]> [Op:MatrixInverse]"
          ]
        }
      ]
    },
    {
      "cell_type": "code",
      "source": [
        "a = tf.constant([[1,2],[3,4]], dtype=float)\n",
        "tf.linalg.inv(a)"
      ],
      "metadata": {
        "colab": {
          "base_uri": "https://localhost:8080/"
        },
        "id": "xhewcLT75CYg",
        "outputId": "f8db7ccb-c094-4ef8-d87c-54a2c36e1856"
      },
      "execution_count": 54,
      "outputs": [
        {
          "output_type": "execute_result",
          "data": {
            "text/plain": [
              "<tf.Tensor: shape=(2, 2), dtype=float32, numpy=\n",
              "array([[-2. ,  1. ],\n",
              "       [ 1.5, -0.5]], dtype=float32)>"
            ]
          },
          "metadata": {},
          "execution_count": 54
        }
      ]
    },
    {
      "cell_type": "markdown",
      "source": [
        "`-` 위와 같이 `dtype`을 실수로 설정해야 역행렬 연산이 가능하다"
      ],
      "metadata": {
        "id": "FkNT_CxA5YxL"
      }
    },
    {
      "cell_type": "markdown",
      "source": [
        "#### 행렬식 (determinant) 계산 "
      ],
      "metadata": {
        "id": "ItI1Mw-457j8"
      }
    },
    {
      "cell_type": "code",
      "source": [
        "tf.linalg.det(a)"
      ],
      "metadata": {
        "colab": {
          "base_uri": "https://localhost:8080/"
        },
        "id": "iBFNCNJy5-8F",
        "outputId": "7526dbfb-7e91-4b01-efa5-6dc7366a0aaf"
      },
      "execution_count": 55,
      "outputs": [
        {
          "output_type": "execute_result",
          "data": {
            "text/plain": [
              "<tf.Tensor: shape=(), dtype=float32, numpy=-2.0>"
            ]
          },
          "metadata": {},
          "execution_count": 55
        }
      ]
    },
    {
      "cell_type": "markdown",
      "source": [
        "#### Trace(대각합) 계산"
      ],
      "metadata": {
        "id": "k4tFHrnn6EML"
      }
    },
    {
      "cell_type": "code",
      "source": [
        "tf.linalg.trace(a)"
      ],
      "metadata": {
        "colab": {
          "base_uri": "https://localhost:8080/"
        },
        "id": "0hDfiX8K6MF6",
        "outputId": "531d89ef-1677-40a7-e623-2b91ad3bf758"
      },
      "execution_count": 56,
      "outputs": [
        {
          "output_type": "execute_result",
          "data": {
            "text/plain": [
              "<tf.Tensor: shape=(), dtype=float32, numpy=5.0>"
            ]
          },
          "metadata": {},
          "execution_count": 56
        }
      ]
    },
    {
      "cell_type": "markdown",
      "source": [
        "### 형태변환"
      ],
      "metadata": {
        "id": "w_vVDuMF6RJH"
      }
    },
    {
      "cell_type": "markdown",
      "source": [
        "#### 2 x 2"
      ],
      "metadata": {
        "id": "sCwU3JqJ6795"
      }
    },
    {
      "cell_type": "code",
      "source": [
        "a = tf.constant(range(1,5))\n",
        "a"
      ],
      "metadata": {
        "colab": {
          "base_uri": "https://localhost:8080/"
        },
        "id": "Y5q6WXyd6UnS",
        "outputId": "462ae79b-4c1f-48c8-e31a-b5e5c91ab0f2"
      },
      "execution_count": 63,
      "outputs": [
        {
          "output_type": "execute_result",
          "data": {
            "text/plain": [
              "<tf.Tensor: shape=(4,), dtype=int32, numpy=array([1, 2, 3, 4], dtype=int32)>"
            ]
          },
          "metadata": {},
          "execution_count": 63
        }
      ]
    },
    {
      "cell_type": "code",
      "source": [
        "tf.reshape(a,(2,2))"
      ],
      "metadata": {
        "colab": {
          "base_uri": "https://localhost:8080/"
        },
        "id": "nQ0PERfY6Wpi",
        "outputId": "9f3c914d-fdac-4993-f79e-d04d30f15760"
      },
      "execution_count": 64,
      "outputs": [
        {
          "output_type": "execute_result",
          "data": {
            "text/plain": [
              "<tf.Tensor: shape=(2, 2), dtype=int32, numpy=\n",
              "array([[1, 2],\n",
              "       [3, 4]], dtype=int32)>"
            ]
          },
          "metadata": {},
          "execution_count": 64
        }
      ]
    },
    {
      "cell_type": "code",
      "source": [
        "temp = tf.reshape(a,(2,2,1))\n",
        "temp"
      ],
      "metadata": {
        "colab": {
          "base_uri": "https://localhost:8080/"
        },
        "id": "epuZmy936qvh",
        "outputId": "b1a5bccc-3869-45af-bb03-e0fdf117fc90"
      },
      "execution_count": 68,
      "outputs": [
        {
          "output_type": "execute_result",
          "data": {
            "text/plain": [
              "<tf.Tensor: shape=(2, 2, 1), dtype=int32, numpy=\n",
              "array([[[1],\n",
              "        [2]],\n",
              "\n",
              "       [[3],\n",
              "        [4]]], dtype=int32)>"
            ]
          },
          "metadata": {},
          "execution_count": 68
        }
      ]
    },
    {
      "cell_type": "markdown",
      "source": [
        "#### 다차원의 적용 "
      ],
      "metadata": {
        "id": "oTIp_nXJ66Md"
      }
    },
    {
      "cell_type": "code",
      "source": [
        "a = tf.constant(range(1,13))\n",
        "a"
      ],
      "metadata": {
        "colab": {
          "base_uri": "https://localhost:8080/"
        },
        "id": "28XHEi4U6_l6",
        "outputId": "4178b498-7e77-4e2d-e966-91b13b381d70"
      },
      "execution_count": 70,
      "outputs": [
        {
          "output_type": "execute_result",
          "data": {
            "text/plain": [
              "<tf.Tensor: shape=(12,), dtype=int32, numpy=array([ 1,  2,  3,  4,  5,  6,  7,  8,  9, 10, 11, 12], dtype=int32)>"
            ]
          },
          "metadata": {},
          "execution_count": 70
        }
      ]
    },
    {
      "cell_type": "code",
      "source": [
        "tf.reshape(a,(2,2,3))"
      ],
      "metadata": {
        "colab": {
          "base_uri": "https://localhost:8080/"
        },
        "id": "k3B3zAPO7Dik",
        "outputId": "79659571-6e6d-454e-8237-d493d9b747d7"
      },
      "execution_count": 71,
      "outputs": [
        {
          "output_type": "execute_result",
          "data": {
            "text/plain": [
              "<tf.Tensor: shape=(2, 2, 3), dtype=int32, numpy=\n",
              "array([[[ 1,  2,  3],\n",
              "        [ 4,  5,  6]],\n",
              "\n",
              "       [[ 7,  8,  9],\n",
              "        [10, 11, 12]]], dtype=int32)>"
            ]
          },
          "metadata": {},
          "execution_count": 71
        }
      ]
    },
    {
      "cell_type": "code",
      "source": [
        "tf.reshape(a,(2,2,-1))"
      ],
      "metadata": {
        "colab": {
          "base_uri": "https://localhost:8080/"
        },
        "id": "gSxUu62A7ibH",
        "outputId": "d4f3481e-784e-47d7-ae67-d3bdc9b7ce26"
      },
      "execution_count": 79,
      "outputs": [
        {
          "output_type": "execute_result",
          "data": {
            "text/plain": [
              "<tf.Tensor: shape=(2, 2, 3), dtype=int32, numpy=\n",
              "array([[[ 1,  2,  3],\n",
              "        [ 4,  5,  6]],\n",
              "\n",
              "       [[ 7,  8,  9],\n",
              "        [10, 11, 12]]], dtype=int32)>"
            ]
          },
          "metadata": {},
          "execution_count": 79
        }
      ]
    },
    {
      "cell_type": "code",
      "source": [
        "tf.reshape(a,(4,3))"
      ],
      "metadata": {
        "colab": {
          "base_uri": "https://localhost:8080/"
        },
        "id": "zjrhAttV7IWW",
        "outputId": "007f08ea-0e59-4686-d1b6-899020cdbd00"
      },
      "execution_count": 72,
      "outputs": [
        {
          "output_type": "execute_result",
          "data": {
            "text/plain": [
              "<tf.Tensor: shape=(4, 3), dtype=int32, numpy=\n",
              "array([[ 1,  2,  3],\n",
              "       [ 4,  5,  6],\n",
              "       [ 7,  8,  9],\n",
              "       [10, 11, 12]], dtype=int32)>"
            ]
          },
          "metadata": {},
          "execution_count": 72
        }
      ]
    },
    {
      "cell_type": "code",
      "source": [
        "tf.reshape(a,(4,-1)) ## 이거는 난 죽어도 안쓸 것 같으니 알아만 두자"
      ],
      "metadata": {
        "colab": {
          "base_uri": "https://localhost:8080/"
        },
        "id": "XBt0mHdq7SES",
        "outputId": "c3eaa199-4353-4e89-fee7-1f280ccb87ad"
      },
      "execution_count": 78,
      "outputs": [
        {
          "output_type": "execute_result",
          "data": {
            "text/plain": [
              "<tf.Tensor: shape=(4, 3), dtype=int32, numpy=\n",
              "array([[ 1,  2,  3],\n",
              "       [ 4,  5,  6],\n",
              "       [ 7,  8,  9],\n",
              "       [10, 11, 12]], dtype=int32)>"
            ]
          },
          "metadata": {},
          "execution_count": 78
        }
      ]
    },
    {
      "cell_type": "code",
      "source": [
        "b = tf.reshape(a,(2,2,-1))\n",
        "b"
      ],
      "metadata": {
        "colab": {
          "base_uri": "https://localhost:8080/"
        },
        "id": "CzqcGCds7piZ",
        "outputId": "ec686a53-8df9-4724-e1a9-f63998a031cf"
      },
      "execution_count": 81,
      "outputs": [
        {
          "output_type": "execute_result",
          "data": {
            "text/plain": [
              "<tf.Tensor: shape=(2, 2, 3), dtype=int32, numpy=\n",
              "array([[[ 1,  2,  3],\n",
              "        [ 4,  5,  6]],\n",
              "\n",
              "       [[ 7,  8,  9],\n",
              "        [10, 11, 12]]], dtype=int32)>"
            ]
          },
          "metadata": {},
          "execution_count": 81
        }
      ]
    },
    {
      "cell_type": "code",
      "source": [
        "tf.reshape(b,-1)"
      ],
      "metadata": {
        "colab": {
          "base_uri": "https://localhost:8080/"
        },
        "id": "WE3w_xyF7sU5",
        "outputId": "3eddee8b-5e89-47af-d8ea-905d7fde9eba"
      },
      "execution_count": 83,
      "outputs": [
        {
          "output_type": "execute_result",
          "data": {
            "text/plain": [
              "<tf.Tensor: shape=(12,), dtype=int32, numpy=array([ 1,  2,  3,  4,  5,  6,  7,  8,  9, 10, 11, 12], dtype=int32)>"
            ]
          },
          "metadata": {},
          "execution_count": 83
        }
      ]
    },
    {
      "cell_type": "code",
      "source": [
        "c = tf.reshape(a,(4,-1)) ## 이거는 난 죽어도 안쓸 것 같으니 알아만 두자\n",
        "c"
      ],
      "metadata": {
        "colab": {
          "base_uri": "https://localhost:8080/"
        },
        "id": "LMWNh8WV7yc8",
        "outputId": "4da43f32-b785-4321-a7cf-2a18e930bf02"
      },
      "execution_count": 84,
      "outputs": [
        {
          "output_type": "execute_result",
          "data": {
            "text/plain": [
              "<tf.Tensor: shape=(4, 3), dtype=int32, numpy=\n",
              "array([[ 1,  2,  3],\n",
              "       [ 4,  5,  6],\n",
              "       [ 7,  8,  9],\n",
              "       [10, 11, 12]], dtype=int32)>"
            ]
          },
          "metadata": {},
          "execution_count": 84
        }
      ]
    },
    {
      "cell_type": "code",
      "source": [
        "tf.reshape(c,-1)"
      ],
      "metadata": {
        "colab": {
          "base_uri": "https://localhost:8080/"
        },
        "id": "D-vhchdk71QN",
        "outputId": "de581617-5d2a-4d4d-f387-1414598c702e"
      },
      "execution_count": 85,
      "outputs": [
        {
          "output_type": "execute_result",
          "data": {
            "text/plain": [
              "<tf.Tensor: shape=(12,), dtype=int32, numpy=array([ 1,  2,  3,  4,  5,  6,  7,  8,  9, 10, 11, 12], dtype=int32)>"
            ]
          },
          "metadata": {},
          "execution_count": 85
        }
      ]
    },
    {
      "cell_type": "markdown",
      "source": [
        "### 선언고급"
      ],
      "metadata": {
        "id": "2ZzLYfr175Us"
      }
    },
    {
      "cell_type": "markdown",
      "source": [
        "* 리스트나 넘파이로 만들고 `output` 을 `tensor`로 변경하는 것도 좋은 방법이다."
      ],
      "metadata": {
        "id": "avS7w2xX77Op"
      }
    },
    {
      "cell_type": "code",
      "source": [
        "l = list(range(1,5))\n",
        "l"
      ],
      "metadata": {
        "colab": {
          "base_uri": "https://localhost:8080/"
        },
        "id": "6cb6-krJ8Bod",
        "outputId": "749e562a-2b9e-472a-a49b-263307260d64"
      },
      "execution_count": 86,
      "outputs": [
        {
          "output_type": "execute_result",
          "data": {
            "text/plain": [
              "[1, 2, 3, 4]"
            ]
          },
          "metadata": {},
          "execution_count": 86
        }
      ]
    },
    {
      "cell_type": "code",
      "source": [
        "tf.constant(l)"
      ],
      "metadata": {
        "colab": {
          "base_uri": "https://localhost:8080/"
        },
        "id": "G1GPbLlU8FsK",
        "outputId": "5f08a6f3-698b-4804-c5ff-1d0759289dd5"
      },
      "execution_count": 87,
      "outputs": [
        {
          "output_type": "execute_result",
          "data": {
            "text/plain": [
              "<tf.Tensor: shape=(4,), dtype=int32, numpy=array([1, 2, 3, 4], dtype=int32)>"
            ]
          },
          "metadata": {},
          "execution_count": 87
        }
      ]
    },
    {
      "cell_type": "code",
      "source": [
        "tf.constant(np.diag(l))"
      ],
      "metadata": {
        "colab": {
          "base_uri": "https://localhost:8080/"
        },
        "id": "gfGznrEx8Jc9",
        "outputId": "12ddd326-2e04-4838-fd4a-5877c4b8bdf3"
      },
      "execution_count": 88,
      "outputs": [
        {
          "output_type": "execute_result",
          "data": {
            "text/plain": [
              "<tf.Tensor: shape=(4, 4), dtype=int64, numpy=\n",
              "array([[1, 0, 0, 0],\n",
              "       [0, 2, 0, 0],\n",
              "       [0, 0, 3, 0],\n",
              "       [0, 0, 0, 4]])>"
            ]
          },
          "metadata": {},
          "execution_count": 88
        }
      ]
    },
    {
      "cell_type": "markdown",
      "source": [
        "#### tf.zeros, tf.ones "
      ],
      "metadata": {
        "id": "yNl7xiXv8PhE"
      }
    },
    {
      "cell_type": "markdown",
      "source": [
        "`-` 같은 방법이지만 `dtype`이 달라짐을 주의하자"
      ],
      "metadata": {
        "id": "TJmTG8dP8oiu"
      }
    },
    {
      "cell_type": "code",
      "source": [
        "tf.zeros([3,3])"
      ],
      "metadata": {
        "colab": {
          "base_uri": "https://localhost:8080/"
        },
        "id": "wPvYmva38U6g",
        "outputId": "897a328f-7a1b-4e70-9391-e681d5efe9ff"
      },
      "execution_count": 89,
      "outputs": [
        {
          "output_type": "execute_result",
          "data": {
            "text/plain": [
              "<tf.Tensor: shape=(3, 3), dtype=float32, numpy=\n",
              "array([[0., 0., 0.],\n",
              "       [0., 0., 0.],\n",
              "       [0., 0., 0.]], dtype=float32)>"
            ]
          },
          "metadata": {},
          "execution_count": 89
        }
      ]
    },
    {
      "cell_type": "code",
      "source": [
        "tf.reshape(tf.constant([0]*9),[3,3])"
      ],
      "metadata": {
        "colab": {
          "base_uri": "https://localhost:8080/"
        },
        "id": "NdiBtiJq8bTM",
        "outputId": "dadaf10c-a560-4667-a13c-ddd7986ec7e1"
      },
      "execution_count": 91,
      "outputs": [
        {
          "output_type": "execute_result",
          "data": {
            "text/plain": [
              "<tf.Tensor: shape=(3, 3), dtype=int32, numpy=\n",
              "array([[0, 0, 0],\n",
              "       [0, 0, 0],\n",
              "       [0, 0, 0]], dtype=int32)>"
            ]
          },
          "metadata": {},
          "execution_count": 91
        }
      ]
    },
    {
      "cell_type": "code",
      "source": [
        "tf.ones([3,3])"
      ],
      "metadata": {
        "colab": {
          "base_uri": "https://localhost:8080/"
        },
        "id": "CMQzwUIQ8Xkz",
        "outputId": "0d7837fa-e9f3-444a-ed70-b6d2b91decd4"
      },
      "execution_count": 90,
      "outputs": [
        {
          "output_type": "execute_result",
          "data": {
            "text/plain": [
              "<tf.Tensor: shape=(3, 3), dtype=float32, numpy=\n",
              "array([[1., 1., 1.],\n",
              "       [1., 1., 1.],\n",
              "       [1., 1., 1.]], dtype=float32)>"
            ]
          },
          "metadata": {},
          "execution_count": 90
        }
      ]
    },
    {
      "cell_type": "code",
      "source": [
        "tf.reshape(tf.constant([1]*9),[3,3])"
      ],
      "metadata": {
        "colab": {
          "base_uri": "https://localhost:8080/"
        },
        "id": "Ey780I8p8nEv",
        "outputId": "276cbd4a-72fc-4d80-9515-c3ce22a96f0f"
      },
      "execution_count": 92,
      "outputs": [
        {
          "output_type": "execute_result",
          "data": {
            "text/plain": [
              "<tf.Tensor: shape=(3, 3), dtype=int32, numpy=\n",
              "array([[1, 1, 1],\n",
              "       [1, 1, 1],\n",
              "       [1, 1, 1]], dtype=int32)>"
            ]
          },
          "metadata": {},
          "execution_count": 92
        }
      ]
    },
    {
      "cell_type": "code",
      "source": [
        "tf.linspace(0,1,10)"
      ],
      "metadata": {
        "colab": {
          "base_uri": "https://localhost:8080/"
        },
        "id": "aGyiphih8v-8",
        "outputId": "83933fa2-8e20-40ee-98b2-9cfeca95fdcb"
      },
      "execution_count": 95,
      "outputs": [
        {
          "output_type": "execute_result",
          "data": {
            "text/plain": [
              "<tf.Tensor: shape=(10,), dtype=float64, numpy=\n",
              "array([0.        , 0.11111111, 0.22222222, 0.33333333, 0.44444444,\n",
              "       0.55555556, 0.66666667, 0.77777778, 0.88888889, 1.        ])>"
            ]
          },
          "metadata": {},
          "execution_count": 95
        }
      ]
    },
    {
      "cell_type": "markdown",
      "source": [
        "### tf.concat 쌉중요"
      ],
      "metadata": {
        "id": "3vI2O2nn83UN"
      }
    },
    {
      "cell_type": "markdown",
      "source": [
        "#### 저차원 행렬 "
      ],
      "metadata": {
        "id": "kUlpNm9zAcZ6"
      }
    },
    {
      "cell_type": "markdown",
      "source": [
        "`step.1` (2 x 1) 행렬 생성 "
      ],
      "metadata": {
        "id": "fJlkTHZj_OC4"
      }
    },
    {
      "cell_type": "code",
      "source": [
        "a = tf.constant([[1],[2]])\n",
        "b = tf.constant([[3],[4]])\n",
        "a,b"
      ],
      "metadata": {
        "colab": {
          "base_uri": "https://localhost:8080/"
        },
        "id": "d-nh0x5J-_PA",
        "outputId": "43563918-36b7-45c9-c869-200e09254e2d"
      },
      "execution_count": 97,
      "outputs": [
        {
          "output_type": "execute_result",
          "data": {
            "text/plain": [
              "(<tf.Tensor: shape=(2, 1), dtype=int32, numpy=\n",
              " array([[1],\n",
              "        [2]], dtype=int32)>, <tf.Tensor: shape=(2, 1), dtype=int32, numpy=\n",
              " array([[3],\n",
              "        [4]], dtype=int32)>)"
            ]
          },
          "metadata": {},
          "execution_count": 97
        }
      ]
    },
    {
      "cell_type": "markdown",
      "source": [
        "`step.2` (1 x 2) + (1 x 2) $\\to$ (2 x 2) or (1 x 4)"
      ],
      "metadata": {
        "id": "T2hfn-bc_Tsp"
      }
    },
    {
      "cell_type": "code",
      "source": [
        "tf.concat([a,b],axis=1)"
      ],
      "metadata": {
        "colab": {
          "base_uri": "https://localhost:8080/"
        },
        "id": "nWBglgai_FBf",
        "outputId": "5eb90ead-da60-495d-fb75-c7a73f431a0c"
      },
      "execution_count": 105,
      "outputs": [
        {
          "output_type": "execute_result",
          "data": {
            "text/plain": [
              "<tf.Tensor: shape=(2, 2), dtype=int32, numpy=\n",
              "array([[1, 3],\n",
              "       [2, 4]], dtype=int32)>"
            ]
          },
          "metadata": {},
          "execution_count": 105
        }
      ]
    },
    {
      "cell_type": "code",
      "source": [
        "tf.concat([a,b],axis=0)"
      ],
      "metadata": {
        "colab": {
          "base_uri": "https://localhost:8080/"
        },
        "id": "nS7Qj49S_o7y",
        "outputId": "d7b14be9-d376-4e4e-9418-7a2b42b5ee81"
      },
      "execution_count": 106,
      "outputs": [
        {
          "output_type": "execute_result",
          "data": {
            "text/plain": [
              "<tf.Tensor: shape=(4, 1), dtype=int32, numpy=\n",
              "array([[1],\n",
              "       [2],\n",
              "       [3],\n",
              "       [4]], dtype=int32)>"
            ]
          },
          "metadata": {},
          "execution_count": 106
        }
      ]
    },
    {
      "cell_type": "code",
      "source": [
        "a = tf.constant([[1,2]])\n",
        "b = tf.constant([[3,4]])\n",
        "a,b"
      ],
      "metadata": {
        "colab": {
          "base_uri": "https://localhost:8080/"
        },
        "id": "Xn1x8vRH_zeB",
        "outputId": "b76b3927-22ba-451d-bbc5-84e97901dccb"
      },
      "execution_count": 112,
      "outputs": [
        {
          "output_type": "execute_result",
          "data": {
            "text/plain": [
              "(<tf.Tensor: shape=(1, 2), dtype=int32, numpy=array([[1, 2]], dtype=int32)>,\n",
              " <tf.Tensor: shape=(1, 2), dtype=int32, numpy=array([[3, 4]], dtype=int32)>)"
            ]
          },
          "metadata": {},
          "execution_count": 112
        }
      ]
    },
    {
      "cell_type": "code",
      "source": [
        "tf.concat([a,b],axis=0)"
      ],
      "metadata": {
        "colab": {
          "base_uri": "https://localhost:8080/"
        },
        "id": "fG6WHoBZ_4sH",
        "outputId": "62dc223e-28c8-4217-9019-bd12678792a3"
      },
      "execution_count": 113,
      "outputs": [
        {
          "output_type": "execute_result",
          "data": {
            "text/plain": [
              "<tf.Tensor: shape=(2, 2), dtype=int32, numpy=\n",
              "array([[1, 2],\n",
              "       [3, 4]], dtype=int32)>"
            ]
          },
          "metadata": {},
          "execution_count": 113
        }
      ]
    },
    {
      "cell_type": "code",
      "source": [
        "tf.concat([a,b],axis=1)"
      ],
      "metadata": {
        "colab": {
          "base_uri": "https://localhost:8080/"
        },
        "id": "ee9UjALtAFHV",
        "outputId": "5fbf9789-6828-4536-e7b9-03c2b163e11a"
      },
      "execution_count": 114,
      "outputs": [
        {
          "output_type": "execute_result",
          "data": {
            "text/plain": [
              "<tf.Tensor: shape=(1, 4), dtype=int32, numpy=array([[1, 2, 3, 4]], dtype=int32)>"
            ]
          },
          "metadata": {},
          "execution_count": 114
        }
      ]
    },
    {
      "cell_type": "markdown",
      "source": [
        "#### 고차원 행렬 (2 x 2 x 3)"
      ],
      "metadata": {
        "id": "INzJ0fXgAbF9"
      }
    },
    {
      "cell_type": "markdown",
      "source": [
        "`-` 내 생각 1 : 다차원의 경우 기존 `n x p` 의 케이크를 썬다고 생각하자"
      ],
      "metadata": {
        "id": "-gvhr7sqCH1S"
      }
    },
    {
      "cell_type": "markdown",
      "source": [
        "`-` 내 생각 2 : `tf.concat`에서 다차원의 경우 `axis` 값이 늘어날 수록 차원은 저차원으로 간다고 생각하자"
      ],
      "metadata": {
        "id": "YzpHVGt3BmUQ"
      }
    },
    {
      "cell_type": "code",
      "source": [
        "a = tf.reshape(tf.constant(range(12)),(2,2,3))\n",
        "b = -a"
      ],
      "metadata": {
        "id": "QzIO520uA4dh"
      },
      "execution_count": 147,
      "outputs": []
    },
    {
      "cell_type": "markdown",
      "source": [
        "`-` 즉, 아래 `a`는 `4 x 3`행렬을 `2 x 2 x 3`으로 쪼갠 것이다."
      ],
      "metadata": {
        "id": "gPOMh0_YCrQh"
      }
    },
    {
      "cell_type": "code",
      "source": [
        "tf.reshape(tf.constant(range(12)),(4,3))"
      ],
      "metadata": {
        "colab": {
          "base_uri": "https://localhost:8080/"
        },
        "id": "-NRXpFfdC5Di",
        "outputId": "1bf53c24-dfcd-4a12-bd07-dd7cf5f6239b"
      },
      "execution_count": 153,
      "outputs": [
        {
          "output_type": "execute_result",
          "data": {
            "text/plain": [
              "<tf.Tensor: shape=(4, 3), dtype=int32, numpy=\n",
              "array([[ 0,  1,  2],\n",
              "       [ 3,  4,  5],\n",
              "       [ 6,  7,  8],\n",
              "       [ 9, 10, 11]], dtype=int32)>"
            ]
          },
          "metadata": {},
          "execution_count": 153
        }
      ]
    },
    {
      "cell_type": "code",
      "source": [
        "a"
      ],
      "metadata": {
        "colab": {
          "base_uri": "https://localhost:8080/"
        },
        "id": "53J6sxEUCkqN",
        "outputId": "e9ddfa00-0102-4432-ef70-aa074a0444a2"
      },
      "execution_count": 154,
      "outputs": [
        {
          "output_type": "execute_result",
          "data": {
            "text/plain": [
              "<tf.Tensor: shape=(2, 2, 3), dtype=int32, numpy=\n",
              "array([[[ 0,  1,  2],\n",
              "        [ 3,  4,  5]],\n",
              "\n",
              "       [[ 6,  7,  8],\n",
              "        [ 9, 10, 11]]], dtype=int32)>"
            ]
          },
          "metadata": {},
          "execution_count": 154
        }
      ]
    },
    {
      "cell_type": "code",
      "source": [
        "a.shape"
      ],
      "metadata": {
        "colab": {
          "base_uri": "https://localhost:8080/"
        },
        "id": "4FMUc8dhBHWG",
        "outputId": "ab316041-430f-4b9e-b55d-66e3f5af34fc"
      },
      "execution_count": 155,
      "outputs": [
        {
          "output_type": "execute_result",
          "data": {
            "text/plain": [
              "TensorShape([2, 2, 3])"
            ]
          },
          "metadata": {},
          "execution_count": 155
        }
      ]
    },
    {
      "cell_type": "code",
      "source": [
        "temp = tf.concat([a,b],axis=0)"
      ],
      "metadata": {
        "id": "qF6N1pqABLQs"
      },
      "execution_count": 156,
      "outputs": []
    },
    {
      "cell_type": "code",
      "source": [
        "temp.shape"
      ],
      "metadata": {
        "colab": {
          "base_uri": "https://localhost:8080/"
        },
        "id": "2RY8O-CwBTSr",
        "outputId": "32278ea8-9566-427c-a00d-c0804e881a1a"
      },
      "execution_count": 157,
      "outputs": [
        {
          "output_type": "execute_result",
          "data": {
            "text/plain": [
              "TensorShape([4, 2, 3])"
            ]
          },
          "metadata": {},
          "execution_count": 157
        }
      ]
    },
    {
      "cell_type": "code",
      "source": [
        "temp"
      ],
      "metadata": {
        "colab": {
          "base_uri": "https://localhost:8080/"
        },
        "id": "AAdqGze_Ch1M",
        "outputId": "79147c11-31fc-4198-d2cc-6200451a1a91"
      },
      "execution_count": 159,
      "outputs": [
        {
          "output_type": "execute_result",
          "data": {
            "text/plain": [
              "<tf.Tensor: shape=(4, 2, 3), dtype=int32, numpy=\n",
              "array([[[  0,   1,   2],\n",
              "        [  3,   4,   5]],\n",
              "\n",
              "       [[  6,   7,   8],\n",
              "        [  9,  10,  11]],\n",
              "\n",
              "       [[  0,  -1,  -2],\n",
              "        [ -3,  -4,  -5]],\n",
              "\n",
              "       [[ -6,  -7,  -8],\n",
              "        [ -9, -10, -11]]], dtype=int32)>"
            ]
          },
          "metadata": {},
          "execution_count": 159
        }
      ]
    },
    {
      "cell_type": "code",
      "source": [
        "temp = tf.concat([a,b],axis=1)"
      ],
      "metadata": {
        "id": "XsG49k-0BZKD"
      },
      "execution_count": 160,
      "outputs": []
    },
    {
      "cell_type": "code",
      "source": [
        "temp.shape"
      ],
      "metadata": {
        "colab": {
          "base_uri": "https://localhost:8080/"
        },
        "id": "2qfdCVPYB-k9",
        "outputId": "d5c17409-b3b8-4254-eeae-dc08a315ce51"
      },
      "execution_count": 161,
      "outputs": [
        {
          "output_type": "execute_result",
          "data": {
            "text/plain": [
              "TensorShape([2, 4, 3])"
            ]
          },
          "metadata": {},
          "execution_count": 161
        }
      ]
    },
    {
      "cell_type": "code",
      "source": [
        "temp"
      ],
      "metadata": {
        "colab": {
          "base_uri": "https://localhost:8080/"
        },
        "id": "Ks7GtNwuBbDW",
        "outputId": "f911f4c6-1f58-43ef-a94f-495cc1fd533f"
      },
      "execution_count": 162,
      "outputs": [
        {
          "output_type": "execute_result",
          "data": {
            "text/plain": [
              "<tf.Tensor: shape=(2, 4, 3), dtype=int32, numpy=\n",
              "array([[[  0,   1,   2],\n",
              "        [  3,   4,   5],\n",
              "        [  0,  -1,  -2],\n",
              "        [ -3,  -4,  -5]],\n",
              "\n",
              "       [[  6,   7,   8],\n",
              "        [  9,  10,  11],\n",
              "        [ -6,  -7,  -8],\n",
              "        [ -9, -10, -11]]], dtype=int32)>"
            ]
          },
          "metadata": {},
          "execution_count": 162
        }
      ]
    },
    {
      "cell_type": "code",
      "source": [
        "temp = tf.concat([a,b],axis=2)"
      ],
      "metadata": {
        "id": "aeecRUMyBdhF"
      },
      "execution_count": 163,
      "outputs": []
    },
    {
      "cell_type": "code",
      "source": [
        "temp.shape"
      ],
      "metadata": {
        "colab": {
          "base_uri": "https://localhost:8080/"
        },
        "id": "KTcsi-9MB2jd",
        "outputId": "77ccfbf4-de4d-4402-fea1-f2effea9a538"
      },
      "execution_count": 164,
      "outputs": [
        {
          "output_type": "execute_result",
          "data": {
            "text/plain": [
              "TensorShape([2, 2, 6])"
            ]
          },
          "metadata": {},
          "execution_count": 164
        }
      ]
    },
    {
      "cell_type": "code",
      "source": [
        "temp"
      ],
      "metadata": {
        "colab": {
          "base_uri": "https://localhost:8080/"
        },
        "id": "R1dEyO6qBes7",
        "outputId": "bedcc890-e0e3-40da-ed2a-ae1285685b99"
      },
      "execution_count": 165,
      "outputs": [
        {
          "output_type": "execute_result",
          "data": {
            "text/plain": [
              "<tf.Tensor: shape=(2, 2, 6), dtype=int32, numpy=\n",
              "array([[[  0,   1,   2,   0,  -1,  -2],\n",
              "        [  3,   4,   5,  -3,  -4,  -5]],\n",
              "\n",
              "       [[  6,   7,   8,  -6,  -7,  -8],\n",
              "        [  9,  10,  11,  -9, -10, -11]]], dtype=int32)>"
            ]
          },
          "metadata": {},
          "execution_count": 165
        }
      ]
    },
    {
      "cell_type": "markdown",
      "source": [
        "#### 주의할 거"
      ],
      "metadata": {
        "id": "tUsSDqv7Ehy9"
      }
    },
    {
      "cell_type": "markdown",
      "source": [
        "`-` 차원이 `(n,)` 이런식으로 되어있을 경우"
      ],
      "metadata": {
        "id": "oS6aJKgIEoUx"
      }
    },
    {
      "cell_type": "code",
      "source": [
        "a = tf.constant (range(4))\n",
        "b = -a"
      ],
      "metadata": {
        "id": "Uw5j_KWeEj0-"
      },
      "execution_count": 168,
      "outputs": []
    },
    {
      "cell_type": "code",
      "source": [
        "a.shape"
      ],
      "metadata": {
        "colab": {
          "base_uri": "https://localhost:8080/"
        },
        "id": "iBQkQ4H6EvWH",
        "outputId": "6c5c3760-2320-4bdc-f3c9-b3c6f2e6b632"
      },
      "execution_count": 169,
      "outputs": [
        {
          "output_type": "execute_result",
          "data": {
            "text/plain": [
              "TensorShape([4])"
            ]
          },
          "metadata": {},
          "execution_count": 169
        }
      ]
    },
    {
      "cell_type": "code",
      "source": [
        "tf.concat([a,b],axis=0)"
      ],
      "metadata": {
        "colab": {
          "base_uri": "https://localhost:8080/"
        },
        "id": "pmjba8_TEySY",
        "outputId": "5ea95e74-7924-4497-9e92-4108c5a9b146"
      },
      "execution_count": 170,
      "outputs": [
        {
          "output_type": "execute_result",
          "data": {
            "text/plain": [
              "<tf.Tensor: shape=(8,), dtype=int32, numpy=array([ 0,  1,  2,  3,  0, -1, -2, -3], dtype=int32)>"
            ]
          },
          "metadata": {},
          "execution_count": 170
        }
      ]
    },
    {
      "cell_type": "code",
      "source": [
        "tf.concat([a,b],axis=1)"
      ],
      "metadata": {
        "colab": {
          "base_uri": "https://localhost:8080/",
          "height": 324
        },
        "id": "HAmEBFNmE1CT",
        "outputId": "e108f43c-9ac3-44b5-98ac-6962d294fe0b"
      },
      "execution_count": 171,
      "outputs": [
        {
          "output_type": "error",
          "ename": "InvalidArgumentError",
          "evalue": "ignored",
          "traceback": [
            "\u001b[0;31m---------------------------------------------------------------------------\u001b[0m",
            "\u001b[0;31mInvalidArgumentError\u001b[0m                      Traceback (most recent call last)",
            "\u001b[0;32m<ipython-input-171-6f52ef50c654>\u001b[0m in \u001b[0;36m<module>\u001b[0;34m()\u001b[0m\n\u001b[0;32m----> 1\u001b[0;31m \u001b[0mtf\u001b[0m\u001b[0;34m.\u001b[0m\u001b[0mconcat\u001b[0m\u001b[0;34m(\u001b[0m\u001b[0;34m[\u001b[0m\u001b[0ma\u001b[0m\u001b[0;34m,\u001b[0m\u001b[0mb\u001b[0m\u001b[0;34m]\u001b[0m\u001b[0;34m,\u001b[0m\u001b[0maxis\u001b[0m\u001b[0;34m=\u001b[0m\u001b[0;36m1\u001b[0m\u001b[0;34m)\u001b[0m\u001b[0;34m\u001b[0m\u001b[0;34m\u001b[0m\u001b[0m\n\u001b[0m",
            "\u001b[0;32m/usr/local/lib/python3.7/dist-packages/tensorflow/python/util/traceback_utils.py\u001b[0m in \u001b[0;36merror_handler\u001b[0;34m(*args, **kwargs)\u001b[0m\n\u001b[1;32m    151\u001b[0m     \u001b[0;32mexcept\u001b[0m \u001b[0mException\u001b[0m \u001b[0;32mas\u001b[0m \u001b[0me\u001b[0m\u001b[0;34m:\u001b[0m\u001b[0;34m\u001b[0m\u001b[0;34m\u001b[0m\u001b[0m\n\u001b[1;32m    152\u001b[0m       \u001b[0mfiltered_tb\u001b[0m \u001b[0;34m=\u001b[0m \u001b[0m_process_traceback_frames\u001b[0m\u001b[0;34m(\u001b[0m\u001b[0me\u001b[0m\u001b[0;34m.\u001b[0m\u001b[0m__traceback__\u001b[0m\u001b[0;34m)\u001b[0m\u001b[0;34m\u001b[0m\u001b[0;34m\u001b[0m\u001b[0m\n\u001b[0;32m--> 153\u001b[0;31m       \u001b[0;32mraise\u001b[0m \u001b[0me\u001b[0m\u001b[0;34m.\u001b[0m\u001b[0mwith_traceback\u001b[0m\u001b[0;34m(\u001b[0m\u001b[0mfiltered_tb\u001b[0m\u001b[0;34m)\u001b[0m \u001b[0;32mfrom\u001b[0m \u001b[0;32mNone\u001b[0m\u001b[0;34m\u001b[0m\u001b[0;34m\u001b[0m\u001b[0m\n\u001b[0m\u001b[1;32m    154\u001b[0m     \u001b[0;32mfinally\u001b[0m\u001b[0;34m:\u001b[0m\u001b[0;34m\u001b[0m\u001b[0;34m\u001b[0m\u001b[0m\n\u001b[1;32m    155\u001b[0m       \u001b[0;32mdel\u001b[0m \u001b[0mfiltered_tb\u001b[0m\u001b[0;34m\u001b[0m\u001b[0;34m\u001b[0m\u001b[0m\n",
            "\u001b[0;32m/usr/local/lib/python3.7/dist-packages/tensorflow/python/framework/ops.py\u001b[0m in \u001b[0;36mraise_from_not_ok_status\u001b[0;34m(e, name)\u001b[0m\n\u001b[1;32m   7184\u001b[0m \u001b[0;32mdef\u001b[0m \u001b[0mraise_from_not_ok_status\u001b[0m\u001b[0;34m(\u001b[0m\u001b[0me\u001b[0m\u001b[0;34m,\u001b[0m \u001b[0mname\u001b[0m\u001b[0;34m)\u001b[0m\u001b[0;34m:\u001b[0m\u001b[0;34m\u001b[0m\u001b[0;34m\u001b[0m\u001b[0m\n\u001b[1;32m   7185\u001b[0m   \u001b[0me\u001b[0m\u001b[0;34m.\u001b[0m\u001b[0mmessage\u001b[0m \u001b[0;34m+=\u001b[0m \u001b[0;34m(\u001b[0m\u001b[0;34m\" name: \"\u001b[0m \u001b[0;34m+\u001b[0m \u001b[0mname\u001b[0m \u001b[0;32mif\u001b[0m \u001b[0mname\u001b[0m \u001b[0;32mis\u001b[0m \u001b[0;32mnot\u001b[0m \u001b[0;32mNone\u001b[0m \u001b[0;32melse\u001b[0m \u001b[0;34m\"\"\u001b[0m\u001b[0;34m)\u001b[0m\u001b[0;34m\u001b[0m\u001b[0;34m\u001b[0m\u001b[0m\n\u001b[0;32m-> 7186\u001b[0;31m   \u001b[0;32mraise\u001b[0m \u001b[0mcore\u001b[0m\u001b[0;34m.\u001b[0m\u001b[0m_status_to_exception\u001b[0m\u001b[0;34m(\u001b[0m\u001b[0me\u001b[0m\u001b[0;34m)\u001b[0m \u001b[0;32mfrom\u001b[0m \u001b[0;32mNone\u001b[0m  \u001b[0;31m# pylint: disable=protected-access\u001b[0m\u001b[0;34m\u001b[0m\u001b[0;34m\u001b[0m\u001b[0m\n\u001b[0m\u001b[1;32m   7187\u001b[0m \u001b[0;34m\u001b[0m\u001b[0m\n\u001b[1;32m   7188\u001b[0m \u001b[0;34m\u001b[0m\u001b[0m\n",
            "\u001b[0;31mInvalidArgumentError\u001b[0m: ConcatOp : Expected concatenating dimensions in the range [-1, 1), but got 1 [Op:ConcatV2] name: concat"
          ]
        }
      ]
    },
    {
      "cell_type": "markdown",
      "source": [
        "`-` 위 같은 에러가 안뜨게 하려면"
      ],
      "metadata": {
        "id": "Um4U2gsNE6Oc"
      }
    },
    {
      "cell_type": "code",
      "source": [
        "a = tf.constant([list(range(4))])\n",
        "b=-a"
      ],
      "metadata": {
        "id": "D9GNB_yHE8Hd"
      },
      "execution_count": 175,
      "outputs": []
    },
    {
      "cell_type": "code",
      "source": [
        "a.shape"
      ],
      "metadata": {
        "colab": {
          "base_uri": "https://localhost:8080/"
        },
        "id": "k2mxI_D8FCN-",
        "outputId": "2df32984-14f6-432c-d19c-15344f6999ae"
      },
      "execution_count": 176,
      "outputs": [
        {
          "output_type": "execute_result",
          "data": {
            "text/plain": [
              "TensorShape([1, 4])"
            ]
          },
          "metadata": {},
          "execution_count": 176
        }
      ]
    },
    {
      "cell_type": "code",
      "source": [
        "tf.concat([a,b],axis=0)"
      ],
      "metadata": {
        "colab": {
          "base_uri": "https://localhost:8080/"
        },
        "id": "6zFfp9hTFDHk",
        "outputId": "f02e1429-300e-4ce3-942e-ee69fc835ed9"
      },
      "execution_count": 177,
      "outputs": [
        {
          "output_type": "execute_result",
          "data": {
            "text/plain": [
              "<tf.Tensor: shape=(2, 4), dtype=int32, numpy=\n",
              "array([[ 0,  1,  2,  3],\n",
              "       [ 0, -1, -2, -3]], dtype=int32)>"
            ]
          },
          "metadata": {},
          "execution_count": 177
        }
      ]
    },
    {
      "cell_type": "code",
      "source": [
        "tf.concat([a,b],axis=1)"
      ],
      "metadata": {
        "colab": {
          "base_uri": "https://localhost:8080/"
        },
        "id": "DMzDwpplFJFX",
        "outputId": "e76b8891-8feb-4fac-ef25-add15013bbdf"
      },
      "execution_count": 178,
      "outputs": [
        {
          "output_type": "execute_result",
          "data": {
            "text/plain": [
              "<tf.Tensor: shape=(1, 8), dtype=int32, numpy=array([[ 0,  1,  2,  3,  0, -1, -2, -3]], dtype=int32)>"
            ]
          },
          "metadata": {},
          "execution_count": 178
        }
      ]
    },
    {
      "cell_type": "markdown",
      "source": [
        "### tf.stack "
      ],
      "metadata": {
        "id": "KqfbJDbqFYGA"
      }
    },
    {
      "cell_type": "markdown",
      "source": [
        "#### 저차원의 경우"
      ],
      "metadata": {
        "id": "9nemOWBEGO9H"
      }
    },
    {
      "cell_type": "code",
      "source": [
        " a = tf.constant(range(4))\n",
        " b = -a"
      ],
      "metadata": {
        "id": "Ni6DOWzlFcn0"
      },
      "execution_count": 183,
      "outputs": []
    },
    {
      "cell_type": "code",
      "source": [
        "a.shape"
      ],
      "metadata": {
        "colab": {
          "base_uri": "https://localhost:8080/"
        },
        "id": "9_DpY0AYF1QA",
        "outputId": "baec6700-59bb-4f26-f38a-d7840b161082"
      },
      "execution_count": 185,
      "outputs": [
        {
          "output_type": "execute_result",
          "data": {
            "text/plain": [
              "TensorShape([4])"
            ]
          },
          "metadata": {},
          "execution_count": 185
        }
      ]
    },
    {
      "cell_type": "code",
      "source": [
        "tf.stack([a,b],axis=0)"
      ],
      "metadata": {
        "colab": {
          "base_uri": "https://localhost:8080/"
        },
        "id": "oc_malsfF_MC",
        "outputId": "215803e9-88ac-439c-bf9b-f364b491f6a0"
      },
      "execution_count": 186,
      "outputs": [
        {
          "output_type": "execute_result",
          "data": {
            "text/plain": [
              "<tf.Tensor: shape=(2, 4), dtype=int32, numpy=\n",
              "array([[ 0,  1,  2,  3],\n",
              "       [ 0, -1, -2, -3]], dtype=int32)>"
            ]
          },
          "metadata": {},
          "execution_count": 186
        }
      ]
    },
    {
      "cell_type": "code",
      "source": [
        "tf.stack([a,b],axis=1)"
      ],
      "metadata": {
        "colab": {
          "base_uri": "https://localhost:8080/"
        },
        "id": "468R2QmdGC6A",
        "outputId": "fc966471-e1e0-4337-e380-654e684dbce0"
      },
      "execution_count": 188,
      "outputs": [
        {
          "output_type": "execute_result",
          "data": {
            "text/plain": [
              "<tf.Tensor: shape=(4, 2), dtype=int32, numpy=\n",
              "array([[ 0,  0],\n",
              "       [ 1, -1],\n",
              "       [ 2, -2],\n",
              "       [ 3, -3]], dtype=int32)>"
            ]
          },
          "metadata": {},
          "execution_count": 188
        }
      ]
    },
    {
      "cell_type": "markdown",
      "source": [
        "#### 고차원의 경우"
      ],
      "metadata": {
        "id": "i0hq8rGwGQu-"
      }
    },
    {
      "cell_type": "code",
      "source": [
        "a = tf.reshape(tf.constant(range(12)),(2,2,3))\n",
        "b = -a\n",
        "a.shape"
      ],
      "metadata": {
        "colab": {
          "base_uri": "https://localhost:8080/"
        },
        "id": "UCEl3Jf9GSX9",
        "outputId": "39548549-fd09-4565-d41d-7859388c5564"
      },
      "execution_count": 201,
      "outputs": [
        {
          "output_type": "execute_result",
          "data": {
            "text/plain": [
              "TensorShape([2, 2, 3])"
            ]
          },
          "metadata": {},
          "execution_count": 201
        }
      ]
    },
    {
      "cell_type": "code",
      "source": [
        "a"
      ],
      "metadata": {
        "colab": {
          "base_uri": "https://localhost:8080/"
        },
        "id": "CQX4QJTAGpQy",
        "outputId": "ff51362e-8ed1-48cf-b0f6-0303f7da4a2b"
      },
      "execution_count": 202,
      "outputs": [
        {
          "output_type": "execute_result",
          "data": {
            "text/plain": [
              "<tf.Tensor: shape=(2, 2, 3), dtype=int32, numpy=\n",
              "array([[[ 0,  1,  2],\n",
              "        [ 3,  4,  5]],\n",
              "\n",
              "       [[ 6,  7,  8],\n",
              "        [ 9, 10, 11]]], dtype=int32)>"
            ]
          },
          "metadata": {},
          "execution_count": 202
        }
      ]
    },
    {
      "cell_type": "code",
      "source": [
        "temp = tf.stack([a,b],axis=0)\n",
        "temp.shape"
      ],
      "metadata": {
        "colab": {
          "base_uri": "https://localhost:8080/"
        },
        "id": "rJaXjN02Gsvm",
        "outputId": "c901ef5a-9d28-4f5f-ddb4-47d7b0186545"
      },
      "execution_count": 199,
      "outputs": [
        {
          "output_type": "execute_result",
          "data": {
            "text/plain": [
              "TensorShape([2, 2, 2, 3])"
            ]
          },
          "metadata": {},
          "execution_count": 199
        }
      ]
    },
    {
      "cell_type": "code",
      "source": [
        "temp"
      ],
      "metadata": {
        "colab": {
          "base_uri": "https://localhost:8080/"
        },
        "id": "ocXRFJn2GnCb",
        "outputId": "d9a8ef04-c4d5-4633-ab8f-2a45df453318"
      },
      "execution_count": 203,
      "outputs": [
        {
          "output_type": "execute_result",
          "data": {
            "text/plain": [
              "<tf.Tensor: shape=(2, 2, 2, 3), dtype=int32, numpy=\n",
              "array([[[[  0,   1,   2],\n",
              "         [  3,   4,   5]],\n",
              "\n",
              "        [[  6,   7,   8],\n",
              "         [  9,  10,  11]]],\n",
              "\n",
              "\n",
              "       [[[  0,  -1,  -2],\n",
              "         [ -3,  -4,  -5]],\n",
              "\n",
              "        [[ -6,  -7,  -8],\n",
              "         [ -9, -10, -11]]]], dtype=int32)>"
            ]
          },
          "metadata": {},
          "execution_count": 203
        }
      ]
    },
    {
      "cell_type": "code",
      "source": [
        "temp = tf.stack([a,b],axis=1)\n",
        "temp.shape"
      ],
      "metadata": {
        "colab": {
          "base_uri": "https://localhost:8080/"
        },
        "id": "cYw3yVRpG5IE",
        "outputId": "4018bb2e-e636-49e9-ce91-007534a6831f"
      },
      "execution_count": 204,
      "outputs": [
        {
          "output_type": "execute_result",
          "data": {
            "text/plain": [
              "TensorShape([2, 2, 2, 3])"
            ]
          },
          "metadata": {},
          "execution_count": 204
        }
      ]
    },
    {
      "cell_type": "code",
      "source": [
        "temp"
      ],
      "metadata": {
        "colab": {
          "base_uri": "https://localhost:8080/"
        },
        "id": "A5MD7pYEG66X",
        "outputId": "5cc62a7b-e7f3-45e3-b619-17139e3c7913"
      },
      "execution_count": 205,
      "outputs": [
        {
          "output_type": "execute_result",
          "data": {
            "text/plain": [
              "<tf.Tensor: shape=(2, 2, 2, 3), dtype=int32, numpy=\n",
              "array([[[[  0,   1,   2],\n",
              "         [  3,   4,   5]],\n",
              "\n",
              "        [[  0,  -1,  -2],\n",
              "         [ -3,  -4,  -5]]],\n",
              "\n",
              "\n",
              "       [[[  6,   7,   8],\n",
              "         [  9,  10,  11]],\n",
              "\n",
              "        [[ -6,  -7,  -8],\n",
              "         [ -9, -10, -11]]]], dtype=int32)>"
            ]
          },
          "metadata": {},
          "execution_count": 205
        }
      ]
    },
    {
      "cell_type": "code",
      "source": [
        "temp = tf.stack([a,b],axis=2)\n",
        "temp.shape"
      ],
      "metadata": {
        "colab": {
          "base_uri": "https://localhost:8080/"
        },
        "id": "Di2EZtksHNuj",
        "outputId": "c7e14c81-1bf5-48a5-baa0-e420f01ec944"
      },
      "execution_count": 206,
      "outputs": [
        {
          "output_type": "execute_result",
          "data": {
            "text/plain": [
              "TensorShape([2, 2, 2, 3])"
            ]
          },
          "metadata": {},
          "execution_count": 206
        }
      ]
    },
    {
      "cell_type": "code",
      "source": [
        "temp"
      ],
      "metadata": {
        "colab": {
          "base_uri": "https://localhost:8080/"
        },
        "id": "X46bl-XXHOfy",
        "outputId": "b881bfdd-bf92-4e0f-e9dd-3d88ed1cae3e"
      },
      "execution_count": 207,
      "outputs": [
        {
          "output_type": "execute_result",
          "data": {
            "text/plain": [
              "<tf.Tensor: shape=(2, 2, 2, 3), dtype=int32, numpy=\n",
              "array([[[[  0,   1,   2],\n",
              "         [  0,  -1,  -2]],\n",
              "\n",
              "        [[  3,   4,   5],\n",
              "         [ -3,  -4,  -5]]],\n",
              "\n",
              "\n",
              "       [[[  6,   7,   8],\n",
              "         [ -6,  -7,  -8]],\n",
              "\n",
              "        [[  9,  10,  11],\n",
              "         [ -9, -10, -11]]]], dtype=int32)>"
            ]
          },
          "metadata": {},
          "execution_count": 207
        }
      ]
    },
    {
      "cell_type": "markdown",
      "source": [
        "#### Summary "
      ],
      "metadata": {
        "id": "v8IXpludHTJu"
      }
    },
    {
      "cell_type": "markdown",
      "source": [
        "* `tf.concat` : 케이크를 차원 수만큼 썰고 다시 합하는데 설정한 접시에 수는 변하지 않는다. (즉, 두 그룹의 각각 접시(차원) 수를 합한 차원은 변하지 않는다)"
      ],
      "metadata": {
        "id": "NMMmvvquHVHL"
      }
    },
    {
      "cell_type": "markdown",
      "source": [
        "* `tf.stack` : 케이크를 차원 수만큼 썰고 다시 합하는데 이때는 접시가 하나 추가된다."
      ],
      "metadata": {
        "id": "nxrvzBjFHbst"
      }
    },
    {
      "cell_type": "markdown",
      "source": [
        "* `tf.concat` 과 `tf.stack`의 `axis` 는 `axis`가 늘어날 수록 세부 요소로 간다는 것!!"
      ],
      "metadata": {
        "id": "Qmk3tV4iHo_M"
      }
    },
    {
      "cell_type": "markdown",
      "source": [
        "### tnp"
      ],
      "metadata": {
        "id": "9TF4i5LXIp0s"
      }
    },
    {
      "cell_type": "markdown",
      "source": [
        " - tf는 넘파이에 비해 만드는 것이 상당히 힘듬"
      ],
      "metadata": {
        "id": "VMVTxqDdIrlV"
      }
    },
    {
      "cell_type": "markdown",
      "source": [
        "* 울지말자 나같은 생각을 하는 어떤 천재가 이미 만들어 놨으니 케케"
      ],
      "metadata": {
        "id": "zf7yBwtlIz0i"
      }
    },
    {
      "cell_type": "code",
      "source": [
        "import tensorflow.experimental.numpy as tnp\n",
        "tnp.experimental_enable_numpy_behavior()"
      ],
      "metadata": {
        "id": "Muzz4RMAI44U"
      },
      "execution_count": 209,
      "outputs": []
    },
    {
      "cell_type": "markdown",
      "source": [
        "* 이제 자료형이 달라도 연산이 가능하다"
      ],
      "metadata": {
        "id": "bPcA5I_9JC-L"
      }
    },
    {
      "cell_type": "code",
      "source": [
        "tnp.array([1,2,3]) + tnp.array([1.0,2.0,3.0])"
      ],
      "metadata": {
        "colab": {
          "base_uri": "https://localhost:8080/"
        },
        "id": "HEoz76m3JONP",
        "outputId": "be3bdebc-16c7-4c6e-da6a-d6be1b7fbfdd"
      },
      "execution_count": 210,
      "outputs": [
        {
          "output_type": "execute_result",
          "data": {
            "text/plain": [
              "<tf.Tensor: shape=(3,), dtype=float64, numpy=array([2., 4., 6.])>"
            ]
          },
          "metadata": {},
          "execution_count": 210
        }
      ]
    },
    {
      "cell_type": "code",
      "source": [
        "tf.constant([1,2,3])+tf.constant([1.0,2.0,3.0])"
      ],
      "metadata": {
        "colab": {
          "base_uri": "https://localhost:8080/"
        },
        "id": "6ytx3iERJX53",
        "outputId": "377d2354-531b-42ef-891a-807a9e2f8b29"
      },
      "execution_count": 212,
      "outputs": [
        {
          "output_type": "execute_result",
          "data": {
            "text/plain": [
              "<tf.Tensor: shape=(3,), dtype=float64, numpy=array([2., 4., 6.])>"
            ]
          },
          "metadata": {},
          "execution_count": 212
        }
      ]
    },
    {
      "cell_type": "code",
      "source": [
        "tnp.array([1,2,3]) *tnp.array([1.0,2.0,3.0])"
      ],
      "metadata": {
        "colab": {
          "base_uri": "https://localhost:8080/"
        },
        "id": "zx4SgrVHJTkI",
        "outputId": "77cc9a21-32a7-4e0c-eea5-0c8030e7817f"
      },
      "execution_count": 211,
      "outputs": [
        {
          "output_type": "execute_result",
          "data": {
            "text/plain": [
              "<tf.Tensor: shape=(3,), dtype=float64, numpy=array([1., 4., 9.])>"
            ]
          },
          "metadata": {},
          "execution_count": 211
        }
      ]
    },
    {
      "cell_type": "code",
      "source": [
        "a= tnp.diag([1,2,3])\n",
        "a"
      ],
      "metadata": {
        "colab": {
          "base_uri": "https://localhost:8080/"
        },
        "id": "u92x7fKqJVws",
        "outputId": "63b97dcc-326b-4f55-e5c4-cea38847d8e2"
      },
      "execution_count": 215,
      "outputs": [
        {
          "output_type": "execute_result",
          "data": {
            "text/plain": [
              "<tf.Tensor: shape=(3, 3), dtype=int64, numpy=\n",
              "array([[1, 0, 0],\n",
              "       [0, 2, 0],\n",
              "       [0, 0, 3]])>"
            ]
          },
          "metadata": {},
          "execution_count": 215
        }
      ]
    },
    {
      "cell_type": "markdown",
      "source": [
        "#### 심지어"
      ],
      "metadata": {
        "id": "TlIDG8fYJdsr"
      }
    },
    {
      "cell_type": "code",
      "source": [
        "tnp.array(1) + tnp.array([1.0,2.0,3.0])"
      ],
      "metadata": {
        "colab": {
          "base_uri": "https://localhost:8080/"
        },
        "id": "bJgD7I65JxUQ",
        "outputId": "b414660c-b742-4813-8596-e9af73e0f581"
      },
      "execution_count": 216,
      "outputs": [
        {
          "output_type": "execute_result",
          "data": {
            "text/plain": [
              "<tf.Tensor: shape=(3,), dtype=float64, numpy=array([2., 3., 4.])>"
            ]
          },
          "metadata": {},
          "execution_count": 216
        }
      ]
    },
    {
      "cell_type": "code",
      "source": [
        "a= tnp.diag([1,2,3])\n",
        "a"
      ],
      "metadata": {
        "colab": {
          "base_uri": "https://localhost:8080/"
        },
        "id": "qAjTu7zQJ1pL",
        "outputId": "56bff5da-3104-43c8-8f5d-0b530606bc3e"
      },
      "execution_count": 217,
      "outputs": [
        {
          "output_type": "execute_result",
          "data": {
            "text/plain": [
              "<tf.Tensor: shape=(3, 3), dtype=int64, numpy=\n",
              "array([[1, 0, 0],\n",
              "       [0, 2, 0],\n",
              "       [0, 0, 3]])>"
            ]
          },
          "metadata": {},
          "execution_count": 217
        }
      ]
    },
    {
      "cell_type": "code",
      "source": [
        "a.min(), a.max()"
      ],
      "metadata": {
        "colab": {
          "base_uri": "https://localhost:8080/"
        },
        "id": "bb_yLjZvJ7cM",
        "outputId": "d2936988-1a28-47ec-a72a-3698cfc480fa"
      },
      "execution_count": 218,
      "outputs": [
        {
          "output_type": "execute_result",
          "data": {
            "text/plain": [
              "(<tf.Tensor: shape=(), dtype=int64, numpy=0>,\n",
              " <tf.Tensor: shape=(), dtype=int64, numpy=3>)"
            ]
          },
          "metadata": {},
          "execution_count": 218
        }
      ]
    },
    {
      "cell_type": "code",
      "source": [
        "a.reshape(9,1)"
      ],
      "metadata": {
        "colab": {
          "base_uri": "https://localhost:8080/"
        },
        "id": "kbQZYgCwJ-pB",
        "outputId": "c3b54714-6c95-48b3-f2a0-a86f990a0833"
      },
      "execution_count": 219,
      "outputs": [
        {
          "output_type": "execute_result",
          "data": {
            "text/plain": [
              "<tf.Tensor: shape=(9, 1), dtype=int64, numpy=\n",
              "array([[1],\n",
              "       [0],\n",
              "       [0],\n",
              "       [0],\n",
              "       [2],\n",
              "       [0],\n",
              "       [0],\n",
              "       [0],\n",
              "       [3]])>"
            ]
          },
          "metadata": {},
          "execution_count": 219
        }
      ]
    },
    {
      "cell_type": "markdown",
      "source": [
        "#### 선언 고급 "
      ],
      "metadata": {
        "id": "EixTGnOQKF0z"
      }
    },
    {
      "cell_type": "code",
      "source": [
        "np.random.randn(5)"
      ],
      "metadata": {
        "colab": {
          "base_uri": "https://localhost:8080/"
        },
        "id": "H1Pd6ZliKICg",
        "outputId": "11265cae-c2b1-41fa-c1e3-eaaf03bbeaf4"
      },
      "execution_count": 222,
      "outputs": [
        {
          "output_type": "execute_result",
          "data": {
            "text/plain": [
              "array([-1.78435059,  1.29045981,  0.08127629, -0.79964532,  0.72590563])"
            ]
          },
          "metadata": {},
          "execution_count": 222
        }
      ]
    },
    {
      "cell_type": "code",
      "source": [
        "tnp.random.randn(5)"
      ],
      "metadata": {
        "colab": {
          "base_uri": "https://localhost:8080/"
        },
        "id": "Io2-24hPKKXO",
        "outputId": "ad1589ba-62ef-401c-fcc4-6f85a41eba42"
      },
      "execution_count": 223,
      "outputs": [
        {
          "output_type": "execute_result",
          "data": {
            "text/plain": [
              "<tf.Tensor: shape=(5,), dtype=float64, numpy=array([ 0.96818851,  1.46349868, -1.97239766,  0.93021469, -0.41628377])>"
            ]
          },
          "metadata": {},
          "execution_count": 223
        }
      ]
    },
    {
      "cell_type": "code",
      "source": [
        "type(np.random.randn(5))"
      ],
      "metadata": {
        "colab": {
          "base_uri": "https://localhost:8080/"
        },
        "id": "BK50Kq7eKQKJ",
        "outputId": "54f366e7-2caf-46c3-ef76-570d23bda904"
      },
      "execution_count": 225,
      "outputs": [
        {
          "output_type": "execute_result",
          "data": {
            "text/plain": [
              "numpy.ndarray"
            ]
          },
          "metadata": {},
          "execution_count": 225
        }
      ]
    },
    {
      "cell_type": "code",
      "source": [
        "type(tnp.random.randn(5))"
      ],
      "metadata": {
        "colab": {
          "base_uri": "https://localhost:8080/"
        },
        "id": "M86zEnbxKQ_2",
        "outputId": "5cd0c3d6-a33f-45b5-ebff-afad60f2bf46"
      },
      "execution_count": 226,
      "outputs": [
        {
          "output_type": "execute_result",
          "data": {
            "text/plain": [
              "tensorflow.python.framework.ops.EagerTensor"
            ]
          },
          "metadata": {},
          "execution_count": 226
        }
      ]
    },
    {
      "cell_type": "markdown",
      "source": [
        "#### 그러나...."
      ],
      "metadata": {
        "id": "RSO-ySxpKVfv"
      }
    },
    {
      "cell_type": "code",
      "source": [
        "a = tnp.array(range(4))\n",
        "a"
      ],
      "metadata": {
        "colab": {
          "base_uri": "https://localhost:8080/"
        },
        "id": "uF9rP1shKXTe",
        "outputId": "9c25e168-2af2-4c4f-86a6-c8749ca8255b"
      },
      "execution_count": 229,
      "outputs": [
        {
          "output_type": "execute_result",
          "data": {
            "text/plain": [
              "<tf.Tensor: shape=(4,), dtype=int64, numpy=array([0, 1, 2, 3])>"
            ]
          },
          "metadata": {},
          "execution_count": 229
        }
      ]
    },
    {
      "cell_type": "code",
      "source": [
        "a[0]=11"
      ],
      "metadata": {
        "colab": {
          "base_uri": "https://localhost:8080/",
          "height": 172
        },
        "id": "nIV-wgOHKcuv",
        "outputId": "14e40f04-1969-4d1b-ec4d-b3b8f6103060"
      },
      "execution_count": 230,
      "outputs": [
        {
          "output_type": "error",
          "ename": "TypeError",
          "evalue": "ignored",
          "traceback": [
            "\u001b[0;31m---------------------------------------------------------------------------\u001b[0m",
            "\u001b[0;31mTypeError\u001b[0m                                 Traceback (most recent call last)",
            "\u001b[0;32m<ipython-input-230-b909b2ec59d1>\u001b[0m in \u001b[0;36m<module>\u001b[0;34m()\u001b[0m\n\u001b[0;32m----> 1\u001b[0;31m \u001b[0ma\u001b[0m\u001b[0;34m[\u001b[0m\u001b[0;36m0\u001b[0m\u001b[0;34m]\u001b[0m\u001b[0;34m=\u001b[0m\u001b[0;36m11\u001b[0m\u001b[0;34m\u001b[0m\u001b[0;34m\u001b[0m\u001b[0m\n\u001b[0m",
            "\u001b[0;31mTypeError\u001b[0m: 'tensorflow.python.framework.ops.EagerTensor' object does not support item assignment"
          ]
        }
      ]
    },
    {
      "cell_type": "markdown",
      "source": [
        "* 여전히 기존 변수의 원소 값을 새로운 값으로 할당하는 것은 불가능하다."
      ],
      "metadata": {
        "id": "QLCL1tVsKeVL"
      }
    },
    {
      "cell_type": "markdown",
      "source": [
        "#### Summary of tnp"
      ],
      "metadata": {
        "id": "dEKjXwccKlVi"
      }
    },
    {
      "cell_type": "markdown",
      "source": [
        "* `numpy` 처럼 사용이 가능"
      ],
      "metadata": {
        "id": "i_vgdg4qKo-_"
      }
    },
    {
      "cell_type": "markdown",
      "source": [
        "* 심지어 묵시적 형변환도 가능"
      ],
      "metadata": {
        "id": "U_Pnw_sUKsD5"
      }
    },
    {
      "cell_type": "markdown",
      "source": [
        "* 그러나 여전히  **기존 변수의 새로운 값을 할당하는 것은 불가능하다** "
      ],
      "metadata": {
        "id": "5H6djQCEKu6T"
      }
    },
    {
      "cell_type": "markdown",
      "source": [
        "***"
      ],
      "metadata": {
        "id": "8X_pJxK6LI6i"
      }
    },
    {
      "cell_type": "markdown",
      "source": [
        "## 3주차"
      ],
      "metadata": {
        "id": "y_HkYAsfLKEV"
      }
    },
    {
      "cell_type": "code",
      "source": [
        "import tensorflow as tf\n",
        "import numpy as np\n",
        "import tensorflow.experimental.numpy as tnp\n",
        "tnp.experimental_enable_numpy_behavior()"
      ],
      "metadata": {
        "id": "5XrQer3GNY8E"
      },
      "execution_count": 232,
      "outputs": []
    },
    {
      "cell_type": "code",
      "source": [
        "tf.config.experimental.list_physical_devices(\"GPU\")"
      ],
      "metadata": {
        "colab": {
          "base_uri": "https://localhost:8080/"
        },
        "id": "WQV4_FKMNtcX",
        "outputId": "96a6a58d-f2de-4af2-9c8f-a658bba65c5a"
      },
      "execution_count": 233,
      "outputs": [
        {
          "output_type": "execute_result",
          "data": {
            "text/plain": [
              "[PhysicalDevice(name='/physical_device:GPU:0', device_type='GPU')]"
            ]
          },
          "metadata": {},
          "execution_count": 233
        }
      ]
    },
    {
      "cell_type": "markdown",
      "source": [
        "### 지난강의 보충"
      ],
      "metadata": {
        "id": "G_eomdZAN0sU"
      }
    },
    {
      "cell_type": "code",
      "source": [
        "a = tf.constant(range(1,5))\n",
        "a"
      ],
      "metadata": {
        "colab": {
          "base_uri": "https://localhost:8080/"
        },
        "id": "sHC42t4ZN44A",
        "outputId": "f8bf5bb8-e475-409a-9836-48e15f466ae9"
      },
      "execution_count": 235,
      "outputs": [
        {
          "output_type": "execute_result",
          "data": {
            "text/plain": [
              "<tf.Tensor: shape=(4,), dtype=int32, numpy=array([1, 2, 3, 4], dtype=int32)>"
            ]
          },
          "metadata": {},
          "execution_count": 235
        }
      ]
    },
    {
      "cell_type": "code",
      "source": [
        "a.mean(), tf.reduce_mean(a)"
      ],
      "metadata": {
        "colab": {
          "base_uri": "https://localhost:8080/"
        },
        "id": "xZkrkLgxN9HL",
        "outputId": "7067001f-daa6-4638-8f67-2a17f8715113"
      },
      "execution_count": 237,
      "outputs": [
        {
          "output_type": "execute_result",
          "data": {
            "text/plain": [
              "(<tf.Tensor: shape=(), dtype=float64, numpy=2.5>,\n",
              " <tf.Tensor: shape=(), dtype=int32, numpy=2>)"
            ]
          },
          "metadata": {},
          "execution_count": 237
        }
      ]
    },
    {
      "cell_type": "markdown",
      "source": [
        "#### stack"
      ],
      "metadata": {
        "id": "kb7n-HsKOFy6"
      }
    },
    {
      "cell_type": "code",
      "source": [
        "a = tf.reshape(tf.constant(range(12)),(2,2,3))\n",
        "b=-a\n",
        "a.shape"
      ],
      "metadata": {
        "colab": {
          "base_uri": "https://localhost:8080/"
        },
        "id": "StgLDN8kOIDN",
        "outputId": "77aef6e0-fc2f-4bc7-891b-bcefe76e6a1f"
      },
      "execution_count": 241,
      "outputs": [
        {
          "output_type": "execute_result",
          "data": {
            "text/plain": [
              "TensorShape([2, 2, 3])"
            ]
          },
          "metadata": {},
          "execution_count": 241
        }
      ]
    },
    {
      "cell_type": "code",
      "source": [
        "tf.stack([a,b],axis=0)"
      ],
      "metadata": {
        "colab": {
          "base_uri": "https://localhost:8080/"
        },
        "id": "hep1hnvBORFM",
        "outputId": "b9ec3103-d881-44f1-fd35-ad8a01a11f4e"
      },
      "execution_count": 242,
      "outputs": [
        {
          "output_type": "execute_result",
          "data": {
            "text/plain": [
              "<tf.Tensor: shape=(2, 2, 2, 3), dtype=int32, numpy=\n",
              "array([[[[  0,   1,   2],\n",
              "         [  3,   4,   5]],\n",
              "\n",
              "        [[  6,   7,   8],\n",
              "         [  9,  10,  11]]],\n",
              "\n",
              "\n",
              "       [[[  0,  -1,  -2],\n",
              "         [ -3,  -4,  -5]],\n",
              "\n",
              "        [[ -6,  -7,  -8],\n",
              "         [ -9, -10, -11]]]], dtype=int32)>"
            ]
          },
          "metadata": {},
          "execution_count": 242
        }
      ]
    },
    {
      "cell_type": "code",
      "source": [
        "tf.stack([a,b],axis=1)"
      ],
      "metadata": {
        "colab": {
          "base_uri": "https://localhost:8080/"
        },
        "id": "7UELLJPEOY3z",
        "outputId": "f28aa7d0-d07c-497d-d2d9-f9fb933b2533"
      },
      "execution_count": 247,
      "outputs": [
        {
          "output_type": "execute_result",
          "data": {
            "text/plain": [
              "<tf.Tensor: shape=(2, 2, 2, 3), dtype=int32, numpy=\n",
              "array([[[[  0,   1,   2],\n",
              "         [  3,   4,   5]],\n",
              "\n",
              "        [[  0,  -1,  -2],\n",
              "         [ -3,  -4,  -5]]],\n",
              "\n",
              "\n",
              "       [[[  6,   7,   8],\n",
              "         [  9,  10,  11]],\n",
              "\n",
              "        [[ -6,  -7,  -8],\n",
              "         [ -9, -10, -11]]]], dtype=int32)>"
            ]
          },
          "metadata": {},
          "execution_count": 247
        }
      ]
    },
    {
      "cell_type": "code",
      "source": [
        "tf.stack([a,b],axis=2)"
      ],
      "metadata": {
        "colab": {
          "base_uri": "https://localhost:8080/"
        },
        "id": "Z5wv-Jb3OdWC",
        "outputId": "bd916048-0a1b-490d-d126-1717d565b0b1"
      },
      "execution_count": 248,
      "outputs": [
        {
          "output_type": "execute_result",
          "data": {
            "text/plain": [
              "<tf.Tensor: shape=(2, 2, 2, 3), dtype=int32, numpy=\n",
              "array([[[[  0,   1,   2],\n",
              "         [  0,  -1,  -2]],\n",
              "\n",
              "        [[  3,   4,   5],\n",
              "         [ -3,  -4,  -5]]],\n",
              "\n",
              "\n",
              "       [[[  6,   7,   8],\n",
              "         [ -6,  -7,  -8]],\n",
              "\n",
              "        [[  9,  10,  11],\n",
              "         [ -9, -10, -11]]]], dtype=int32)>"
            ]
          },
          "metadata": {},
          "execution_count": 248
        }
      ]
    },
    {
      "cell_type": "code",
      "source": [
        "tf.stack([a,b],axis=3)"
      ],
      "metadata": {
        "colab": {
          "base_uri": "https://localhost:8080/"
        },
        "id": "e0LFAP0OO3wP",
        "outputId": "10a29cdb-cc6b-4062-af06-53777406307b"
      },
      "execution_count": 252,
      "outputs": [
        {
          "output_type": "execute_result",
          "data": {
            "text/plain": [
              "<tf.Tensor: shape=(2, 2, 3, 2), dtype=int32, numpy=\n",
              "array([[[[  0,   0],\n",
              "         [  1,  -1],\n",
              "         [  2,  -2]],\n",
              "\n",
              "        [[  3,  -3],\n",
              "         [  4,  -4],\n",
              "         [  5,  -5]]],\n",
              "\n",
              "\n",
              "       [[[  6,  -6],\n",
              "         [  7,  -7],\n",
              "         [  8,  -8]],\n",
              "\n",
              "        [[  9,  -9],\n",
              "         [ 10, -10],\n",
              "         [ 11, -11]]]], dtype=int32)>"
            ]
          },
          "metadata": {},
          "execution_count": 252
        }
      ]
    },
    {
      "cell_type": "code",
      "source": [
        "tf.stack([a,b],axis=-1)"
      ],
      "metadata": {
        "colab": {
          "base_uri": "https://localhost:8080/"
        },
        "id": "NYdsKULhPA4z",
        "outputId": "7c7dd9bb-4a8a-4f83-9fef-85d8ee2842e7"
      },
      "execution_count": 253,
      "outputs": [
        {
          "output_type": "execute_result",
          "data": {
            "text/plain": [
              "<tf.Tensor: shape=(2, 2, 3, 2), dtype=int32, numpy=\n",
              "array([[[[  0,   0],\n",
              "         [  1,  -1],\n",
              "         [  2,  -2]],\n",
              "\n",
              "        [[  3,  -3],\n",
              "         [  4,  -4],\n",
              "         [  5,  -5]]],\n",
              "\n",
              "\n",
              "       [[[  6,  -6],\n",
              "         [  7,  -7],\n",
              "         [  8,  -8]],\n",
              "\n",
              "        [[  9,  -9],\n",
              "         [ 10, -10],\n",
              "         [ 11, -11]]]], dtype=int32)>"
            ]
          },
          "metadata": {},
          "execution_count": 253
        }
      ]
    },
    {
      "cell_type": "markdown",
      "source": [
        "#### concat"
      ],
      "metadata": {
        "id": "ctu9oVRKOjFw"
      }
    },
    {
      "cell_type": "markdown",
      "source": [
        "(2,2,3),(2,2,3),(2,2,3) $\\to$ (?,?,?)"
      ],
      "metadata": {
        "id": "njg-7UtPPUhe"
      }
    },
    {
      "cell_type": "code",
      "source": [
        "a = tf.reshape(tf.constant(range(12)),(2,2,3))\n",
        "b = -a\n",
        "c= 2*a"
      ],
      "metadata": {
        "id": "cbtd-qVAPEcY"
      },
      "execution_count": 255,
      "outputs": []
    },
    {
      "cell_type": "code",
      "source": [
        "tf.concat([a,b,c],axis=0)"
      ],
      "metadata": {
        "colab": {
          "base_uri": "https://localhost:8080/"
        },
        "id": "BNtaUr8tPRGX",
        "outputId": "69beeaf5-7e01-4a5f-c830-0e7dcabc4ad9"
      },
      "execution_count": 258,
      "outputs": [
        {
          "output_type": "execute_result",
          "data": {
            "text/plain": [
              "<tf.Tensor: shape=(6, 2, 3), dtype=int32, numpy=\n",
              "array([[[  0,   1,   2],\n",
              "        [  3,   4,   5]],\n",
              "\n",
              "       [[  6,   7,   8],\n",
              "        [  9,  10,  11]],\n",
              "\n",
              "       [[  0,  -1,  -2],\n",
              "        [ -3,  -4,  -5]],\n",
              "\n",
              "       [[ -6,  -7,  -8],\n",
              "        [ -9, -10, -11]],\n",
              "\n",
              "       [[  0,   2,   4],\n",
              "        [  6,   8,  10]],\n",
              "\n",
              "       [[ 12,  14,  16],\n",
              "        [ 18,  20,  22]]], dtype=int32)>"
            ]
          },
          "metadata": {},
          "execution_count": 258
        }
      ]
    },
    {
      "cell_type": "code",
      "source": [
        "tf.concat([a,b,c],axis=1)"
      ],
      "metadata": {
        "colab": {
          "base_uri": "https://localhost:8080/"
        },
        "id": "E08q5kk5PgCe",
        "outputId": "ed4ee244-e9ad-4876-956b-6c2891a68855"
      },
      "execution_count": 260,
      "outputs": [
        {
          "output_type": "execute_result",
          "data": {
            "text/plain": [
              "<tf.Tensor: shape=(2, 6, 3), dtype=int32, numpy=\n",
              "array([[[  0,   1,   2],\n",
              "        [  3,   4,   5],\n",
              "        [  0,  -1,  -2],\n",
              "        [ -3,  -4,  -5],\n",
              "        [  0,   2,   4],\n",
              "        [  6,   8,  10]],\n",
              "\n",
              "       [[  6,   7,   8],\n",
              "        [  9,  10,  11],\n",
              "        [ -6,  -7,  -8],\n",
              "        [ -9, -10, -11],\n",
              "        [ 12,  14,  16],\n",
              "        [ 18,  20,  22]]], dtype=int32)>"
            ]
          },
          "metadata": {},
          "execution_count": 260
        }
      ]
    },
    {
      "cell_type": "code",
      "source": [
        "tf.concat([a,b,c],axis=2)"
      ],
      "metadata": {
        "colab": {
          "base_uri": "https://localhost:8080/"
        },
        "id": "A_WcWCjHP5Qf",
        "outputId": "5409a33e-4613-4572-89aa-75b87d0db3c8"
      },
      "execution_count": 261,
      "outputs": [
        {
          "output_type": "execute_result",
          "data": {
            "text/plain": [
              "<tf.Tensor: shape=(2, 2, 9), dtype=int32, numpy=\n",
              "array([[[  0,   1,   2,   0,  -1,  -2,   0,   2,   4],\n",
              "        [  3,   4,   5,  -3,  -4,  -5,   6,   8,  10]],\n",
              "\n",
              "       [[  6,   7,   8,  -6,  -7,  -8,  12,  14,  16],\n",
              "        [  9,  10,  11,  -9, -10, -11,  18,  20,  22]]], dtype=int32)>"
            ]
          },
          "metadata": {},
          "execution_count": 261
        }
      ]
    },
    {
      "cell_type": "code",
      "source": [
        "a=tf.reshape(tf.constant(range(2*3*4)),(2,3,4))\n",
        "b=tf.reshape(-tf.constant(range(4*3*4)),(4,3,4))"
      ],
      "metadata": {
        "id": "lk05JTHrQPda"
      },
      "execution_count": 268,
      "outputs": []
    },
    {
      "cell_type": "code",
      "source": [
        "tf.concat([a,b],axis=0)"
      ],
      "metadata": {
        "colab": {
          "base_uri": "https://localhost:8080/"
        },
        "id": "EdodvEZdQQM6",
        "outputId": "8c2cc99e-ced3-4e13-c1b6-b18cc3029274"
      },
      "execution_count": 269,
      "outputs": [
        {
          "output_type": "execute_result",
          "data": {
            "text/plain": [
              "<tf.Tensor: shape=(6, 3, 4), dtype=int32, numpy=\n",
              "array([[[  0,   1,   2,   3],\n",
              "        [  4,   5,   6,   7],\n",
              "        [  8,   9,  10,  11]],\n",
              "\n",
              "       [[ 12,  13,  14,  15],\n",
              "        [ 16,  17,  18,  19],\n",
              "        [ 20,  21,  22,  23]],\n",
              "\n",
              "       [[  0,  -1,  -2,  -3],\n",
              "        [ -4,  -5,  -6,  -7],\n",
              "        [ -8,  -9, -10, -11]],\n",
              "\n",
              "       [[-12, -13, -14, -15],\n",
              "        [-16, -17, -18, -19],\n",
              "        [-20, -21, -22, -23]],\n",
              "\n",
              "       [[-24, -25, -26, -27],\n",
              "        [-28, -29, -30, -31],\n",
              "        [-32, -33, -34, -35]],\n",
              "\n",
              "       [[-36, -37, -38, -39],\n",
              "        [-40, -41, -42, -43],\n",
              "        [-44, -45, -46, -47]]], dtype=int32)>"
            ]
          },
          "metadata": {},
          "execution_count": 269
        }
      ]
    },
    {
      "cell_type": "markdown",
      "source": [
        "`-` 아래와 같은 경우 `axis=0`의 차원이 같지 않아 에러가 뜨는 것임"
      ],
      "metadata": {
        "id": "VUPAweZUQUO8"
      }
    },
    {
      "cell_type": "code",
      "source": [
        "tf.concat([a,b],axis=1)"
      ],
      "metadata": {
        "colab": {
          "base_uri": "https://localhost:8080/",
          "height": 324
        },
        "id": "9DKLaxPbQRdV",
        "outputId": "d9272546-ed0a-485f-ea90-f6a4aa020769"
      },
      "execution_count": 270,
      "outputs": [
        {
          "output_type": "error",
          "ename": "InvalidArgumentError",
          "evalue": "ignored",
          "traceback": [
            "\u001b[0;31m---------------------------------------------------------------------------\u001b[0m",
            "\u001b[0;31mInvalidArgumentError\u001b[0m                      Traceback (most recent call last)",
            "\u001b[0;32m<ipython-input-270-6f52ef50c654>\u001b[0m in \u001b[0;36m<module>\u001b[0;34m()\u001b[0m\n\u001b[0;32m----> 1\u001b[0;31m \u001b[0mtf\u001b[0m\u001b[0;34m.\u001b[0m\u001b[0mconcat\u001b[0m\u001b[0;34m(\u001b[0m\u001b[0;34m[\u001b[0m\u001b[0ma\u001b[0m\u001b[0;34m,\u001b[0m\u001b[0mb\u001b[0m\u001b[0;34m]\u001b[0m\u001b[0;34m,\u001b[0m\u001b[0maxis\u001b[0m\u001b[0;34m=\u001b[0m\u001b[0;36m1\u001b[0m\u001b[0;34m)\u001b[0m\u001b[0;34m\u001b[0m\u001b[0;34m\u001b[0m\u001b[0m\n\u001b[0m",
            "\u001b[0;32m/usr/local/lib/python3.7/dist-packages/tensorflow/python/util/traceback_utils.py\u001b[0m in \u001b[0;36merror_handler\u001b[0;34m(*args, **kwargs)\u001b[0m\n\u001b[1;32m    151\u001b[0m     \u001b[0;32mexcept\u001b[0m \u001b[0mException\u001b[0m \u001b[0;32mas\u001b[0m \u001b[0me\u001b[0m\u001b[0;34m:\u001b[0m\u001b[0;34m\u001b[0m\u001b[0;34m\u001b[0m\u001b[0m\n\u001b[1;32m    152\u001b[0m       \u001b[0mfiltered_tb\u001b[0m \u001b[0;34m=\u001b[0m \u001b[0m_process_traceback_frames\u001b[0m\u001b[0;34m(\u001b[0m\u001b[0me\u001b[0m\u001b[0;34m.\u001b[0m\u001b[0m__traceback__\u001b[0m\u001b[0;34m)\u001b[0m\u001b[0;34m\u001b[0m\u001b[0;34m\u001b[0m\u001b[0m\n\u001b[0;32m--> 153\u001b[0;31m       \u001b[0;32mraise\u001b[0m \u001b[0me\u001b[0m\u001b[0;34m.\u001b[0m\u001b[0mwith_traceback\u001b[0m\u001b[0;34m(\u001b[0m\u001b[0mfiltered_tb\u001b[0m\u001b[0;34m)\u001b[0m \u001b[0;32mfrom\u001b[0m \u001b[0;32mNone\u001b[0m\u001b[0;34m\u001b[0m\u001b[0;34m\u001b[0m\u001b[0m\n\u001b[0m\u001b[1;32m    154\u001b[0m     \u001b[0;32mfinally\u001b[0m\u001b[0;34m:\u001b[0m\u001b[0;34m\u001b[0m\u001b[0;34m\u001b[0m\u001b[0m\n\u001b[1;32m    155\u001b[0m       \u001b[0;32mdel\u001b[0m \u001b[0mfiltered_tb\u001b[0m\u001b[0;34m\u001b[0m\u001b[0;34m\u001b[0m\u001b[0m\n",
            "\u001b[0;32m/usr/local/lib/python3.7/dist-packages/tensorflow/python/framework/ops.py\u001b[0m in \u001b[0;36mraise_from_not_ok_status\u001b[0;34m(e, name)\u001b[0m\n\u001b[1;32m   7184\u001b[0m \u001b[0;32mdef\u001b[0m \u001b[0mraise_from_not_ok_status\u001b[0m\u001b[0;34m(\u001b[0m\u001b[0me\u001b[0m\u001b[0;34m,\u001b[0m \u001b[0mname\u001b[0m\u001b[0;34m)\u001b[0m\u001b[0;34m:\u001b[0m\u001b[0;34m\u001b[0m\u001b[0;34m\u001b[0m\u001b[0m\n\u001b[1;32m   7185\u001b[0m   \u001b[0me\u001b[0m\u001b[0;34m.\u001b[0m\u001b[0mmessage\u001b[0m \u001b[0;34m+=\u001b[0m \u001b[0;34m(\u001b[0m\u001b[0;34m\" name: \"\u001b[0m \u001b[0;34m+\u001b[0m \u001b[0mname\u001b[0m \u001b[0;32mif\u001b[0m \u001b[0mname\u001b[0m \u001b[0;32mis\u001b[0m \u001b[0;32mnot\u001b[0m \u001b[0;32mNone\u001b[0m \u001b[0;32melse\u001b[0m \u001b[0;34m\"\"\u001b[0m\u001b[0;34m)\u001b[0m\u001b[0;34m\u001b[0m\u001b[0;34m\u001b[0m\u001b[0m\n\u001b[0;32m-> 7186\u001b[0;31m   \u001b[0;32mraise\u001b[0m \u001b[0mcore\u001b[0m\u001b[0;34m.\u001b[0m\u001b[0m_status_to_exception\u001b[0m\u001b[0;34m(\u001b[0m\u001b[0me\u001b[0m\u001b[0;34m)\u001b[0m \u001b[0;32mfrom\u001b[0m \u001b[0;32mNone\u001b[0m  \u001b[0;31m# pylint: disable=protected-access\u001b[0m\u001b[0;34m\u001b[0m\u001b[0;34m\u001b[0m\u001b[0m\n\u001b[0m\u001b[1;32m   7187\u001b[0m \u001b[0;34m\u001b[0m\u001b[0m\n\u001b[1;32m   7188\u001b[0m \u001b[0;34m\u001b[0m\u001b[0m\n",
            "\u001b[0;31mInvalidArgumentError\u001b[0m: ConcatOp : Dimension 0 in both shapes must be equal: shape[0] = [2,3,4] vs. shape[1] = [4,3,4] [Op:ConcatV2] name: concat"
          ]
        }
      ]
    },
    {
      "cell_type": "code",
      "source": [
        "tf.concat([a,b],axis=2)"
      ],
      "metadata": {
        "colab": {
          "base_uri": "https://localhost:8080/",
          "height": 324
        },
        "id": "UntVXlpGQfde",
        "outputId": "fb0b6331-3f6e-4cb7-e57b-0b2e63115c6c"
      },
      "execution_count": 271,
      "outputs": [
        {
          "output_type": "error",
          "ename": "InvalidArgumentError",
          "evalue": "ignored",
          "traceback": [
            "\u001b[0;31m---------------------------------------------------------------------------\u001b[0m",
            "\u001b[0;31mInvalidArgumentError\u001b[0m                      Traceback (most recent call last)",
            "\u001b[0;32m<ipython-input-271-faa2763321d0>\u001b[0m in \u001b[0;36m<module>\u001b[0;34m()\u001b[0m\n\u001b[0;32m----> 1\u001b[0;31m \u001b[0mtf\u001b[0m\u001b[0;34m.\u001b[0m\u001b[0mconcat\u001b[0m\u001b[0;34m(\u001b[0m\u001b[0;34m[\u001b[0m\u001b[0ma\u001b[0m\u001b[0;34m,\u001b[0m\u001b[0mb\u001b[0m\u001b[0;34m]\u001b[0m\u001b[0;34m,\u001b[0m\u001b[0maxis\u001b[0m\u001b[0;34m=\u001b[0m\u001b[0;36m2\u001b[0m\u001b[0;34m)\u001b[0m\u001b[0;34m\u001b[0m\u001b[0;34m\u001b[0m\u001b[0m\n\u001b[0m",
            "\u001b[0;32m/usr/local/lib/python3.7/dist-packages/tensorflow/python/util/traceback_utils.py\u001b[0m in \u001b[0;36merror_handler\u001b[0;34m(*args, **kwargs)\u001b[0m\n\u001b[1;32m    151\u001b[0m     \u001b[0;32mexcept\u001b[0m \u001b[0mException\u001b[0m \u001b[0;32mas\u001b[0m \u001b[0me\u001b[0m\u001b[0;34m:\u001b[0m\u001b[0;34m\u001b[0m\u001b[0;34m\u001b[0m\u001b[0m\n\u001b[1;32m    152\u001b[0m       \u001b[0mfiltered_tb\u001b[0m \u001b[0;34m=\u001b[0m \u001b[0m_process_traceback_frames\u001b[0m\u001b[0;34m(\u001b[0m\u001b[0me\u001b[0m\u001b[0;34m.\u001b[0m\u001b[0m__traceback__\u001b[0m\u001b[0;34m)\u001b[0m\u001b[0;34m\u001b[0m\u001b[0;34m\u001b[0m\u001b[0m\n\u001b[0;32m--> 153\u001b[0;31m       \u001b[0;32mraise\u001b[0m \u001b[0me\u001b[0m\u001b[0;34m.\u001b[0m\u001b[0mwith_traceback\u001b[0m\u001b[0;34m(\u001b[0m\u001b[0mfiltered_tb\u001b[0m\u001b[0;34m)\u001b[0m \u001b[0;32mfrom\u001b[0m \u001b[0;32mNone\u001b[0m\u001b[0;34m\u001b[0m\u001b[0;34m\u001b[0m\u001b[0m\n\u001b[0m\u001b[1;32m    154\u001b[0m     \u001b[0;32mfinally\u001b[0m\u001b[0;34m:\u001b[0m\u001b[0;34m\u001b[0m\u001b[0;34m\u001b[0m\u001b[0m\n\u001b[1;32m    155\u001b[0m       \u001b[0;32mdel\u001b[0m \u001b[0mfiltered_tb\u001b[0m\u001b[0;34m\u001b[0m\u001b[0;34m\u001b[0m\u001b[0m\n",
            "\u001b[0;32m/usr/local/lib/python3.7/dist-packages/tensorflow/python/framework/ops.py\u001b[0m in \u001b[0;36mraise_from_not_ok_status\u001b[0;34m(e, name)\u001b[0m\n\u001b[1;32m   7184\u001b[0m \u001b[0;32mdef\u001b[0m \u001b[0mraise_from_not_ok_status\u001b[0m\u001b[0;34m(\u001b[0m\u001b[0me\u001b[0m\u001b[0;34m,\u001b[0m \u001b[0mname\u001b[0m\u001b[0;34m)\u001b[0m\u001b[0;34m:\u001b[0m\u001b[0;34m\u001b[0m\u001b[0;34m\u001b[0m\u001b[0m\n\u001b[1;32m   7185\u001b[0m   \u001b[0me\u001b[0m\u001b[0;34m.\u001b[0m\u001b[0mmessage\u001b[0m \u001b[0;34m+=\u001b[0m \u001b[0;34m(\u001b[0m\u001b[0;34m\" name: \"\u001b[0m \u001b[0;34m+\u001b[0m \u001b[0mname\u001b[0m \u001b[0;32mif\u001b[0m \u001b[0mname\u001b[0m \u001b[0;32mis\u001b[0m \u001b[0;32mnot\u001b[0m \u001b[0;32mNone\u001b[0m \u001b[0;32melse\u001b[0m \u001b[0;34m\"\"\u001b[0m\u001b[0;34m)\u001b[0m\u001b[0;34m\u001b[0m\u001b[0;34m\u001b[0m\u001b[0m\n\u001b[0;32m-> 7186\u001b[0;31m   \u001b[0;32mraise\u001b[0m \u001b[0mcore\u001b[0m\u001b[0;34m.\u001b[0m\u001b[0m_status_to_exception\u001b[0m\u001b[0;34m(\u001b[0m\u001b[0me\u001b[0m\u001b[0;34m)\u001b[0m \u001b[0;32mfrom\u001b[0m \u001b[0;32mNone\u001b[0m  \u001b[0;31m# pylint: disable=protected-access\u001b[0m\u001b[0;34m\u001b[0m\u001b[0;34m\u001b[0m\u001b[0m\n\u001b[0m\u001b[1;32m   7187\u001b[0m \u001b[0;34m\u001b[0m\u001b[0m\n\u001b[1;32m   7188\u001b[0m \u001b[0;34m\u001b[0m\u001b[0m\n",
            "\u001b[0;31mInvalidArgumentError\u001b[0m: ConcatOp : Dimension 0 in both shapes must be equal: shape[0] = [2,3,4] vs. shape[1] = [4,3,4] [Op:ConcatV2] name: concat"
          ]
        }
      ]
    },
    {
      "cell_type": "markdown",
      "source": [
        "### (2,2) @ (2,) 연산"
      ],
      "metadata": {
        "id": "-QRSTgvHQlfu"
      }
    },
    {
      "cell_type": "markdown",
      "source": [
        "#### numpy"
      ],
      "metadata": {
        "id": "j6TSWNR1RGYK"
      }
    },
    {
      "cell_type": "code",
      "source": [
        "a = np.diag([1,1])\n",
        "b = np.array([77,-88])"
      ],
      "metadata": {
        "id": "6OOKwf_OQ6Va"
      },
      "execution_count": 279,
      "outputs": []
    },
    {
      "cell_type": "code",
      "source": [
        "a.shape"
      ],
      "metadata": {
        "colab": {
          "base_uri": "https://localhost:8080/"
        },
        "id": "cfVLC3mzQr2n",
        "outputId": "7b21914f-97e5-4c67-de61-a23b00c09960"
      },
      "execution_count": 281,
      "outputs": [
        {
          "output_type": "execute_result",
          "data": {
            "text/plain": [
              "(2, 2)"
            ]
          },
          "metadata": {},
          "execution_count": 281
        }
      ]
    },
    {
      "cell_type": "code",
      "source": [
        "b.shape"
      ],
      "metadata": {
        "colab": {
          "base_uri": "https://localhost:8080/"
        },
        "id": "K7_sax0RQ-j2",
        "outputId": "1dcae2d5-2ed6-4512-b655-f5ce10e71f85"
      },
      "execution_count": 280,
      "outputs": [
        {
          "output_type": "execute_result",
          "data": {
            "text/plain": [
              "(2,)"
            ]
          },
          "metadata": {},
          "execution_count": 280
        }
      ]
    },
    {
      "cell_type": "code",
      "source": [
        "a @ b"
      ],
      "metadata": {
        "colab": {
          "base_uri": "https://localhost:8080/"
        },
        "id": "0Fh-8BR4RFT_",
        "outputId": "58c54618-b8e7-4253-82c9-7b4f2bf65e56"
      },
      "execution_count": 282,
      "outputs": [
        {
          "output_type": "execute_result",
          "data": {
            "text/plain": [
              "array([ 77, -88])"
            ]
          },
          "metadata": {},
          "execution_count": 282
        }
      ]
    },
    {
      "cell_type": "markdown",
      "source": [
        "* `numpy`의 경우 무리없이 잘 되는 것 같다."
      ],
      "metadata": {
        "id": "x2CyqeGWRIBg"
      }
    },
    {
      "cell_type": "markdown",
      "source": [
        "#### tensorflow"
      ],
      "metadata": {
        "id": "AGiFFXjBRYyp"
      }
    },
    {
      "cell_type": "code",
      "source": [
        "I = tf.constant(np.diag([1,1]),dtype=\"float\")\n",
        "x = tf.constant([77.0, -88.0])"
      ],
      "metadata": {
        "id": "svx0wj4KRbuw"
      },
      "execution_count": 294,
      "outputs": []
    },
    {
      "cell_type": "code",
      "source": [
        "I.shape"
      ],
      "metadata": {
        "colab": {
          "base_uri": "https://localhost:8080/"
        },
        "id": "hsMMD2BsR18d",
        "outputId": "be0b1b31-7d19-4324-d1e4-c809275f359d"
      },
      "execution_count": 295,
      "outputs": [
        {
          "output_type": "execute_result",
          "data": {
            "text/plain": [
              "TensorShape([2, 2])"
            ]
          },
          "metadata": {},
          "execution_count": 295
        }
      ]
    },
    {
      "cell_type": "code",
      "source": [
        "x.shape"
      ],
      "metadata": {
        "colab": {
          "base_uri": "https://localhost:8080/"
        },
        "id": "gu0pXo6tR3jU",
        "outputId": "795b35f8-77d1-4d6d-8f7a-a4a9ac44d11c"
      },
      "execution_count": 296,
      "outputs": [
        {
          "output_type": "execute_result",
          "data": {
            "text/plain": [
              "TensorShape([2])"
            ]
          },
          "metadata": {},
          "execution_count": 296
        }
      ]
    },
    {
      "cell_type": "code",
      "source": [
        "I @ x"
      ],
      "metadata": {
        "colab": {
          "base_uri": "https://localhost:8080/"
        },
        "id": "uHjohyH6Rq6h",
        "outputId": "76920fe1-c076-435e-aa42-809c793d4852"
      },
      "execution_count": 297,
      "outputs": [
        {
          "output_type": "execute_result",
          "data": {
            "text/plain": [
              "<tf.Tensor: shape=(2,), dtype=float32, numpy=array([ 77., -88.], dtype=float32)>"
            ]
          },
          "metadata": {},
          "execution_count": 297
        }
      ]
    },
    {
      "cell_type": "code",
      "source": [
        "x @ I"
      ],
      "metadata": {
        "colab": {
          "base_uri": "https://localhost:8080/"
        },
        "id": "rSiMLg_xRyqY",
        "outputId": "53ddc7a0-b957-4ccd-8130-1d2fce9ec27d"
      },
      "execution_count": 298,
      "outputs": [
        {
          "output_type": "execute_result",
          "data": {
            "text/plain": [
              "<tf.Tensor: shape=(2,), dtype=float32, numpy=array([ 77., -88.], dtype=float32)>"
            ]
          },
          "metadata": {},
          "execution_count": 298
        }
      ]
    },
    {
      "cell_type": "markdown",
      "source": [
        "* 원래 안되는 데 위에서 `tnp` 설정을 해놔서 그럼"
      ],
      "metadata": {
        "id": "d0fm-cFfSB2J"
      }
    },
    {
      "cell_type": "code",
      "source": [
        "I @ tf.reshape(x,(2,1))"
      ],
      "metadata": {
        "colab": {
          "base_uri": "https://localhost:8080/"
        },
        "id": "3rrQSYzKSHaS",
        "outputId": "2f24415e-9759-4cee-be03-859b5281bd27"
      },
      "execution_count": 299,
      "outputs": [
        {
          "output_type": "execute_result",
          "data": {
            "text/plain": [
              "<tf.Tensor: shape=(2, 1), dtype=float32, numpy=\n",
              "array([[ 77.],\n",
              "       [-88.]], dtype=float32)>"
            ]
          },
          "metadata": {},
          "execution_count": 299
        }
      ]
    },
    {
      "cell_type": "code",
      "source": [
        "tf.reshape(x,(1,2)) @ I "
      ],
      "metadata": {
        "colab": {
          "base_uri": "https://localhost:8080/"
        },
        "id": "iQfZqkZ4SJb_",
        "outputId": "4aed4f5b-3b10-47c2-c047-878af67c5bb6"
      },
      "execution_count": 300,
      "outputs": [
        {
          "output_type": "execute_result",
          "data": {
            "text/plain": [
              "<tf.Tensor: shape=(1, 2), dtype=float32, numpy=array([[ 77., -88.]], dtype=float32)>"
            ]
          },
          "metadata": {},
          "execution_count": 300
        }
      ]
    },
    {
      "cell_type": "markdown",
      "source": [
        "* 그냥 `tnp` 쓰는게 편하다..."
      ],
      "metadata": {
        "id": "H7utGRKPSL4D"
      }
    },
    {
      "cell_type": "markdown",
      "source": [
        "### tnp.Variable()"
      ],
      "metadata": {
        "id": "XzSq5s9mSRX8"
      }
    },
    {
      "cell_type": "markdown",
      "source": [
        "`1`. 기본 선언 "
      ],
      "metadata": {
        "id": "c4ihII7sSaQk"
      }
    },
    {
      "cell_type": "code",
      "source": [
        "tf.Variable(range(1,5))"
      ],
      "metadata": {
        "colab": {
          "base_uri": "https://localhost:8080/"
        },
        "id": "5EKnaEiPSUu7",
        "outputId": "abfbe966-b61d-4e9a-b10d-f279609a371c"
      },
      "execution_count": 301,
      "outputs": [
        {
          "output_type": "execute_result",
          "data": {
            "text/plain": [
              "<tf.Variable 'Variable:0' shape=(4,) dtype=int32, numpy=array([1, 2, 3, 4], dtype=int32)>"
            ]
          },
          "metadata": {},
          "execution_count": 301
        }
      ]
    },
    {
      "cell_type": "markdown",
      "source": [
        "`2`. `tf.constant()`선언 후 변환"
      ],
      "metadata": {
        "id": "ApJPx8tISf-m"
      }
    },
    {
      "cell_type": "code",
      "source": [
        "tf.Variable(tf.constant(range(1,5)))"
      ],
      "metadata": {
        "colab": {
          "base_uri": "https://localhost:8080/"
        },
        "id": "s8CI6XsdSgFh",
        "outputId": "9f115dd9-528c-48cd-b837-d14d9177a2ff"
      },
      "execution_count": 302,
      "outputs": [
        {
          "output_type": "execute_result",
          "data": {
            "text/plain": [
              "<tf.Variable 'Variable:0' shape=(4,) dtype=int32, numpy=array([1, 2, 3, 4], dtype=int32)>"
            ]
          },
          "metadata": {},
          "execution_count": 302
        }
      ]
    },
    {
      "cell_type": "markdown",
      "source": [
        "`3`. `numpy` 선언 후 변환"
      ],
      "metadata": {
        "id": "KFVPpbbtSref"
      }
    },
    {
      "cell_type": "code",
      "source": [
        "tf.Variable(np.array([1,2,3,4]))"
      ],
      "metadata": {
        "colab": {
          "base_uri": "https://localhost:8080/"
        },
        "id": "g0VW_UtuSwnS",
        "outputId": "5d0d4524-610c-4b61-eaf6-76f1ffa06350"
      },
      "execution_count": 304,
      "outputs": [
        {
          "output_type": "execute_result",
          "data": {
            "text/plain": [
              "<tf.Variable 'Variable:0' shape=(4,) dtype=int64, numpy=array([1, 2, 3, 4])>"
            ]
          },
          "metadata": {},
          "execution_count": 304
        }
      ]
    },
    {
      "cell_type": "code",
      "source": [
        "a= tf.Variable([1,2,3,4])\n",
        "id(a)"
      ],
      "metadata": {
        "colab": {
          "base_uri": "https://localhost:8080/"
        },
        "id": "HGdyzxG6Tdof",
        "outputId": "4a295296-b418-48c6-d330-27db11c0de96"
      },
      "execution_count": 306,
      "outputs": [
        {
          "output_type": "execute_result",
          "data": {
            "text/plain": [
              "140086641080720"
            ]
          },
          "metadata": {},
          "execution_count": 306
        }
      ]
    },
    {
      "cell_type": "code",
      "source": [
        "a"
      ],
      "metadata": {
        "colab": {
          "base_uri": "https://localhost:8080/"
        },
        "id": "wyX3NokKThOt",
        "outputId": "7f0e19b7-b59f-4673-bd36-7d7a1ef263e0"
      },
      "execution_count": 308,
      "outputs": [
        {
          "output_type": "execute_result",
          "data": {
            "text/plain": [
              "<tf.Variable 'Variable:0' shape=(4,) dtype=int32, numpy=array([1, 2, 3, 4], dtype=int32)>"
            ]
          },
          "metadata": {},
          "execution_count": 308
        }
      ]
    },
    {
      "cell_type": "code",
      "source": [
        "a.assign_add([-1,-2,-3,-4])"
      ],
      "metadata": {
        "colab": {
          "base_uri": "https://localhost:8080/"
        },
        "id": "7K0KGQ1ETi0V",
        "outputId": "69f02a02-fe76-4be0-da06-da5baf763268"
      },
      "execution_count": 309,
      "outputs": [
        {
          "output_type": "execute_result",
          "data": {
            "text/plain": [
              "<tf.Variable 'UnreadVariable' shape=(4,) dtype=int32, numpy=array([0, 0, 0, 0], dtype=int32)>"
            ]
          },
          "metadata": {},
          "execution_count": 309
        }
      ]
    },
    {
      "cell_type": "code",
      "source": [
        "a"
      ],
      "metadata": {
        "colab": {
          "base_uri": "https://localhost:8080/"
        },
        "id": "kbMc17ChTo8b",
        "outputId": "63b951dd-044e-41c6-e0bb-7d826f90e760"
      },
      "execution_count": 310,
      "outputs": [
        {
          "output_type": "execute_result",
          "data": {
            "text/plain": [
              "<tf.Variable 'Variable:0' shape=(4,) dtype=int32, numpy=array([0, 0, 0, 0], dtype=int32)>"
            ]
          },
          "metadata": {},
          "execution_count": 310
        }
      ]
    },
    {
      "cell_type": "code",
      "source": [
        "id(a)"
      ],
      "metadata": {
        "colab": {
          "base_uri": "https://localhost:8080/"
        },
        "id": "cxydwshRTouy",
        "outputId": "31008e3d-5447-4e04-bd9e-00c347eced71"
      },
      "execution_count": 311,
      "outputs": [
        {
          "output_type": "execute_result",
          "data": {
            "text/plain": [
              "140086641080720"
            ]
          },
          "metadata": {},
          "execution_count": 311
        }
      ]
    },
    {
      "cell_type": "markdown",
      "source": [
        "#### Summary "
      ],
      "metadata": {
        "id": "gMiM4nnWS4VO"
      }
    },
    {
      "cell_type": "markdown",
      "source": [
        "* `tf.constant` 와 `tf.Variable`의 큰 차이는 잘 모르겠음"
      ],
      "metadata": {
        "id": "1Z97b7G4TOYQ"
      }
    },
    {
      "cell_type": "markdown",
      "source": [
        "* 그냥 `tnp`가 최고임"
      ],
      "metadata": {
        "id": "Ykbb-NPsTSrJ"
      }
    },
    {
      "cell_type": "markdown",
      "source": [
        "### 미분 "
      ],
      "metadata": {
        "id": "9o-G05cYTsOv"
      }
    },
    {
      "cell_type": "markdown",
      "source": [
        "$$y = 3x ^2$$"
      ],
      "metadata": {
        "id": "ykgi4yN-TuCc"
      }
    },
    {
      "cell_type": "markdown",
      "source": [
        "위 식의  $x=2$에서 접선의 기울기를 구해보자"
      ],
      "metadata": {
        "id": "fl1hl0D-TyVG"
      }
    },
    {
      "cell_type": "markdown",
      "source": [
        "#### 고등수학"
      ],
      "metadata": {
        "id": "elDW3k5XT4gA"
      }
    },
    {
      "cell_type": "markdown",
      "source": [
        "$$(x=2)\\to\\frac {\\partial}{\\partial x} 3x^2 = 6 x = 12$$"
      ],
      "metadata": {
        "id": "mYIwiX5UT6bU"
      }
    },
    {
      "cell_type": "markdown",
      "source": [
        "#### 컴퓨터를 이용한 풀이"
      ],
      "metadata": {
        "id": "GhLn-8NVUGTr"
      }
    },
    {
      "cell_type": "code",
      "source": [
        "x1=2 \n",
        "y1=3*x1**2"
      ],
      "metadata": {
        "id": "P9ZA7EzOUKhU"
      },
      "execution_count": 312,
      "outputs": []
    },
    {
      "cell_type": "code",
      "source": [
        "x2 = 2+0.000001\n",
        "y2 = 3*x2**2"
      ],
      "metadata": {
        "id": "W8ZH_9T7UOzA"
      },
      "execution_count": 314,
      "outputs": []
    },
    {
      "cell_type": "code",
      "source": [
        "(y2-y1)/(x2-x1)"
      ],
      "metadata": {
        "colab": {
          "base_uri": "https://localhost:8080/"
        },
        "id": "eq6YOQl4UU5J",
        "outputId": "0cace33f-081a-424c-dc7c-75ddca581708"
      },
      "execution_count": 315,
      "outputs": [
        {
          "output_type": "execute_result",
          "data": {
            "text/plain": [
              "12.000003000266702"
            ]
          },
          "metadata": {},
          "execution_count": 315
        }
      ]
    },
    {
      "cell_type": "markdown",
      "source": [
        "어찌어찌 근사값이 나온다."
      ],
      "metadata": {
        "id": "7nSd_B5bUd2e"
      }
    },
    {
      "cell_type": "markdown",
      "source": [
        "#### 사용자 함수를 정의"
      ],
      "metadata": {
        "id": "qogJayqFUhEz"
      }
    },
    {
      "cell_type": "code",
      "source": [
        "def f(x) :\n",
        "    return (3*x**2)"
      ],
      "metadata": {
        "id": "XzI59d7qUjwe"
      },
      "execution_count": 316,
      "outputs": []
    },
    {
      "cell_type": "code",
      "source": [
        "def d(f,x) :\n",
        "    return (f(x+0.0000001)- f(x))/(0.0000001)"
      ],
      "metadata": {
        "id": "ljooqhY3UqRy"
      },
      "execution_count": 317,
      "outputs": []
    },
    {
      "cell_type": "code",
      "source": [
        "d(f,2)"
      ],
      "metadata": {
        "colab": {
          "base_uri": "https://localhost:8080/"
        },
        "id": "LFHmbBk-U1br",
        "outputId": "c20e57f8-fa07-4436-e9b7-9e66b8e47e54"
      },
      "execution_count": 318,
      "outputs": [
        {
          "output_type": "execute_result",
          "data": {
            "text/plain": [
              "12.000000282341716"
            ]
          },
          "metadata": {},
          "execution_count": 318
        }
      ]
    },
    {
      "cell_type": "markdown",
      "source": [
        "#### lambda 사용"
      ],
      "metadata": {
        "id": "vt-ljK9WU5-S"
      }
    },
    {
      "cell_type": "code",
      "source": [
        "d(lambda x :  3*x**2,2)"
      ],
      "metadata": {
        "colab": {
          "base_uri": "https://localhost:8080/"
        },
        "id": "f2boXQtyU82y",
        "outputId": "ba382a61-ff0c-49bb-88e5-e552575225de"
      },
      "execution_count": 319,
      "outputs": [
        {
          "output_type": "execute_result",
          "data": {
            "text/plain": [
              "12.000000282341716"
            ]
          },
          "metadata": {},
          "execution_count": 319
        }
      ]
    },
    {
      "cell_type": "markdown",
      "source": [
        "#### 결합분포"
      ],
      "metadata": {
        "id": "vOQ4lQ2mVGAM"
      }
    },
    {
      "cell_type": "markdown",
      "source": [
        "$$f(x,y) = x^2 + 3y $$"
      ],
      "metadata": {
        "id": "DmNSnZlQVJGB"
      }
    },
    {
      "cell_type": "code",
      "source": [
        "def f(x,y) :\n",
        "      return (x**2+3*y)"
      ],
      "metadata": {
        "id": "sTVuBm4tVMQo"
      },
      "execution_count": 321,
      "outputs": []
    },
    {
      "cell_type": "code",
      "source": [
        "f(2,3)"
      ],
      "metadata": {
        "colab": {
          "base_uri": "https://localhost:8080/"
        },
        "id": "NVWlxEIAVTob",
        "outputId": "d70359fa-cb9b-4a0c-a1d9-6581b78a51ec"
      },
      "execution_count": 322,
      "outputs": [
        {
          "output_type": "execute_result",
          "data": {
            "text/plain": [
              "13"
            ]
          },
          "metadata": {},
          "execution_count": 322
        }
      ]
    },
    {
      "cell_type": "code",
      "source": [
        "d(f,(2,3))"
      ],
      "metadata": {
        "colab": {
          "base_uri": "https://localhost:8080/",
          "height": 245
        },
        "id": "KimR4eYtVVEc",
        "outputId": "e7e43d90-a1a8-473b-9736-a22607b9698c"
      },
      "execution_count": 324,
      "outputs": [
        {
          "output_type": "error",
          "ename": "TypeError",
          "evalue": "ignored",
          "traceback": [
            "\u001b[0;31m---------------------------------------------------------------------------\u001b[0m",
            "\u001b[0;31mTypeError\u001b[0m                                 Traceback (most recent call last)",
            "\u001b[0;32m<ipython-input-324-b22cba150a6a>\u001b[0m in \u001b[0;36m<module>\u001b[0;34m()\u001b[0m\n\u001b[0;32m----> 1\u001b[0;31m \u001b[0md\u001b[0m\u001b[0;34m(\u001b[0m\u001b[0mf\u001b[0m\u001b[0;34m,\u001b[0m\u001b[0;34m(\u001b[0m\u001b[0;36m2\u001b[0m\u001b[0;34m,\u001b[0m\u001b[0;36m3\u001b[0m\u001b[0;34m)\u001b[0m\u001b[0;34m)\u001b[0m\u001b[0;34m\u001b[0m\u001b[0;34m\u001b[0m\u001b[0m\n\u001b[0m",
            "\u001b[0;32m<ipython-input-317-19118b8b2c89>\u001b[0m in \u001b[0;36md\u001b[0;34m(f, x)\u001b[0m\n\u001b[1;32m      1\u001b[0m \u001b[0;32mdef\u001b[0m \u001b[0md\u001b[0m\u001b[0;34m(\u001b[0m\u001b[0mf\u001b[0m\u001b[0;34m,\u001b[0m\u001b[0mx\u001b[0m\u001b[0;34m)\u001b[0m \u001b[0;34m:\u001b[0m\u001b[0;34m\u001b[0m\u001b[0;34m\u001b[0m\u001b[0m\n\u001b[0;32m----> 2\u001b[0;31m     \u001b[0;32mreturn\u001b[0m \u001b[0;34m(\u001b[0m\u001b[0mf\u001b[0m\u001b[0;34m(\u001b[0m\u001b[0mx\u001b[0m\u001b[0;34m+\u001b[0m\u001b[0;36m0.0000001\u001b[0m\u001b[0;34m)\u001b[0m\u001b[0;34m-\u001b[0m \u001b[0mf\u001b[0m\u001b[0;34m(\u001b[0m\u001b[0mx\u001b[0m\u001b[0;34m)\u001b[0m\u001b[0;34m)\u001b[0m\u001b[0;34m/\u001b[0m\u001b[0;34m(\u001b[0m\u001b[0;36m0.0000001\u001b[0m\u001b[0;34m)\u001b[0m\u001b[0;34m\u001b[0m\u001b[0;34m\u001b[0m\u001b[0m\n\u001b[0m",
            "\u001b[0;31mTypeError\u001b[0m: can only concatenate tuple (not \"float\") to tuple"
          ]
        }
      ]
    },
    {
      "cell_type": "markdown",
      "source": [
        "* 사전에 y값에 대한 설정은 안하고 도함수를 정의했으므로 당연히 에러가 뜬다"
      ],
      "metadata": {
        "id": "dVZzreoVVcfO"
      }
    },
    {
      "cell_type": "markdown",
      "source": [
        "#### tf.GradientTape()"
      ],
      "metadata": {
        "id": "iFD55bJEVngj"
      }
    },
    {
      "cell_type": "markdown",
      "source": [
        "$$y = 3x^2$$"
      ],
      "metadata": {
        "id": "dRro3kcPWXhv"
      }
    },
    {
      "cell_type": "code",
      "source": [
        "x = tf.Variable(2.0)\n",
        "a = tf.Variable(3.0) "
      ],
      "metadata": {
        "id": "YDF_4X5dVrEd"
      },
      "execution_count": 326,
      "outputs": []
    },
    {
      "cell_type": "code",
      "source": [
        "mytape = tf.GradientTape()\n",
        "mytape.__enter__() ## 기록시작\n",
        "y = a*x**2 ## y 정의\n",
        "mytape.__exit__(None,None,None) ## 기록끝"
      ],
      "metadata": {
        "id": "uzf6RUCMVyuP"
      },
      "execution_count": 329,
      "outputs": []
    },
    {
      "cell_type": "markdown",
      "source": [
        "*  `y`를 `x=2`로 미분"
      ],
      "metadata": {
        "id": "iZm14Uq8WQb3"
      }
    },
    {
      "cell_type": "code",
      "source": [
        "mytape.gradient(y,x)"
      ],
      "metadata": {
        "colab": {
          "base_uri": "https://localhost:8080/"
        },
        "id": "Kxv5UAD4WLC2",
        "outputId": "b3d4fe64-ce44-4f03-c2ef-68bef684cc13"
      },
      "execution_count": 330,
      "outputs": [
        {
          "output_type": "execute_result",
          "data": {
            "text/plain": [
              "<tf.Tensor: shape=(), dtype=float32, numpy=12.0>"
            ]
          },
          "metadata": {},
          "execution_count": 330
        }
      ]
    },
    {
      "cell_type": "markdown",
      "source": [
        "***"
      ],
      "metadata": {
        "id": "iQHpF2snWasy"
      }
    },
    {
      "cell_type": "markdown",
      "source": [
        "$$a= \\frac 32 x$$"
      ],
      "metadata": {
        "id": "WgM2ay5bWdko"
      }
    },
    {
      "cell_type": "markdown",
      "source": [
        "$$y = ax^2 = \\frac 32 x^3$$"
      ],
      "metadata": {
        "id": "m18Z-4W1Wks7"
      }
    },
    {
      "cell_type": "markdown",
      "source": [
        "$$ \\frac {\\partial y}{\\partial x} = \\frac 92 x^{2}$$"
      ],
      "metadata": {
        "id": "GO1TQks8YxzL"
      }
    },
    {
      "cell_type": "code",
      "source": [
        "x = tf.Variable(2.0)\n",
        "\n",
        "mytape = tf.GradientTape()\n",
        "mytape.__enter__()\n",
        "a = (3/2)*x\n",
        "y = a*x**2\n",
        "mytape.__exit__(None,None,None)"
      ],
      "metadata": {
        "id": "91QyB48mWqil"
      },
      "execution_count": 336,
      "outputs": []
    },
    {
      "cell_type": "code",
      "source": [
        "mytape.gradient(y,x)"
      ],
      "metadata": {
        "colab": {
          "base_uri": "https://localhost:8080/"
        },
        "id": "dEcCIpGcXFzv",
        "outputId": "65920900-e125-4275-8e2b-ddfc5e199311"
      },
      "execution_count": 337,
      "outputs": [
        {
          "output_type": "execute_result",
          "data": {
            "text/plain": [
              "<tf.Tensor: shape=(), dtype=float32, numpy=18.0>"
            ]
          },
          "metadata": {},
          "execution_count": 337
        }
      ]
    },
    {
      "cell_type": "markdown",
      "source": [
        "`-` 근데 뭐가 좀 이상하다? "
      ],
      "metadata": {
        "id": "NECC19uZZILL"
      }
    },
    {
      "cell_type": "markdown",
      "source": [
        "우리는 $x=2$로 설정했기 때문에 $a=3$으로 인식해서"
      ],
      "metadata": {
        "id": "BlFfAHNWZSVa"
      }
    },
    {
      "cell_type": "markdown",
      "source": [
        "$$a= 3$$"
      ],
      "metadata": {
        "id": "ygI8j5n3ZdJK"
      }
    },
    {
      "cell_type": "markdown",
      "source": [
        "$$y = ax^2 = 3 x^2$$"
      ],
      "metadata": {
        "id": "Xx-B8c-aZhhd"
      }
    },
    {
      "cell_type": "markdown",
      "source": [
        "$$ \\frac {\\partial y}{\\partial x} = 6x =12$$"
      ],
      "metadata": {
        "id": "dBjiA0YsZodz"
      }
    },
    {
      "cell_type": "markdown",
      "source": [
        "이렇게 되야지 않나??"
      ],
      "metadata": {
        "id": "tj1YTUcLZyTb"
      }
    },
    {
      "cell_type": "markdown",
      "source": [
        "이걸 풀어서 쓰면"
      ],
      "metadata": {
        "id": "A0qQ7mOMZz_u"
      }
    },
    {
      "cell_type": "code",
      "source": [
        "x = tf.Variable(2.0)\n",
        "a = (3/2)*x\n",
        "\n",
        "mytape = tf.GradientTape()\n",
        "mytape.__enter__()\n",
        "y = a*x**2\n",
        "mytape.__exit__(None,None,None)"
      ],
      "metadata": {
        "id": "UQZn50iWZ197"
      },
      "execution_count": 339,
      "outputs": []
    },
    {
      "cell_type": "code",
      "source": [
        "mytape.gradient(y,x)"
      ],
      "metadata": {
        "colab": {
          "base_uri": "https://localhost:8080/"
        },
        "id": "Kavd1ZtZaGmt",
        "outputId": "b0cf55d5-b385-478d-9774-cef3935114de"
      },
      "execution_count": 340,
      "outputs": [
        {
          "output_type": "execute_result",
          "data": {
            "text/plain": [
              "<tf.Tensor: shape=(), dtype=float32, numpy=12.0>"
            ]
          },
          "metadata": {},
          "execution_count": 340
        }
      ]
    },
    {
      "cell_type": "markdown",
      "source": [
        "##### summary"
      ],
      "metadata": {
        "id": "NiRJXdXNaOKP"
      }
    },
    {
      "cell_type": "markdown",
      "source": [
        "* mytape을 컴퓨터에게 넘겨줄 연습장이라고 생각하자."
      ],
      "metadata": {
        "id": "NKoOINGAaReh"
      }
    },
    {
      "cell_type": "markdown",
      "source": [
        "* 우리는 `a`를 연습장 밖에서 선언했기 때문에 `a`를 변수가 아닌 상수 취급한다"
      ],
      "metadata": {
        "id": "PD8QNuc1aX4b"
      }
    },
    {
      "cell_type": "markdown",
      "source": [
        "* 즉,우리는 컴퓨터와 대화하는 입장에서 적절한 위치에 적절한 변수 선언을 해주어 한다."
      ],
      "metadata": {
        "id": "GQWiyjnIagXX"
      }
    },
    {
      "cell_type": "markdown",
      "source": [
        "#### with "
      ],
      "metadata": {
        "id": "Hs4zyXmfao1s"
      }
    },
    {
      "cell_type": "markdown",
      "source": [
        "python\n",
        "```\n",
        " with expression as myname:\n",
        "    ## with문 시작: myname.__enter__() \n",
        "    blabla ~ \n",
        "    yadiyadi !! \n",
        "    ## with문 끝: myname.__exit__()\n",
        "```"
      ],
      "metadata": {
        "id": "yulc8gUOasvc"
      }
    },
    {
      "cell_type": "markdown",
      "source": [
        "`1`. expression의 실행결과 $\\to$ 오브젝트 생성"
      ],
      "metadata": {
        "id": "kFTqFU9xa7-C"
      }
    },
    {
      "cell_type": "markdown",
      "source": [
        "`2`. 생성된 오브젝트는  `.__enter__()`, `.__exit__()`를 숨겨진 기능으로 포함해야한다."
      ],
      "metadata": {
        "id": "he-ldDabbM84"
      }
    },
    {
      "cell_type": "markdown",
      "source": [
        "`3`. with문이 시작되면서 `myname.__enter__()`가 실행"
      ],
      "metadata": {
        "id": "grU7Kj-Lbffe"
      }
    },
    {
      "cell_type": "markdown",
      "source": [
        "`4`. 그 후 밑에 짜바리들 실행되고 "
      ],
      "metadata": {
        "id": "jJV_1tegbsUX"
      }
    },
    {
      "cell_type": "markdown",
      "source": [
        "`5`. 마지막에 `myname.__exit__()`가 실행되며 종료함 "
      ],
      "metadata": {
        "id": "JVGS_GShbxwH"
      }
    },
    {
      "cell_type": "markdown",
      "source": [
        "$$ a = \\frac 32 x$$"
      ],
      "metadata": {
        "id": "RA4goZB1b7V5"
      }
    },
    {
      "cell_type": "markdown",
      "source": [
        "$$y = a x^2$$"
      ],
      "metadata": {
        "id": "LsVT6cbfcDRv"
      }
    },
    {
      "cell_type": "markdown",
      "source": [
        "위 예제로 돌아와보자"
      ],
      "metadata": {
        "id": "Py-G-cR9cICA"
      }
    },
    {
      "cell_type": "markdown",
      "source": [
        "`-` 미분한 값이 `12`로 나오는 경우"
      ],
      "metadata": {
        "id": "8qgrjj_9chxe"
      }
    },
    {
      "cell_type": "code",
      "source": [
        "x = tf.Variable(2.0)\n",
        "a = (3/2)*x\n",
        "with tf.GradientTape() as mytape :\n",
        "    y=a*x**2"
      ],
      "metadata": {
        "id": "AESkavFScJ_6"
      },
      "execution_count": 346,
      "outputs": []
    },
    {
      "cell_type": "code",
      "source": [
        "mytape.gradient(y,x)"
      ],
      "metadata": {
        "colab": {
          "base_uri": "https://localhost:8080/"
        },
        "id": "ZHtKRt0FcYQ0",
        "outputId": "145f5a38-e1b7-4639-8177-79ac24574d1e"
      },
      "execution_count": 347,
      "outputs": [
        {
          "output_type": "execute_result",
          "data": {
            "text/plain": [
              "<tf.Tensor: shape=(), dtype=float32, numpy=12.0>"
            ]
          },
          "metadata": {},
          "execution_count": 347
        }
      ]
    },
    {
      "cell_type": "markdown",
      "source": [
        "`-` 미분한 값이 정상적인 `18`로 나오려면?"
      ],
      "metadata": {
        "id": "QDVQxTd-clre"
      }
    },
    {
      "cell_type": "code",
      "source": [
        "x = tf.Variable(2.0)\n",
        "with tf.GradientTape() as mytape :\n",
        "    a = (3/2)*x\n",
        "    y=a*x**2"
      ],
      "metadata": {
        "id": "s7OcI6NqcrqA"
      },
      "execution_count": 350,
      "outputs": []
    },
    {
      "cell_type": "code",
      "source": [
        "mytape.gradient(y,x)"
      ],
      "metadata": {
        "colab": {
          "base_uri": "https://localhost:8080/"
        },
        "id": "fHEQyHOFcvrL",
        "outputId": "6ecb4e55-7943-496b-e1ca-f84b17332940"
      },
      "execution_count": 351,
      "outputs": [
        {
          "output_type": "execute_result",
          "data": {
            "text/plain": [
              "<tf.Tensor: shape=(), dtype=float32, numpy=18.0>"
            ]
          },
          "metadata": {},
          "execution_count": 351
        }
      ]
    },
    {
      "cell_type": "markdown",
      "source": [
        "`-` `persistent`를 쓰면 값을 보존하기 때문에 `mytape.gradient`를 두번 실행해도 에러가 나지 않음"
      ],
      "metadata": {
        "id": "xGlWyxdNdCAI"
      }
    },
    {
      "cell_type": "code",
      "source": [
        "x = tf.Variable(2.0)\n",
        "with tf.GradientTape(persistent=True) as mytape :\n",
        "    a = (3/2)*x\n",
        "    y=a*x**2"
      ],
      "metadata": {
        "id": "iNoqTfWDc9es"
      },
      "execution_count": 352,
      "outputs": []
    },
    {
      "cell_type": "code",
      "source": [
        "mytape.gradient(y,x)"
      ],
      "metadata": {
        "colab": {
          "base_uri": "https://localhost:8080/"
        },
        "id": "59Ky48xpc_3U",
        "outputId": "e167ffbf-93ee-40f3-ac4b-b9179a75525a"
      },
      "execution_count": 355,
      "outputs": [
        {
          "output_type": "execute_result",
          "data": {
            "text/plain": [
              "<tf.Tensor: shape=(), dtype=float32, numpy=18.0>"
            ]
          },
          "metadata": {},
          "execution_count": 355
        }
      ]
    },
    {
      "cell_type": "markdown",
      "source": [
        "`-` 관찰 1: $x$ 값을 `constant`로 전달했을 경우"
      ],
      "metadata": {
        "id": "B45exwbeda9_"
      }
    },
    {
      "cell_type": "code",
      "source": [
        "x=tf.constant(2.0)\n",
        "\n",
        "with tf.GradientTape(persistent=True) as mytape:\n",
        "    a=(x/2)*3 ## a=(3/2)x \n",
        "    y=a*x**2  ## y=ax^2 = (3/2)x^3"
      ],
      "metadata": {
        "id": "nawu-iZ5dQVk"
      },
      "execution_count": 358,
      "outputs": []
    },
    {
      "cell_type": "code",
      "source": [
        "print(mytape.gradient(y,x))"
      ],
      "metadata": {
        "colab": {
          "base_uri": "https://localhost:8080/"
        },
        "id": "KlVUiTSndShD",
        "outputId": "6d782286-0ced-4d15-e6a5-5e4cef9a5392"
      },
      "execution_count": 361,
      "outputs": [
        {
          "output_type": "stream",
          "name": "stdout",
          "text": [
            "None\n"
          ]
        }
      ]
    },
    {
      "cell_type": "markdown",
      "source": [
        "`-` $x$를  상수로 선언했기 때문에 변수로 인식하지 않는다."
      ],
      "metadata": {
        "id": "FqlyXQVueis7"
      }
    },
    {
      "cell_type": "markdown",
      "source": [
        "`2` 관찰 2: $x =$ `constant`, `watch`적용"
      ],
      "metadata": {
        "id": "8FQU1_19dgkG"
      }
    },
    {
      "cell_type": "code",
      "source": [
        "x=tf.constant(2.0)\n",
        "\n",
        "with tf.GradientTape(persistent=True) as mytape:\n",
        "    mytape.watch(x)\n",
        "    a=(x/2)*3 ## a=(3/2)x \n",
        "    y=a*x**2  ## y=ax^2 = (3/2)x^3"
      ],
      "metadata": {
        "id": "f-91KwVTeI3x"
      },
      "execution_count": 362,
      "outputs": []
    },
    {
      "cell_type": "code",
      "source": [
        "print(mytape.gradient(y,x))"
      ],
      "metadata": {
        "colab": {
          "base_uri": "https://localhost:8080/"
        },
        "outputId": "3908ea18-944a-4acf-a79e-53284a7e3a15",
        "id": "mA8pQ4JqeNX_"
      },
      "execution_count": 363,
      "outputs": [
        {
          "output_type": "stream",
          "name": "stdout",
          "text": [
            "tf.Tensor(18.0, shape=(), dtype=float32)\n"
          ]
        }
      ]
    },
    {
      "cell_type": "markdown",
      "source": [
        "`-` `watch`는 수동감시모드로 임의의 상수로 선언한 객체를 감시하여 변수처럼 취급한다."
      ],
      "metadata": {
        "id": "joli5r0beP4E"
      }
    },
    {
      "cell_type": "markdown",
      "source": [
        "`3` 관찰 3 : $x=$ `Variable`, `자동감시해제`"
      ],
      "metadata": {
        "id": "wL9zetj8e0fL"
      }
    },
    {
      "cell_type": "code",
      "source": [
        "x=tf.constant(2.0)\n",
        "with tf.GradientTape(persistent=True,watch_accessed_variables=False) as mytape:\n",
        "    a=(x/2)*3 ## a=(3/2)x \n",
        "    y=a*x**2  ## y=ax^2 = (3/2)x^3"
      ],
      "metadata": {
        "id": "6VBEb3tOe_Xk"
      },
      "execution_count": 364,
      "outputs": []
    },
    {
      "cell_type": "markdown",
      "source": [
        "자동 감시 모드를 해제하였기 때문에 변수로 선언한 값도 상수취급함"
      ],
      "metadata": {
        "id": "ukAM2G3NfJ_o"
      }
    },
    {
      "cell_type": "code",
      "source": [
        "print(mytape.gradient(y,x))"
      ],
      "metadata": {
        "colab": {
          "base_uri": "https://localhost:8080/"
        },
        "id": "Z4WKDnVSfIRR",
        "outputId": "5fc7da62-8244-40b0-b724-085dd4c9edd8"
      },
      "execution_count": 365,
      "outputs": [
        {
          "output_type": "stream",
          "name": "stdout",
          "text": [
            "None\n"
          ]
        }
      ]
    },
    {
      "cell_type": "markdown",
      "source": [
        "#### 정리"
      ],
      "metadata": {
        "id": "dRNFFBChfT8Y"
      }
    },
    {
      "cell_type": "markdown",
      "source": [
        "* `tensorflow`의 `GradientTape`을 이용해 미분값을 구할시 `tf.constant`와 `tf.Variable`의 차이가 극명히 들어난다"
      ],
      "metadata": {
        "id": "TWoPSH53fXDy"
      }
    },
    {
      "cell_type": "markdown",
      "source": [
        "* 또한 컴퓨터와 대화하는 메모장선언 시 변수의 위치를 고려해야한다!"
      ],
      "metadata": {
        "id": "SL0_ySwHfjyC"
      }
    }
  ]
}