{
  "nbformat": 4,
  "nbformat_minor": 0,
  "metadata": {
    "colab": {
      "name": "컨볼루션 계산.ipynb",
      "provenance": [],
      "collapsed_sections": [],
      "toc_visible": true
    },
    "kernelspec": {
      "name": "python3",
      "display_name": "Python 3"
    },
    "language_info": {
      "name": "python"
    }
  },
  "cells": [
    {
      "cell_type": "markdown",
      "source": [
        "# import"
      ],
      "metadata": {
        "id": "sNLv_ziccwam"
      }
    },
    {
      "cell_type": "code",
      "execution_count": 112,
      "metadata": {
        "id": "xPBjzZvWV595"
      },
      "outputs": [],
      "source": [
        "import tensorflow as tf \n",
        "import tensorflow.experimental.numpy as tnp \n",
        "import numpy as np"
      ]
    },
    {
      "cell_type": "code",
      "source": [
        "tnp.experimental_enable_numpy_behavior()"
      ],
      "metadata": {
        "id": "Mszak_29WOr7"
      },
      "execution_count": 113,
      "outputs": []
    },
    {
      "cell_type": "code",
      "source": [
        "tf.random.set_seed(202150256)"
      ],
      "metadata": {
        "id": "S_FbJs_WWUq-"
      },
      "execution_count": 114,
      "outputs": []
    },
    {
      "cell_type": "markdown",
      "source": [
        "# 데이터 생성"
      ],
      "metadata": {
        "id": "6II1Wl15cyY7"
      }
    },
    {
      "cell_type": "code",
      "source": [
        "image = tf.constant([0,0,0,1,1,1]*6,dtype=tf.float64).reshape(1,6,6,1)"
      ],
      "metadata": {
        "id": "qAI59vUvWXLi"
      },
      "execution_count": 117,
      "outputs": []
    },
    {
      "cell_type": "code",
      "source": [
        "image.reshape(1,6,6)"
      ],
      "metadata": {
        "colab": {
          "base_uri": "https://localhost:8080/"
        },
        "id": "sRFzdytnZxMC",
        "outputId": "051e7acb-2805-4816-e1a9-2b134f397ddb"
      },
      "execution_count": 118,
      "outputs": [
        {
          "output_type": "execute_result",
          "data": {
            "text/plain": [
              "<tf.Tensor: shape=(1, 6, 6), dtype=float64, numpy=\n",
              "array([[[0., 0., 0., 1., 1., 1.],\n",
              "        [0., 0., 0., 1., 1., 1.],\n",
              "        [0., 0., 0., 1., 1., 1.],\n",
              "        [0., 0., 0., 1., 1., 1.],\n",
              "        [0., 0., 0., 1., 1., 1.],\n",
              "        [0., 0., 0., 1., 1., 1.]]])>"
            ]
          },
          "metadata": {},
          "execution_count": 118
        }
      ]
    },
    {
      "cell_type": "markdown",
      "source": [
        "# Conv2D"
      ],
      "metadata": {
        "id": "-gG0K2vHc0IF"
      }
    },
    {
      "cell_type": "code",
      "source": [
        "cv = tf.keras.layers.Conv2D(1, kernel_size = (2,2))"
      ],
      "metadata": {
        "id": "EzyG2xQEXDJW"
      },
      "execution_count": 119,
      "outputs": []
    },
    {
      "cell_type": "code",
      "source": [
        "cv(image).reshape(1,5,5)"
      ],
      "metadata": {
        "colab": {
          "base_uri": "https://localhost:8080/"
        },
        "id": "mQesVWEcZ3vX",
        "outputId": "397a6c6a-a0f0-449b-fd6e-0d7c094e6155"
      },
      "execution_count": 121,
      "outputs": [
        {
          "output_type": "execute_result",
          "data": {
            "text/plain": [
              "<tf.Tensor: shape=(1, 5, 5), dtype=float32, numpy=\n",
              "array([[[0.       , 0.       , 0.9023603, 0.1632362, 0.1632362],\n",
              "        [0.       , 0.       , 0.9023603, 0.1632362, 0.1632362],\n",
              "        [0.       , 0.       , 0.9023603, 0.1632362, 0.1632362],\n",
              "        [0.       , 0.       , 0.9023603, 0.1632362, 0.1632362],\n",
              "        [0.       , 0.       , 0.9023603, 0.1632362, 0.1632362]]],\n",
              "      dtype=float32)>"
            ]
          },
          "metadata": {},
          "execution_count": 121
        }
      ]
    },
    {
      "cell_type": "code",
      "source": [
        "tf.reshape(cv.weights[0],(2,2))"
      ],
      "metadata": {
        "colab": {
          "base_uri": "https://localhost:8080/"
        },
        "id": "NlQ8-XxRZZD1",
        "outputId": "e4b840bd-f8d6-44be-f0af-07f757b47e03"
      },
      "execution_count": 122,
      "outputs": [
        {
          "output_type": "execute_result",
          "data": {
            "text/plain": [
              "<tf.Tensor: shape=(2, 2), dtype=float32, numpy=\n",
              "array([[-0.16480297,  0.14897054],\n",
              "       [-0.57432115,  0.7533898 ]], dtype=float32)>"
            ]
          },
          "metadata": {},
          "execution_count": 122
        }
      ]
    },
    {
      "cell_type": "markdown",
      "source": [
        "# weight 설정"
      ],
      "metadata": {
        "id": "EdnTeevXc20J"
      }
    },
    {
      "cell_type": "code",
      "source": [
        "w = tnp.array([-1,1,-1,1],dtype=tf.float32).reshape(2,2,1,1)\n",
        "b = tnp.array([0],dtype=tf.float32)"
      ],
      "metadata": {
        "id": "2EIz9CU6Xs0d"
      },
      "execution_count": 123,
      "outputs": []
    },
    {
      "cell_type": "code",
      "source": [
        "cv.set_weights([w,b])"
      ],
      "metadata": {
        "id": "WLuZ7MCzYgum"
      },
      "execution_count": 124,
      "outputs": []
    },
    {
      "cell_type": "code",
      "source": [
        "tf.reshape(cv.weights[0],(2,2))"
      ],
      "metadata": {
        "colab": {
          "base_uri": "https://localhost:8080/"
        },
        "id": "1uYLP70WZhlG",
        "outputId": "54f6461a-1991-4a09-cf3c-aa7905fdf48f"
      },
      "execution_count": 125,
      "outputs": [
        {
          "output_type": "execute_result",
          "data": {
            "text/plain": [
              "<tf.Tensor: shape=(2, 2), dtype=float32, numpy=\n",
              "array([[-1.,  1.],\n",
              "       [-1.,  1.]], dtype=float32)>"
            ]
          },
          "metadata": {},
          "execution_count": 125
        }
      ]
    },
    {
      "cell_type": "code",
      "source": [
        "cv.weights[1]"
      ],
      "metadata": {
        "colab": {
          "base_uri": "https://localhost:8080/"
        },
        "id": "xFXIP2KWZmoX",
        "outputId": "42cf9f3f-f59e-4b56-f92b-74b91593df07"
      },
      "execution_count": 85,
      "outputs": [
        {
          "output_type": "execute_result",
          "data": {
            "text/plain": [
              "<tf.Variable 'conv2d_9/bias:0' shape=(1,) dtype=float32, numpy=array([0.], dtype=float32)>"
            ]
          },
          "metadata": {},
          "execution_count": 85
        }
      ]
    },
    {
      "cell_type": "markdown",
      "source": [
        "# 결과 확인"
      ],
      "metadata": {
        "id": "d62jA7luc7xH"
      }
    },
    {
      "cell_type": "code",
      "source": [
        "cv(image).reshape(1,5,5)"
      ],
      "metadata": {
        "colab": {
          "base_uri": "https://localhost:8080/"
        },
        "id": "lSRhQVBJZqbj",
        "outputId": "da441b7e-a77c-4248-9d91-5a379cb0d6bc"
      },
      "execution_count": 126,
      "outputs": [
        {
          "output_type": "execute_result",
          "data": {
            "text/plain": [
              "<tf.Tensor: shape=(1, 5, 5), dtype=float32, numpy=\n",
              "array([[[0., 0., 2., 0., 0.],\n",
              "        [0., 0., 2., 0., 0.],\n",
              "        [0., 0., 2., 0., 0.],\n",
              "        [0., 0., 2., 0., 0.],\n",
              "        [0., 0., 2., 0., 0.]]], dtype=float32)>"
            ]
          },
          "metadata": {},
          "execution_count": 126
        }
      ]
    }
  ]
}