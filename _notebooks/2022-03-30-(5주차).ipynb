{
  "cells": [
    {
      "cell_type": "markdown",
      "id": "e8809dfd-9f28-4be3-ba52-822d297d777a",
      "metadata": {
        "id": "e8809dfd-9f28-4be3-ba52-822d297d777a"
      },
      "source": [
        "# (5주차) 4월4일 -- lecture\n",
        "\n",
        "- toc:true\n",
        "- branch: master\n",
        "- badges: true\n",
        "- comments: true\n",
        "- author: 최규빈\n",
        "- editor : 이강철\n",
        "- published : true"
      ]
    },
    {
      "cell_type": "markdown",
      "id": "ea093d98-e476-4de2-9ff5-7b98f7d621e2",
      "metadata": {
        "id": "ea093d98-e476-4de2-9ff5-7b98f7d621e2"
      },
      "source": [
        "### imports "
      ]
    },
    {
      "cell_type": "code",
      "execution_count": 1,
      "id": "5ae54fd7-4dfb-4879-b711-70ef051721e3",
      "metadata": {
        "id": "5ae54fd7-4dfb-4879-b711-70ef051721e3",
        "colab": {
          "base_uri": "https://localhost:8080/"
        },
        "outputId": "5ffd4608-c517-4a43-c8c5-1b760ec73190"
      },
      "outputs": [
        {
          "output_type": "stream",
          "name": "stdout",
          "text": [
            "/bin/bash: conda: command not found\n"
          ]
        }
      ],
      "source": [
        "#!conda install -c conda-forge python-graphviz -y"
      ]
    },
    {
      "cell_type": "code",
      "execution_count": 2,
      "id": "4ec7ad60-84d4-4b61-88d0-5f83872be0be",
      "metadata": {
        "id": "4ec7ad60-84d4-4b61-88d0-5f83872be0be"
      },
      "outputs": [],
      "source": [
        "import tensorflow as tf \n",
        "import numpy as np\n",
        "import matplotlib.pyplot as plt "
      ]
    },
    {
      "cell_type": "code",
      "execution_count": 3,
      "id": "9691fb34-384f-4317-9437-998e8219cf8a",
      "metadata": {
        "id": "9691fb34-384f-4317-9437-998e8219cf8a"
      },
      "outputs": [],
      "source": [
        "import tensorflow.experimental.numpy as tnp "
      ]
    },
    {
      "cell_type": "code",
      "execution_count": 4,
      "id": "2b368af7-2aac-4028-97e2-a83e7196c7dd",
      "metadata": {
        "id": "2b368af7-2aac-4028-97e2-a83e7196c7dd"
      },
      "outputs": [],
      "source": [
        "tnp.experimental_enable_numpy_behavior() "
      ]
    },
    {
      "cell_type": "markdown",
      "id": "3f4677a4-dba0-4274-96b5-a51a892026c9",
      "metadata": {
        "tags": [],
        "id": "3f4677a4-dba0-4274-96b5-a51a892026c9"
      },
      "source": [
        "### 최적화의 문제 "
      ]
    },
    {
      "cell_type": "markdown",
      "id": "bc860b47-d266-4cbc-b7da-8a00d565f1d9",
      "metadata": {
        "id": "bc860b47-d266-4cbc-b7da-8a00d565f1d9"
      },
      "source": [
        "`-` $loss=(\\frac{1}{2}\\beta-1)^2$ "
      ]
    },
    {
      "cell_type": "markdown",
      "id": "320ac0cd-9a4d-4e31-a206-2d93581cacbb",
      "metadata": {
        "id": "320ac0cd-9a4d-4e31-a206-2d93581cacbb"
      },
      "source": [
        "`-` 기존에 했던 방법은 수식을 알고 있어야 한다는 단점이 있음 "
      ]
    },
    {
      "cell_type": "markdown",
      "source": [
        "`-` 그래서 확률적 경사하강법을 이용해서 최적해를 찾는 과제를 수행하였음 "
      ],
      "metadata": {
        "id": "yl59L9GFDRZA"
      },
      "id": "yl59L9GFDRZA"
    },
    {
      "cell_type": "markdown",
      "source": [
        "`-` 그러나 다양한 `loss` 함수에서 위와 같이 간단히 최적해를 찾는 것은 매우 어려움 $\\to$ 대부분의 함수는 비모수적이기 때문이다!!"
      ],
      "metadata": {
        "id": "A8JxNuiRDwO8"
      },
      "id": "A8JxNuiRDwO8"
    },
    {
      "cell_type": "markdown",
      "source": [
        "`-` 그래서 오늘은 그것을 쉽게 해주는 `tf.keras.optimizers`를 사용해서 최적해를 찾을 거얌"
      ],
      "metadata": {
        "id": "1TOmsaomD_7f"
      },
      "id": "1TOmsaomD_7f"
    },
    {
      "cell_type": "markdown",
      "id": "0acf255d-c030-4c91-b9e1-1cf62a09fb65",
      "metadata": {
        "id": "0acf255d-c030-4c91-b9e1-1cf62a09fb65"
      },
      "source": [
        "### tf.keras.optimizers를 이용한 최적화방법 "
      ]
    },
    {
      "cell_type": "markdown",
      "source": [
        "#### 방법1: opt.apply_gradients()를 이용 "
      ],
      "metadata": {
        "id": "YzThkzu-GaJ8"
      },
      "id": "YzThkzu-GaJ8"
    },
    {
      "cell_type": "markdown",
      "source": [
        "* 이전까지의 방법"
      ],
      "metadata": {
        "id": "Bx49C0rcFTRv"
      },
      "id": "Bx49C0rcFTRv"
    },
    {
      "cell_type": "code",
      "source": [
        "beta = tf.Variable(-10.0)\n",
        "alpha = 0.01/6"
      ],
      "metadata": {
        "id": "huK8jBaVErne"
      },
      "id": "huK8jBaVErne",
      "execution_count": 29,
      "outputs": []
    },
    {
      "cell_type": "code",
      "source": [
        "with tf.GradientTape() as tape :\n",
        "    tape.watch(beta)\n",
        "    loss = (beta/2-1)**2\n",
        "slope = tape.gradient(loss,beta)"
      ],
      "metadata": {
        "id": "Tq0muZcnExBN"
      },
      "id": "Tq0muZcnExBN",
      "execution_count": 30,
      "outputs": []
    },
    {
      "cell_type": "code",
      "source": [
        "beta.assign_sub(slope*alpha)"
      ],
      "metadata": {
        "colab": {
          "base_uri": "https://localhost:8080/"
        },
        "id": "SB6OJs27FGqq",
        "outputId": "e4714c9a-e88f-4b22-f0ac-71c13e2b6b2e"
      },
      "id": "SB6OJs27FGqq",
      "execution_count": 31,
      "outputs": [
        {
          "output_type": "execute_result",
          "data": {
            "text/plain": [
              "<tf.Variable 'UnreadVariable' shape=() dtype=float32, numpy=-9.99>"
            ]
          },
          "metadata": {},
          "execution_count": 31
        }
      ]
    },
    {
      "cell_type": "markdown",
      "source": [
        "* 이전 방법 + 새로운 방법 ( - `beta.assign_sub(slope*alpha)`)"
      ],
      "metadata": {
        "id": "I6IE8h-vFaHy"
      },
      "id": "I6IE8h-vFaHy"
    },
    {
      "cell_type": "code",
      "source": [
        "opt = tf.keras.optimizers.SGD(alpha)"
      ],
      "metadata": {
        "id": "s5MDzyZQFbW7"
      },
      "id": "s5MDzyZQFbW7",
      "execution_count": 32,
      "outputs": []
    },
    {
      "cell_type": "markdown",
      "source": [
        "* `opt.apply_gradients()` : 베타 값과 slope의 값을 받아 최적해를 구해준다."
      ],
      "metadata": {
        "id": "XBLsVouJFl7e"
      },
      "id": "XBLsVouJFl7e"
    },
    {
      "cell_type": "markdown",
      "source": [
        "*  즉, 위식을 통해 수식을 몰라도 최적해를 구할 수 있다."
      ],
      "metadata": {
        "id": "2Q3c98QnF_dT"
      },
      "id": "2Q3c98QnF_dT"
    },
    {
      "cell_type": "markdown",
      "source": [
        "* 아래 과정은 한번에 `iteration` 임"
      ],
      "metadata": {
        "id": "F8tZu4HTGchq"
      },
      "id": "F8tZu4HTGchq"
    },
    {
      "cell_type": "code",
      "source": [
        "opt.apply_gradients([(slope,beta)]) # beta.assign_sub(slope*alpha)"
      ],
      "metadata": {
        "colab": {
          "base_uri": "https://localhost:8080/"
        },
        "id": "SWfDhFIMFfqs",
        "outputId": "092f528f-3b90-4e82-d964-7565133c6a27"
      },
      "id": "SWfDhFIMFfqs",
      "execution_count": 33,
      "outputs": [
        {
          "output_type": "execute_result",
          "data": {
            "text/plain": [
              "<tf.Variable 'UnreadVariable' shape=() dtype=int64, numpy=1>"
            ]
          },
          "metadata": {},
          "execution_count": 33
        }
      ]
    },
    {
      "cell_type": "code",
      "source": [
        "beta"
      ],
      "metadata": {
        "colab": {
          "base_uri": "https://localhost:8080/"
        },
        "id": "h6mePl_vGvQk",
        "outputId": "42f89176-0981-4d72-a4f6-6ffd6814c7e3"
      },
      "id": "h6mePl_vGvQk",
      "execution_count": 34,
      "outputs": [
        {
          "output_type": "execute_result",
          "data": {
            "text/plain": [
              "<tf.Variable 'Variable:0' shape=() dtype=float32, numpy=-9.98>"
            ]
          },
          "metadata": {},
          "execution_count": 34
        }
      ]
    },
    {
      "cell_type": "markdown",
      "source": [
        "* iteration 2"
      ],
      "metadata": {
        "id": "hzREu7UEGi5P"
      },
      "id": "hzREu7UEGi5P"
    },
    {
      "cell_type": "code",
      "source": [
        "with tf.GradientTape() as tape :\n",
        "    tape.watch(beta)\n",
        "    loss = (beta/2-1)**2\n",
        "slope = tape.gradient(loss,beta)"
      ],
      "metadata": {
        "id": "J-voSNqwGpE3"
      },
      "id": "J-voSNqwGpE3",
      "execution_count": 35,
      "outputs": []
    },
    {
      "cell_type": "code",
      "source": [
        "opt.apply_gradients([(slope,beta)]) # beta.assign_sub(slope*alpha)"
      ],
      "metadata": {
        "colab": {
          "base_uri": "https://localhost:8080/"
        },
        "id": "6YEE65BgF-e1",
        "outputId": "c2f54c09-f192-49ab-8304-fa0fc5143798"
      },
      "id": "6YEE65BgF-e1",
      "execution_count": 36,
      "outputs": [
        {
          "output_type": "execute_result",
          "data": {
            "text/plain": [
              "<tf.Variable 'UnreadVariable' shape=() dtype=int64, numpy=2>"
            ]
          },
          "metadata": {},
          "execution_count": 36
        }
      ]
    },
    {
      "cell_type": "code",
      "source": [
        "beta"
      ],
      "metadata": {
        "colab": {
          "base_uri": "https://localhost:8080/"
        },
        "id": "4RV5sDUmFzzD",
        "outputId": "cd743328-0f8c-4b19-9e8e-d5cd4fa9d3ba"
      },
      "id": "4RV5sDUmFzzD",
      "execution_count": 37,
      "outputs": [
        {
          "output_type": "execute_result",
          "data": {
            "text/plain": [
              "<tf.Variable 'Variable:0' shape=() dtype=float32, numpy=-9.9700165>"
            ]
          },
          "metadata": {},
          "execution_count": 37
        }
      ]
    },
    {
      "cell_type": "markdown",
      "source": [
        "* `interation 1`과 `interation 2` 의 결과가 달라진 것을 확인하였다."
      ],
      "metadata": {
        "id": "KSZq01LzGzEb"
      },
      "id": "KSZq01LzGzEb"
    },
    {
      "cell_type": "markdown",
      "source": [
        "* `for` 문을 이용한다면?"
      ],
      "metadata": {
        "id": "w19dbcCjG5na"
      },
      "id": "w19dbcCjG5na"
    },
    {
      "cell_type": "code",
      "source": [
        "alpha = 0.01/6\n",
        "beta =  tf.Variable(-10.0)\n",
        "opt = tf.keras.optimizers.SGD(alpha)"
      ],
      "metadata": {
        "id": "6zkf7f0mG8s6"
      },
      "id": "6zkf7f0mG8s6",
      "execution_count": 40,
      "outputs": []
    },
    {
      "cell_type": "code",
      "source": [
        "for epoc in range(10000) :\n",
        "  with tf.GradientTape() as tape :\n",
        "    tape.watch(beta)\n",
        "    loss = (beta/2-1)**2\n",
        "  slope = tape.gradient(loss,beta)\n",
        "  opt.apply_gradients([(slope,beta)])"
      ],
      "metadata": {
        "id": "6KU_UXkwHGZ3"
      },
      "id": "6KU_UXkwHGZ3",
      "execution_count": 41,
      "outputs": []
    },
    {
      "cell_type": "code",
      "source": [
        "beta"
      ],
      "metadata": {
        "colab": {
          "base_uri": "https://localhost:8080/"
        },
        "id": "ac9FbdsFHj9j",
        "outputId": "fd4a653e-62fc-4078-da60-d108b03cd1c4"
      },
      "id": "ac9FbdsFHj9j",
      "execution_count": 42,
      "outputs": [
        {
          "output_type": "execute_result",
          "data": {
            "text/plain": [
              "<tf.Variable 'Variable:0' shape=() dtype=float32, numpy=1.9971251>"
            ]
          },
          "metadata": {},
          "execution_count": 42
        }
      ]
    },
    {
      "cell_type": "markdown",
      "source": [
        "* 잠깐, 주소가 같지만 문법이 다름 근데 걍 그런갑다 하자 "
      ],
      "metadata": {
        "id": "sdsXPv6DHl0V"
      },
      "id": "sdsXPv6DHl0V"
    },
    {
      "cell_type": "code",
      "source": [
        "opt.learning_rate, opt.lr"
      ],
      "metadata": {
        "colab": {
          "base_uri": "https://localhost:8080/"
        },
        "id": "CzyT9YTeHlq1",
        "outputId": "5d52bf67-07ea-4366-c894-25b7360c1b06"
      },
      "id": "CzyT9YTeHlq1",
      "execution_count": 43,
      "outputs": [
        {
          "output_type": "execute_result",
          "data": {
            "text/plain": [
              "(<tf.Variable 'SGD/learning_rate:0' shape=() dtype=float32, numpy=0.0016666667>,\n",
              " <tf.Variable 'SGD/learning_rate:0' shape=() dtype=float32, numpy=0.0016666667>)"
            ]
          },
          "metadata": {},
          "execution_count": 43
        }
      ]
    },
    {
      "cell_type": "code",
      "source": [
        "id(opt.learning_rate), id( opt.lr)"
      ],
      "metadata": {
        "colab": {
          "base_uri": "https://localhost:8080/"
        },
        "id": "BrZEsHD3HraL",
        "outputId": "7263fc0c-e4e4-4d9c-f63b-2d2f52bacc69"
      },
      "id": "BrZEsHD3HraL",
      "execution_count": 44,
      "outputs": [
        {
          "output_type": "execute_result",
          "data": {
            "text/plain": [
              "(139921818271120, 139921818271120)"
            ]
          },
          "metadata": {},
          "execution_count": 44
        }
      ]
    },
    {
      "cell_type": "markdown",
      "id": "779dcb12-af26-47b3-a168-e3c87714106b",
      "metadata": {
        "id": "779dcb12-af26-47b3-a168-e3c87714106b"
      },
      "source": [
        "#### 방법2: opt.minimize()"
      ]
    },
    {
      "cell_type": "markdown",
      "source": [
        "* 이 함수를 이용하면 `gradienttape`를 안써도 된다. 핳"
      ],
      "metadata": {
        "id": "Qowm9AHoJQtD"
      },
      "id": "Qowm9AHoJQtD"
    },
    {
      "cell_type": "code",
      "source": [
        "alpha = 0.01/6\n",
        "beta =  tf.Variable(-10.0)\n",
        "opt = tf.keras.optimizers.SGD(alpha)"
      ],
      "metadata": {
        "id": "4dOQj67RJOGR"
      },
      "id": "4dOQj67RJOGR",
      "execution_count": 45,
      "outputs": []
    },
    {
      "cell_type": "markdown",
      "source": [
        "##### loss 함수 정의 "
      ],
      "metadata": {
        "id": "mzAMbAiiJPm_"
      },
      "id": "mzAMbAiiJPm_"
    },
    {
      "cell_type": "markdown",
      "source": [
        "$$\\left(\\frac 12\\beta-1\\right)^2$$"
      ],
      "metadata": {
        "id": "ybhkjJgsJ-FV"
      },
      "id": "ybhkjJgsJ-FV"
    },
    {
      "cell_type": "code",
      "source": [
        "loss_fn = lambda: (beta/2-1)**2 "
      ],
      "metadata": {
        "id": "nDa1q3xtJr0z"
      },
      "id": "nDa1q3xtJr0z",
      "execution_count": 50,
      "outputs": []
    },
    {
      "cell_type": "markdown",
      "source": [
        "`-` iter 1"
      ],
      "metadata": {
        "id": "KtRDsmL5K0rm"
      },
      "id": "KtRDsmL5K0rm"
    },
    {
      "cell_type": "code",
      "source": [
        "opt.minimize(loss_fn,beta)"
      ],
      "metadata": {
        "colab": {
          "base_uri": "https://localhost:8080/"
        },
        "id": "SQj2sKAmJQMh",
        "outputId": "02a7d238-f461-4829-fc40-85ce4c81e856"
      },
      "id": "SQj2sKAmJQMh",
      "execution_count": 51,
      "outputs": [
        {
          "output_type": "execute_result",
          "data": {
            "text/plain": [
              "<tf.Variable 'UnreadVariable' shape=() dtype=int64, numpy=1>"
            ]
          },
          "metadata": {},
          "execution_count": 51
        }
      ]
    },
    {
      "cell_type": "code",
      "source": [
        "beta"
      ],
      "metadata": {
        "colab": {
          "base_uri": "https://localhost:8080/"
        },
        "id": "o5uNghMXLK1k",
        "outputId": "1fe822b0-56f7-4a78-9733-854d37bae87f"
      },
      "id": "o5uNghMXLK1k",
      "execution_count": 52,
      "outputs": [
        {
          "output_type": "execute_result",
          "data": {
            "text/plain": [
              "<tf.Variable 'Variable:0' shape=() dtype=float32, numpy=-9.99>"
            ]
          },
          "metadata": {},
          "execution_count": 52
        }
      ]
    },
    {
      "cell_type": "markdown",
      "source": [
        "`-` for"
      ],
      "metadata": {
        "id": "bwbKvIcxLMqV"
      },
      "id": "bwbKvIcxLMqV"
    },
    {
      "cell_type": "code",
      "source": [
        "alpha = 0.01/6\n",
        "beta =  tf.Variable(-10.0)\n",
        "opt = tf.keras.optimizers.SGD(alpha)\n",
        "loss_fn = lambda: (beta/2-1)**2 \n",
        "for epoc in range(10000) :\n",
        "    opt.minimize(loss_fn,beta)\n",
        "beta"
      ],
      "metadata": {
        "colab": {
          "base_uri": "https://localhost:8080/"
        },
        "id": "2oBfzaU8LPOV",
        "outputId": "d1f44761-b30a-4c1f-869e-79e8163a61ed"
      },
      "id": "2oBfzaU8LPOV",
      "execution_count": 53,
      "outputs": [
        {
          "output_type": "execute_result",
          "data": {
            "text/plain": [
              "<tf.Variable 'Variable:0' shape=() dtype=float32, numpy=1.9971251>"
            ]
          },
          "metadata": {},
          "execution_count": 53
        }
      ]
    },
    {
      "cell_type": "code",
      "source": [
        "beta"
      ],
      "metadata": {
        "colab": {
          "base_uri": "https://localhost:8080/"
        },
        "id": "AHkLHcR0LbAD",
        "outputId": "696c0965-f817-47d1-ab2f-6d70a544e86a"
      },
      "id": "AHkLHcR0LbAD",
      "execution_count": 54,
      "outputs": [
        {
          "output_type": "execute_result",
          "data": {
            "text/plain": [
              "<tf.Variable 'Variable:0' shape=() dtype=float32, numpy=1.9971251>"
            ]
          },
          "metadata": {},
          "execution_count": 54
        }
      ]
    },
    {
      "cell_type": "markdown",
      "id": "c72c9a7d-e1d7-472b-84c4-e2135b74e7e9",
      "metadata": {
        "tags": [],
        "id": "c72c9a7d-e1d7-472b-84c4-e2135b74e7e9"
      },
      "source": [
        "### 회귀분석 문제"
      ]
    },
    {
      "cell_type": "markdown",
      "id": "c4bd3fe9-092a-4c8a-a4d0-b9abcfb4de6d",
      "metadata": {
        "id": "c4bd3fe9-092a-4c8a-a4d0-b9abcfb4de6d"
      },
      "source": [
        "`-` ${\\bf y} \\approx 2.5 + 4 {\\bf x}$"
      ]
    },
    {
      "cell_type": "code",
      "execution_count": 73,
      "id": "2c80d44c-7e99-4bb4-92ff-382b29999470",
      "metadata": {
        "id": "2c80d44c-7e99-4bb4-92ff-382b29999470"
      },
      "outputs": [],
      "source": [
        "tnp.random.seed(43052)\n",
        "N = 200\n",
        "x = tnp.linspace(0,1,N) \n",
        "epsilon = tnp.random.randn(N)*0.5\n",
        "y = 2.5 + 4*x + epsilon\n",
        "y_hat = 2.5 + 4*x"
      ]
    },
    {
      "cell_type": "code",
      "execution_count": 74,
      "id": "af3a1e90-9370-4705-9be7-f321f7c2f856",
      "metadata": {
        "id": "af3a1e90-9370-4705-9be7-f321f7c2f856",
        "outputId": "dde389f6-348a-49fb-dc17-acdaca26ba41",
        "colab": {
          "base_uri": "https://localhost:8080/",
          "height": 283
        }
      },
      "outputs": [
        {
          "output_type": "execute_result",
          "data": {
            "text/plain": [
              "[<matplotlib.lines.Line2D at 0x7f4215a0cd10>]"
            ]
          },
          "metadata": {},
          "execution_count": 74
        },
        {
          "output_type": "display_data",
          "data": {
            "text/plain": [
              "<Figure size 432x288 with 1 Axes>"
            ],
            "image/png": "[encoded data removed]"
          },
          "metadata": {
            "needs_background": "light"
          }
        }
      ],
      "source": [
        "plt.plot(x,y,'.')\n",
        "plt.plot(x,y_hat,'r--')"
      ]
    },
    {
      "cell_type": "markdown",
      "id": "8031b7f3-8460-4804-8806-3615e0ce7ce4",
      "metadata": {
        "id": "8031b7f3-8460-4804-8806-3615e0ce7ce4"
      },
      "source": [
        "### 이론적 풀이"
      ]
    },
    {
      "cell_type": "markdown",
      "id": "726a27e8-8ccb-4432-a826-6848a682e4d6",
      "metadata": {
        "id": "726a27e8-8ccb-4432-a826-6848a682e4d6"
      },
      "source": [
        "#### 풀이1: 스칼라버전"
      ]
    },
    {
      "cell_type": "markdown",
      "id": "b5886ec9-ce8e-41b7-a6d2-7a4a1d4ddd96",
      "metadata": {
        "id": "b5886ec9-ce8e-41b7-a6d2-7a4a1d4ddd96"
      },
      "source": [
        "`-` 포인트 \n",
        "- $S_{xx}=\\sum (x-\\bar x)^2$,$\\quad S_{xy}=\\sum (x-\\bar x)(y- \\bar y)$\n",
        "- $\\hat{\\beta}_0=\\bar y - \\hat{ \\beta_1} \\bar x$$,\\quad \\hat{\\beta}_1= \\frac {S_{xy}}{S_{xx}} $"
      ]
    },
    {
      "cell_type": "code",
      "source": [
        "Sxx = sum((x-x.mean())**2) \n",
        "Sxy = sum((x-x.mean())*(y-y.mean())) "
      ],
      "metadata": {
        "id": "iB1Hj-KCM8Hw"
      },
      "id": "iB1Hj-KCM8Hw",
      "execution_count": 75,
      "outputs": []
    },
    {
      "cell_type": "code",
      "source": [
        "beta1_hat = Sxy/Sxx \n",
        "beta0_hat = y.mean() - beta1_hat*x.mean()"
      ],
      "metadata": {
        "id": "SpHgM8cFNs9_"
      },
      "id": "SpHgM8cFNs9_",
      "execution_count": 76,
      "outputs": []
    },
    {
      "cell_type": "code",
      "source": [
        "beta0_hat,beta1_hat"
      ],
      "metadata": {
        "colab": {
          "base_uri": "https://localhost:8080/"
        },
        "id": "WRG0TRKzNt7p",
        "outputId": "5e91655e-1616-4e45-a02a-18920dc62923"
      },
      "id": "WRG0TRKzNt7p",
      "execution_count": 77,
      "outputs": [
        {
          "output_type": "execute_result",
          "data": {
            "text/plain": [
              "(<tf.Tensor: shape=(), dtype=float64, numpy=2.583667211565867>,\n",
              " <tf.Tensor: shape=(), dtype=float64, numpy=3.933034516733169>)"
            ]
          },
          "metadata": {},
          "execution_count": 77
        }
      ]
    },
    {
      "cell_type": "markdown",
      "id": "15c2e0df-79cf-47bc-88fc-01511aede78f",
      "metadata": {
        "id": "15c2e0df-79cf-47bc-88fc-01511aede78f"
      },
      "source": [
        "#### 풀이2: 벡터버전"
      ]
    },
    {
      "cell_type": "code",
      "source": [
        "X=tf.stack([tf.ones(N,dtype='float64'),x],axis=1)\n",
        "y=y.reshape(N,1) "
      ],
      "metadata": {
        "id": "ewv6J0gWNw2I"
      },
      "id": "ewv6J0gWNw2I",
      "execution_count": 78,
      "outputs": []
    },
    {
      "cell_type": "code",
      "source": [
        "X.shape,y.shape"
      ],
      "metadata": {
        "colab": {
          "base_uri": "https://localhost:8080/"
        },
        "id": "PogoBSg5Nx-B",
        "outputId": "718b50bf-f16c-443f-b826-3273d1447b56"
      },
      "id": "PogoBSg5Nx-B",
      "execution_count": 79,
      "outputs": [
        {
          "output_type": "execute_result",
          "data": {
            "text/plain": [
              "(TensorShape([200, 2]), TensorShape([200, 1]))"
            ]
          },
          "metadata": {},
          "execution_count": 79
        }
      ]
    },
    {
      "cell_type": "markdown",
      "source": [
        "* $\\hat \\beta  = (X^{T}X)^{-1} X^{T} y$"
      ],
      "metadata": {
        "id": "IcEnk4MON2B7"
      },
      "id": "IcEnk4MON2B7"
    },
    {
      "cell_type": "code",
      "source": [
        "tf.linalg.inv(X.T@X)@ X.T @y "
      ],
      "metadata": {
        "colab": {
          "base_uri": "https://localhost:8080/"
        },
        "id": "TwZ5E6h9NzAK",
        "outputId": "7e28aeec-0f81-47d5-993d-6f3f9cedcb90"
      },
      "id": "TwZ5E6h9NzAK",
      "execution_count": 80,
      "outputs": [
        {
          "output_type": "execute_result",
          "data": {
            "text/plain": [
              "<tf.Tensor: shape=(2, 1), dtype=float64, numpy=\n",
              "array([[2.58366721],\n",
              "       [3.93303452]])>"
            ]
          },
          "metadata": {},
          "execution_count": 80
        }
      ]
    },
    {
      "cell_type": "markdown",
      "id": "0e3bc322-477e-4b86-b8f4-57c5b522f3ab",
      "metadata": {
        "id": "0e3bc322-477e-4b86-b8f4-57c5b522f3ab"
      },
      "source": [
        "#### 풀이3: 벡터버전, 손실함수의 도함수이용 (경사하강법을 이용한 풀이)"
      ]
    },
    {
      "cell_type": "markdown",
      "source": [
        "(단, 텐서플로우의 미분기능을 사용하지 않음 )"
      ],
      "metadata": {
        "id": "VfRgIvtVPC9e"
      },
      "id": "VfRgIvtVPC9e"
    },
    {
      "cell_type": "code",
      "source": [
        "X=tf.stack([tf.ones(N,dtype='float64'),x],axis=1)\n",
        "y=y.reshape(N,1) \n",
        "X.shape,y.shape"
      ],
      "metadata": {
        "colab": {
          "base_uri": "https://localhost:8080/"
        },
        "id": "L8fE2Q1DOo51",
        "outputId": "dfccd994-d164-42d1-aeb9-1e6ed2eb0e5f"
      },
      "id": "L8fE2Q1DOo51",
      "execution_count": 82,
      "outputs": [
        {
          "output_type": "execute_result",
          "data": {
            "text/plain": [
              "(TensorShape([200, 2]), TensorShape([200, 1]))"
            ]
          },
          "metadata": {},
          "execution_count": 82
        }
      ]
    },
    {
      "cell_type": "markdown",
      "source": [
        "`-` 초기값 설정"
      ],
      "metadata": {
        "id": "UDcySDwTOu_e"
      },
      "id": "UDcySDwTOu_e"
    },
    {
      "cell_type": "code",
      "source": [
        "beta_hat = tnp.array([-5.0,10.0]).reshape(2,1)"
      ],
      "metadata": {
        "id": "KLTWmG3NOyPb"
      },
      "id": "KLTWmG3NOyPb",
      "execution_count": 83,
      "outputs": []
    },
    {
      "cell_type": "markdown",
      "source": [
        "`-` 포인트\n",
        "- $loss'(\\beta)=-2X'y +2X'X\\beta$\n",
        "- $\\beta_{new} = \\beta_{old} - \\alpha \\times loss'(\\beta_{old})$"
      ],
      "metadata": {
        "id": "NoQtWxHYPIrA"
      },
      "id": "NoQtWxHYPIrA"
    },
    {
      "cell_type": "code",
      "source": [
        "slope = -2*X.T@y + 2*X.T@X@beta_hat"
      ],
      "metadata": {
        "id": "YZbJd5oWO5Oq"
      },
      "id": "YZbJd5oWO5Oq",
      "execution_count": 89,
      "outputs": []
    },
    {
      "cell_type": "code",
      "source": [
        "slope"
      ],
      "metadata": {
        "colab": {
          "base_uri": "https://localhost:8080/"
        },
        "id": "h4wKvgzbO8Yc",
        "outputId": "d3e1b681-0c39-4026-f47f-396ba433ab98"
      },
      "id": "h4wKvgzbO8Yc",
      "execution_count": 90,
      "outputs": [
        {
          "output_type": "execute_result",
          "data": {
            "text/plain": [
              "<tf.Tensor: shape=(2, 1), dtype=float64, numpy=\n",
              "array([[-1820.07378797],\n",
              "       [ -705.77222696]])>"
            ]
          },
          "metadata": {},
          "execution_count": 90
        }
      ]
    },
    {
      "cell_type": "code",
      "source": [
        "alpha = 0.001"
      ],
      "metadata": {
        "id": "-cCC81W2PMn9"
      },
      "id": "-cCC81W2PMn9",
      "execution_count": 87,
      "outputs": []
    },
    {
      "cell_type": "code",
      "source": [
        "step = slope * alpha\n",
        "step"
      ],
      "metadata": {
        "colab": {
          "base_uri": "https://localhost:8080/"
        },
        "id": "oBKxG-ydPNse",
        "outputId": "2f39adbd-303a-4265-9fa3-d8bd6985b800"
      },
      "id": "oBKxG-ydPNse",
      "execution_count": 88,
      "outputs": [
        {
          "output_type": "execute_result",
          "data": {
            "text/plain": [
              "<tf.Tensor: shape=(2, 1), dtype=float64, numpy=\n",
              "array([[-1.82007379],\n",
              "       [-0.70577223]])>"
            ]
          },
          "metadata": {},
          "execution_count": 88
        }
      ]
    },
    {
      "cell_type": "code",
      "source": [
        "for epoc in range(1000) : \n",
        "  slope = -2*X.T@y + 2*X.T@X@beta_hat\n",
        "  beta_hat = beta_hat - alpha*slope"
      ],
      "metadata": {
        "id": "_D8J9QvaPj_D"
      },
      "id": "_D8J9QvaPj_D",
      "execution_count": 91,
      "outputs": []
    },
    {
      "cell_type": "code",
      "source": [
        "beta_hat"
      ],
      "metadata": {
        "colab": {
          "base_uri": "https://localhost:8080/"
        },
        "id": "RRti0p0tPwLK",
        "outputId": "ef9bf681-e207-4347-ec34-4cc443f74434"
      },
      "id": "RRti0p0tPwLK",
      "execution_count": 92,
      "outputs": [
        {
          "output_type": "execute_result",
          "data": {
            "text/plain": [
              "<tf.Tensor: shape=(2, 1), dtype=float64, numpy=\n",
              "array([[2.58366721],\n",
              "       [3.93303452]])>"
            ]
          },
          "metadata": {},
          "execution_count": 92
        }
      ]
    },
    {
      "cell_type": "markdown",
      "id": "8f5231a2-1872-497e-baf4-f463f0574757",
      "metadata": {
        "id": "8f5231a2-1872-497e-baf4-f463f0574757"
      },
      "source": [
        "### GradientTape를 이용 "
      ]
    },
    {
      "cell_type": "markdown",
      "id": "6a6f1c18-aff6-41fc-b346-aa184f5cddb4",
      "metadata": {
        "id": "6a6f1c18-aff6-41fc-b346-aa184f5cddb4"
      },
      "source": [
        "#### 풀이1: 벡터버전"
      ]
    },
    {
      "cell_type": "markdown",
      "id": "55ba7a20-43ec-40b3-90f6-5df6036bda89",
      "metadata": {
        "id": "55ba7a20-43ec-40b3-90f6-5df6036bda89"
      },
      "source": [
        "`-` 포인트\n",
        "```python\n",
        "## 포인트코드1: 그레디언트 테입  \n",
        "with tf.GradientTape() as tape: \n",
        "    loss = \n",
        "## 포인트코드2: 미분 \n",
        "slope = tape.gradient(loss,beta_hat) \n",
        "## 포인트코드3: update \n",
        "beta_hat.assign_sub(slope*alph) \n",
        "```"
      ]
    },
    {
      "cell_type": "markdown",
      "id": "45b5df07-64fd-4257-a8e5-1c55ffdc2172",
      "metadata": {
        "id": "45b5df07-64fd-4257-a8e5-1c55ffdc2172"
      },
      "source": [
        "#### 풀이2: 스칼라버전"
      ]
    },
    {
      "cell_type": "markdown",
      "id": "121291bf-c8b8-4a77-9c72-3b0f5540ef17",
      "metadata": {
        "id": "121291bf-c8b8-4a77-9c72-3b0f5540ef17"
      },
      "source": [
        "`-` 포인트\n",
        "```python\n",
        "## 포인트코드: 미분\n",
        "slope0,slope1 = tape.gradient(loss,[beta0_hat,beta1_hat])\n",
        "```"
      ]
    },
    {
      "cell_type": "markdown",
      "id": "febc6310-7669-4cfe-ba5f-70ae1853f605",
      "metadata": {
        "id": "febc6310-7669-4cfe-ba5f-70ae1853f605"
      },
      "source": [
        "### GradientTape + opt.apply_gradients"
      ]
    },
    {
      "cell_type": "markdown",
      "id": "5089a331-82aa-48cc-9f6f-5ea1a93bbd2f",
      "metadata": {
        "tags": [],
        "id": "5089a331-82aa-48cc-9f6f-5ea1a93bbd2f"
      },
      "source": [
        "#### 풀이1: 벡터버전 "
      ]
    },
    {
      "cell_type": "markdown",
      "id": "ad963999-5fe2-429f-914a-b70bd3ad9235",
      "metadata": {
        "id": "ad963999-5fe2-429f-914a-b70bd3ad9235"
      },
      "source": [
        "`-` 포인트 \n",
        "```python\n",
        "## 포인트코드: 업데이트\n",
        "opt.apply_gradients([(slope,beta_hat)])  ## pair의 list가 입력 \n",
        "```"
      ]
    },
    {
      "cell_type": "markdown",
      "id": "544bb15a-9809-4bfb-abda-c7e84e20f8e4",
      "metadata": {
        "tags": [],
        "id": "544bb15a-9809-4bfb-abda-c7e84e20f8e4"
      },
      "source": [
        "#### 풀이2: 스칼라버전 "
      ]
    },
    {
      "cell_type": "markdown",
      "id": "9e93cdf6-3ba5-4102-b325-33c98fa8010c",
      "metadata": {
        "id": "9e93cdf6-3ba5-4102-b325-33c98fa8010c"
      },
      "source": [
        "`-` 포인트\n",
        "```python\n",
        "## 포인트코드: 업데이트 \n",
        "opt.apply_gradients([(slope0,beta0_hat),(slope1,beta1_hat)]) ## pair의 list가 입력 \n",
        "```"
      ]
    },
    {
      "cell_type": "markdown",
      "id": "08c010ea-0672-47da-a2ce-e731ccf6d6e0",
      "metadata": {
        "id": "08c010ea-0672-47da-a2ce-e731ccf6d6e0"
      },
      "source": [
        "### opt.minimize"
      ]
    },
    {
      "cell_type": "markdown",
      "id": "2d0207e6-a475-42bc-a1cc-36c7dd86e66d",
      "metadata": {
        "tags": [],
        "id": "2d0207e6-a475-42bc-a1cc-36c7dd86e66d"
      },
      "source": [
        "#### 풀이1: 벡터버전, 사용자정의 손실함수 with lambda"
      ]
    },
    {
      "cell_type": "markdown",
      "id": "f9f7739e-27b2-40e6-a60f-de806e7216f4",
      "metadata": {
        "id": "f9f7739e-27b2-40e6-a60f-de806e7216f4"
      },
      "source": [
        "#### 풀이2: 스칼라버전, 사용자정의 손실함수 with lambda"
      ]
    },
    {
      "cell_type": "markdown",
      "id": "cbd0e298-b04a-47dc-974c-4b72cebdfe55",
      "metadata": {
        "id": "cbd0e298-b04a-47dc-974c-4b72cebdfe55"
      },
      "source": [
        "`-` 포인트\n",
        "```python\n",
        "## 포인트코드: 미분 & 업데이트 = minimize \n",
        "opt.minimize(loss_fn,[beta0_hat,beta1_hat])\n",
        "```"
      ]
    },
    {
      "cell_type": "markdown",
      "id": "a1f09a4f-bdb9-440b-9d9e-623cd220baff",
      "metadata": {
        "id": "a1f09a4f-bdb9-440b-9d9e-623cd220baff"
      },
      "source": [
        "#### 풀이3: 벡터버전, 사용자정의 (짧은) 손실함수 "
      ]
    },
    {
      "cell_type": "markdown",
      "id": "f5031126-91a9-4d1f-a932-e0b67559776a",
      "metadata": {
        "id": "f5031126-91a9-4d1f-a932-e0b67559776a"
      },
      "source": [
        "`-` 포인트\n",
        "```python\n",
        "## 포인트코드: 손실함수정의 \n",
        "def loss_fn():\n",
        "    return ??\n",
        "```"
      ]
    },
    {
      "cell_type": "markdown",
      "id": "28e46453-92c4-4858-8feb-19597cf34e73",
      "metadata": {
        "id": "28e46453-92c4-4858-8feb-19597cf34e73"
      },
      "source": [
        "#### 풀이4: 벡터버전, 사용자정의 (긴) 손실함수 "
      ]
    },
    {
      "cell_type": "markdown",
      "id": "74a717fc-0e55-416c-aaa0-3d6dc5a60371",
      "metadata": {
        "id": "74a717fc-0e55-416c-aaa0-3d6dc5a60371"
      },
      "source": [
        "`-` 포인트\n",
        "```python\n",
        "## 포인트코드: 손실함수정의 \n",
        "def loss_fn():\n",
        "    ??\n",
        "    ??\n",
        "    return ??\n",
        "```"
      ]
    },
    {
      "cell_type": "markdown",
      "id": "07f15e8b-d947-4341-ad00-d2994d462eef",
      "metadata": {
        "id": "07f15e8b-d947-4341-ad00-d2994d462eef"
      },
      "source": [
        "#### 풀이5: 벡터버전, 사용자정의 손실함수 <- tf.losses.MSE "
      ]
    },
    {
      "cell_type": "markdown",
      "id": "016c6e35-1822-4973-a654-9ff28ac7be66",
      "metadata": {
        "id": "016c6e35-1822-4973-a654-9ff28ac7be66"
      },
      "source": [
        "`-` 포인트\n",
        "```python\n",
        "## 포인트코드: 미리구현되어있는 손실함수 이용 \n",
        "tf.losses.MSE(y,yhat)\n",
        "```"
      ]
    },
    {
      "cell_type": "markdown",
      "id": "1c725521-bfe4-431e-bf45-9eed25d2d83d",
      "metadata": {
        "id": "1c725521-bfe4-431e-bf45-9eed25d2d83d"
      },
      "source": [
        "#### 풀이6: 벡터버전, 사용자정의 손실함수 <- tf.losses.MeaSquaredError"
      ]
    },
    {
      "cell_type": "markdown",
      "id": "a16611c1-31ef-4ea4-acc5-5d259273b545",
      "metadata": {
        "id": "a16611c1-31ef-4ea4-acc5-5d259273b545"
      },
      "source": [
        "`-` 포인트\n",
        "```python\n",
        "## 포인트코드: 클래스로부터 손실함수 오브젝트 생성 (함수를 찍어내는 클래스) \n",
        "mse_fn = tf.losses.MeanSquaredError()\n",
        "mse_fn(y,yhat)\n",
        "```"
      ]
    },
    {
      "cell_type": "markdown",
      "id": "bc382f53-9b01-44f7-b62c-08dd158132bb",
      "metadata": {
        "id": "bc382f53-9b01-44f7-b62c-08dd158132bb"
      },
      "source": [
        "### tf.keras.Sequential"
      ]
    },
    {
      "cell_type": "markdown",
      "id": "898fb22e-89bf-4e73-94d9-4370898e9592",
      "metadata": {
        "id": "898fb22e-89bf-4e73-94d9-4370898e9592"
      },
      "source": [
        "`-` $\\hat{y}_i=\\hat{\\beta}_0+\\hat{\\beta}_1x_i$ 의 서로다른 표현 "
      ]
    },
    {
      "cell_type": "code",
      "execution_count": null,
      "id": "d6645006-7871-4cec-959f-4f77cbc7df06",
      "metadata": {
        "id": "d6645006-7871-4cec-959f-4f77cbc7df06"
      },
      "outputs": [],
      "source": [
        "import graphviz\n",
        "def gv(s): return graphviz.Source('digraph G{ rankdir=\"LR\"'+s + '; }')"
      ]
    },
    {
      "cell_type": "code",
      "execution_count": null,
      "id": "912037ce-376d-4eac-9c01-7dfd2b681549",
      "metadata": {
        "id": "912037ce-376d-4eac-9c01-7dfd2b681549",
        "outputId": "fe26c88c-27a5-4c78-d1b6-bcac9a7f1547"
      },
      "outputs": [
        {
          "data": {
            "image/svg+xml": [
              "<?xml version=\"1.0\" encoding=\"UTF-8\" standalone=\"no\"?>\n",
              "<!DOCTYPE svg PUBLIC \"-//W3C//DTD SVG 1.1//EN\"\n",
              " \"http://www.w3.org/Graphics/SVG/1.1/DTD/svg11.dtd\">\n",
              "<!-- Generated by graphviz version 3.0.0 (20220315.2325)\n",
              " -->\n",
              "<!-- Title: G Pages: 1 -->\n",
              "<svg width=\"727pt\" height=\"98pt\"\n",
              " viewBox=\"0.00 0.00 726.86 98.00\" xmlns=\"http://www.w3.org/2000/svg\" xmlns:xlink=\"http://www.w3.org/1999/xlink\">\n",
              "<g id=\"graph0\" class=\"graph\" transform=\"scale(1 1) rotate(0) translate(4 94)\">\n",
              "<title>G</title>\n",
              "<polygon fill=\"white\" stroke=\"transparent\" points=\"-4,4 -4,-94 722.86,-94 722.86,4 -4,4\"/>\n",
              "<!-- 1 -->\n",
              "<g id=\"node1\" class=\"node\">\n",
              "<title>1</title>\n",
              "<ellipse fill=\"none\" stroke=\"black\" cx=\"27\" cy=\"-72\" rx=\"27\" ry=\"18\"/>\n",
              "<text text-anchor=\"middle\" x=\"27\" y=\"-68.3\" font-family=\"Times,serif\" font-size=\"14.00\">1</text>\n",
              "</g>\n",
              "<!-- beta0_hat + x*beta1_hat, &#160;&#160;&#160;bias=False -->\n",
              "<g id=\"node2\" class=\"node\">\n",
              "<title>beta0_hat + x*beta1_hat, &#160;&#160;&#160;bias=False</title>\n",
              "<ellipse fill=\"none\" stroke=\"black\" cx=\"363.73\" cy=\"-45\" rx=\"191.97\" ry=\"18\"/>\n",
              "<text text-anchor=\"middle\" x=\"363.73\" y=\"-41.3\" font-family=\"Times,serif\" font-size=\"14.00\">beta0_hat + x*beta1_hat, &#160;&#160;&#160;bias=False</text>\n",
              "</g>\n",
              "<!-- 1&#45;&gt;beta0_hat + x*beta1_hat, &#160;&#160;&#160;bias=False -->\n",
              "<g id=\"edge1\" class=\"edge\">\n",
              "<title>1&#45;&gt;beta0_hat + x*beta1_hat, &#160;&#160;&#160;bias=False</title>\n",
              "<path fill=\"none\" stroke=\"black\" d=\"M53.99,-69.9C87.46,-67.2 148.36,-62.29 207.28,-57.54\"/>\n",
              "<polygon fill=\"black\" stroke=\"black\" points=\"207.79,-61.01 217.48,-56.72 207.23,-54.03 207.79,-61.01\"/>\n",
              "<text text-anchor=\"middle\" x=\"113\" y=\"-71.8\" font-family=\"Times,serif\" font-size=\"14.00\">* beta0_hat</text>\n",
              "</g>\n",
              "<!-- yhat -->\n",
              "<g id=\"node4\" class=\"node\">\n",
              "<title>yhat</title>\n",
              "<ellipse fill=\"none\" stroke=\"black\" cx=\"687.66\" cy=\"-45\" rx=\"31.4\" ry=\"18\"/>\n",
              "<text text-anchor=\"middle\" x=\"687.66\" y=\"-41.3\" font-family=\"Times,serif\" font-size=\"14.00\">yhat</text>\n",
              "</g>\n",
              "<!-- beta0_hat + x*beta1_hat, &#160;&#160;&#160;bias=False&#45;&gt;yhat -->\n",
              "<g id=\"edge3\" class=\"edge\">\n",
              "<title>beta0_hat + x*beta1_hat, &#160;&#160;&#160;bias=False&#45;&gt;yhat</title>\n",
              "<path fill=\"none\" stroke=\"black\" d=\"M555.72,-45C589.92,-45 622.25,-45 646.23,-45\"/>\n",
              "<polygon fill=\"black\" stroke=\"black\" points=\"646.3,-48.5 656.3,-45 646.3,-41.5 646.3,-48.5\"/>\n",
              "<text text-anchor=\"middle\" x=\"605.97\" y=\"-48.8\" font-family=\"Times,serif\" font-size=\"14.00\">indentity</text>\n",
              "</g>\n",
              "<!-- x -->\n",
              "<g id=\"node3\" class=\"node\">\n",
              "<title>x</title>\n",
              "<ellipse fill=\"none\" stroke=\"black\" cx=\"27\" cy=\"-18\" rx=\"27\" ry=\"18\"/>\n",
              "<text text-anchor=\"middle\" x=\"27\" y=\"-14.3\" font-family=\"Times,serif\" font-size=\"14.00\">x</text>\n",
              "</g>\n",
              "<!-- x&#45;&gt;beta0_hat + x*beta1_hat, &#160;&#160;&#160;bias=False -->\n",
              "<g id=\"edge2\" class=\"edge\">\n",
              "<title>x&#45;&gt;beta0_hat + x*beta1_hat, &#160;&#160;&#160;bias=False</title>\n",
              "<path fill=\"none\" stroke=\"black\" d=\"M53.99,-20.1C87.46,-22.8 148.36,-27.71 207.28,-32.46\"/>\n",
              "<polygon fill=\"black\" stroke=\"black\" points=\"207.23,-35.97 217.48,-33.28 207.79,-28.99 207.23,-35.97\"/>\n",
              "<text text-anchor=\"middle\" x=\"113\" y=\"-30.8\" font-family=\"Times,serif\" font-size=\"14.00\">* beta1_hat</text>\n",
              "</g>\n",
              "</g>\n",
              "</svg>\n"
            ],
            "text/plain": [
              "<graphviz.sources.Source at 0x7efd38c2a320>"
            ]
          },
          "execution_count": 5,
          "metadata": {},
          "output_type": "execute_result"
        }
      ],
      "source": [
        "gv(''' \n",
        "    \"1\" -> \"beta0_hat + x*beta1_hat,    bias=False\"[label=\"* beta0_hat\"]\n",
        "    \"x\" -> \"beta0_hat + x*beta1_hat,    bias=False\"[label=\"* beta1_hat\"]\n",
        "    \"beta0_hat + x*beta1_hat,    bias=False\" -> \"yhat\"[label=\"indentity\"]\n",
        "    ''')"
      ]
    },
    {
      "cell_type": "code",
      "execution_count": null,
      "id": "a57cf1ac-1e13-488b-9d5e-dc9323b8864f",
      "metadata": {
        "id": "a57cf1ac-1e13-488b-9d5e-dc9323b8864f",
        "outputId": "777699fb-2ab1-499c-e5df-3ef14efd20ca"
      },
      "outputs": [
        {
          "data": {
            "image/svg+xml": [
              "<?xml version=\"1.0\" encoding=\"UTF-8\" standalone=\"no\"?>\n",
              "<!DOCTYPE svg PUBLIC \"-//W3C//DTD SVG 1.1//EN\"\n",
              " \"http://www.w3.org/Graphics/SVG/1.1/DTD/svg11.dtd\">\n",
              "<!-- Generated by graphviz version 3.0.0 (20220315.2325)\n",
              " -->\n",
              "<!-- Title: G Pages: 1 -->\n",
              "<svg width=\"598pt\" height=\"44pt\"\n",
              " viewBox=\"0.00 0.00 598.07 44.00\" xmlns=\"http://www.w3.org/2000/svg\" xmlns:xlink=\"http://www.w3.org/1999/xlink\">\n",
              "<g id=\"graph0\" class=\"graph\" transform=\"scale(1 1) rotate(0) translate(4 40)\">\n",
              "<title>G</title>\n",
              "<polygon fill=\"white\" stroke=\"transparent\" points=\"-4,4 -4,-40 594.07,-40 594.07,4 -4,4\"/>\n",
              "<!-- x -->\n",
              "<g id=\"node1\" class=\"node\">\n",
              "<title>x</title>\n",
              "<ellipse fill=\"none\" stroke=\"black\" cx=\"27\" cy=\"-18\" rx=\"27\" ry=\"18\"/>\n",
              "<text text-anchor=\"middle\" x=\"27\" y=\"-14.3\" font-family=\"Times,serif\" font-size=\"14.00\">x</text>\n",
              "</g>\n",
              "<!-- x*beta1_hat, &#160;&#160;&#160;bias=True -->\n",
              "<g id=\"node2\" class=\"node\">\n",
              "<title>x*beta1_hat, &#160;&#160;&#160;bias=True</title>\n",
              "<ellipse fill=\"none\" stroke=\"black\" cx=\"297.34\" cy=\"-18\" rx=\"129.18\" ry=\"18\"/>\n",
              "<text text-anchor=\"middle\" x=\"297.34\" y=\"-14.3\" font-family=\"Times,serif\" font-size=\"14.00\">x*beta1_hat, &#160;&#160;&#160;bias=True</text>\n",
              "</g>\n",
              "<!-- x&#45;&gt;x*beta1_hat, &#160;&#160;&#160;bias=True -->\n",
              "<g id=\"edge1\" class=\"edge\">\n",
              "<title>x&#45;&gt;x*beta1_hat, &#160;&#160;&#160;bias=True</title>\n",
              "<path fill=\"none\" stroke=\"black\" d=\"M54.22,-18C78.96,-18 118.07,-18 157.71,-18\"/>\n",
              "<polygon fill=\"black\" stroke=\"black\" points=\"157.79,-21.5 167.79,-18 157.79,-14.5 157.79,-21.5\"/>\n",
              "<text text-anchor=\"middle\" x=\"111\" y=\"-21.8\" font-family=\"Times,serif\" font-size=\"14.00\">*beta1_hat</text>\n",
              "</g>\n",
              "<!-- yhat -->\n",
              "<g id=\"node3\" class=\"node\">\n",
              "<title>yhat</title>\n",
              "<ellipse fill=\"none\" stroke=\"black\" cx=\"558.87\" cy=\"-18\" rx=\"31.4\" ry=\"18\"/>\n",
              "<text text-anchor=\"middle\" x=\"558.87\" y=\"-14.3\" font-family=\"Times,serif\" font-size=\"14.00\">yhat</text>\n",
              "</g>\n",
              "<!-- x*beta1_hat, &#160;&#160;&#160;bias=True&#45;&gt;yhat -->\n",
              "<g id=\"edge2\" class=\"edge\">\n",
              "<title>x*beta1_hat, &#160;&#160;&#160;bias=True&#45;&gt;yhat</title>\n",
              "<path fill=\"none\" stroke=\"black\" d=\"M426.97,-18C459.87,-18 492.87,-18 517.5,-18\"/>\n",
              "<polygon fill=\"black\" stroke=\"black\" points=\"517.53,-21.5 527.53,-18 517.53,-14.5 517.53,-21.5\"/>\n",
              "<text text-anchor=\"middle\" x=\"477.18\" y=\"-21.8\" font-family=\"Times,serif\" font-size=\"14.00\">indentity</text>\n",
              "</g>\n",
              "</g>\n",
              "</svg>\n"
            ],
            "text/plain": [
              "<graphviz.sources.Source at 0x7efd38c2a290>"
            ]
          },
          "execution_count": 6,
          "metadata": {},
          "output_type": "execute_result"
        }
      ],
      "source": [
        "gv('''\n",
        "\"x\" -> \"x*beta1_hat,    bias=True\"[label=\"*beta1_hat\"] ;\n",
        "\"x*beta1_hat,    bias=True\" -> \"yhat\"[label=\"indentity\"] ''')\n"
      ]
    },
    {
      "cell_type": "code",
      "execution_count": null,
      "id": "6b6cacce-e9e7-40cc-8481-0eaabbedb4dc",
      "metadata": {
        "id": "6b6cacce-e9e7-40cc-8481-0eaabbedb4dc",
        "outputId": "bcdb5c31-7ade-473c-a486-cf50eb2ef6e8"
      },
      "outputs": [
        {
          "data": {
            "image/svg+xml": [
              "<?xml version=\"1.0\" encoding=\"UTF-8\" standalone=\"no\"?>\n",
              "<!DOCTYPE svg PUBLIC \"-//W3C//DTD SVG 1.1//EN\"\n",
              " \"http://www.w3.org/Graphics/SVG/1.1/DTD/svg11.dtd\">\n",
              "<!-- Generated by graphviz version 3.0.0 (20220315.2325)\n",
              " -->\n",
              "<!-- Title: G Pages: 1 -->\n",
              "<svg width=\"640pt\" height=\"44pt\"\n",
              " viewBox=\"0.00 0.00 639.56 44.00\" xmlns=\"http://www.w3.org/2000/svg\" xmlns:xlink=\"http://www.w3.org/1999/xlink\">\n",
              "<g id=\"graph0\" class=\"graph\" transform=\"scale(1 1) rotate(0) translate(4 40)\">\n",
              "<title>G</title>\n",
              "<polygon fill=\"white\" stroke=\"transparent\" points=\"-4,4 -4,-40 635.56,-40 635.56,4 -4,4\"/>\n",
              "<!-- X=[1 x] -->\n",
              "<g id=\"node1\" class=\"node\">\n",
              "<title>X=[1 x]</title>\n",
              "<ellipse fill=\"none\" stroke=\"black\" cx=\"46.15\" cy=\"-18\" rx=\"46.29\" ry=\"18\"/>\n",
              "<text text-anchor=\"middle\" x=\"46.15\" y=\"-14.3\" font-family=\"Times,serif\" font-size=\"14.00\">X=[1 x]</text>\n",
              "</g>\n",
              "<!-- X@beta_hat, &#160;&#160;&#160;bias=False -->\n",
              "<g id=\"node2\" class=\"node\">\n",
              "<title>X@beta_hat, &#160;&#160;&#160;bias=False</title>\n",
              "<ellipse fill=\"none\" stroke=\"black\" cx=\"336.23\" cy=\"-18\" rx=\"131.88\" ry=\"18\"/>\n",
              "<text text-anchor=\"middle\" x=\"336.23\" y=\"-14.3\" font-family=\"Times,serif\" font-size=\"14.00\">X@beta_hat, &#160;&#160;&#160;bias=False</text>\n",
              "</g>\n",
              "<!-- X=[1 x]&#45;&gt;X@beta_hat, &#160;&#160;&#160;bias=False -->\n",
              "<g id=\"edge1\" class=\"edge\">\n",
              "<title>X=[1 x]&#45;&gt;X@beta_hat, &#160;&#160;&#160;bias=False</title>\n",
              "<path fill=\"none\" stroke=\"black\" d=\"M92.48,-18C120.07,-18 156.97,-18 193.66,-18\"/>\n",
              "<polygon fill=\"black\" stroke=\"black\" points=\"193.99,-21.5 203.99,-18 193.99,-14.5 193.99,-21.5\"/>\n",
              "<text text-anchor=\"middle\" x=\"148.29\" y=\"-21.8\" font-family=\"Times,serif\" font-size=\"14.00\">@beta_hat</text>\n",
              "</g>\n",
              "<!-- yhat -->\n",
              "<g id=\"node3\" class=\"node\">\n",
              "<title>yhat</title>\n",
              "<ellipse fill=\"none\" stroke=\"black\" cx=\"600.37\" cy=\"-18\" rx=\"31.4\" ry=\"18\"/>\n",
              "<text text-anchor=\"middle\" x=\"600.37\" y=\"-14.3\" font-family=\"Times,serif\" font-size=\"14.00\">yhat</text>\n",
              "</g>\n",
              "<!-- X@beta_hat, &#160;&#160;&#160;bias=False&#45;&gt;yhat -->\n",
              "<g id=\"edge2\" class=\"edge\">\n",
              "<title>X@beta_hat, &#160;&#160;&#160;bias=False&#45;&gt;yhat</title>\n",
              "<path fill=\"none\" stroke=\"black\" d=\"M468.3,-18C501.34,-18 534.38,-18 559.02,-18\"/>\n",
              "<polygon fill=\"black\" stroke=\"black\" points=\"559.04,-21.5 569.04,-18 559.04,-14.5 559.04,-21.5\"/>\n",
              "<text text-anchor=\"middle\" x=\"518.67\" y=\"-21.8\" font-family=\"Times,serif\" font-size=\"14.00\">indentity</text>\n",
              "</g>\n",
              "</g>\n",
              "</svg>\n"
            ],
            "text/plain": [
              "<graphviz.sources.Source at 0x7efd38c47190>"
            ]
          },
          "execution_count": 7,
          "metadata": {},
          "output_type": "execute_result"
        }
      ],
      "source": [
        "gv('''\n",
        "\"X=[1 x]\" -> \"X@beta_hat,    bias=False\"[label=\"@beta_hat\"] ;\n",
        "\"X@beta_hat,    bias=False\" -> \"yhat\"[label=\"indentity\"] ''')\n"
      ]
    },
    {
      "cell_type": "markdown",
      "id": "755caa9d-a9d5-40b0-9006-bbc9bbb64800",
      "metadata": {
        "id": "755caa9d-a9d5-40b0-9006-bbc9bbb64800"
      },
      "source": [
        "#### 풀이1: 벡터버전, 사용자정의 손실함수 "
      ]
    },
    {
      "cell_type": "markdown",
      "id": "15875d56-087b-4ea5-abd7-1e7ce4225aad",
      "metadata": {
        "id": "15875d56-087b-4ea5-abd7-1e7ce4225aad"
      },
      "source": [
        "`-` 포인트\n",
        "```python\n",
        "## 포인트코드1: 네트워크 생성 \n",
        "net = tf.keras.Sequential()\n",
        "\n",
        "## 포인트코드2: 네트워크의 아키텍처 설계 \n",
        "net.add(tf.keras.layers.Dense(1,input_shape=(2,),use_bias=False)) \n",
        "\n",
        "## 포인트코드3: 네트워크 컴파일 = 아키텍처 + 손실함수 + 옵티마이저\n",
        "net.compile(opt,loss=loss_fn2)\n",
        "\n",
        "## 포인트코드4: 미분 & update \n",
        "net.fit(X,y,epochs=1000,verbose=0,batch_size=N) \n",
        "```"
      ]
    }
  ],
  "metadata": {
    "kernelspec": {
      "display_name": "Python 3 (ipykernel)",
      "language": "python",
      "name": "python3"
    },
    "language_info": {
      "codemirror_mode": {
        "name": "ipython",
        "version": 3
      },
      "file_extension": ".py",
      "mimetype": "text/x-python",
      "name": "python",
      "nbconvert_exporter": "python",
      "pygments_lexer": "ipython3",
      "version": "3.10.4"
    },
    "colab": {
      "name": "2022-03-30-(5주차).ipynb",
      "provenance": [],
      "collapsed_sections": [],
      "toc_visible": true
    }
  },
  "nbformat": 4,
  "nbformat_minor": 5
}