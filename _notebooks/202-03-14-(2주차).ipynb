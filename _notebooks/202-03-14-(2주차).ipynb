{
  "nbformat": 4,
  "nbformat_minor": 0,
  "metadata": {
    "colab": {
      "name": "2022-03-14-빅데이터분석.ipynb",
      "provenance": [],
      "collapsed_sections": [],
      "toc_visible": true
    },
    "kernelspec": {
      "name": "python3",
      "display_name": "Python 3"
    },
    "language_info": {
      "name": "python"
    }
  },
  "cells": [
    {
      "cell_type": "markdown",
      "source": [
        "# 2주차 (3월 14일)\n",
        "\n",
        "- toc:true\n",
        "- branch: master\n",
        "- badges: true\n",
        "- comments: true\n",
        "- author: 최규빈\n",
        "- categories: [python]\n",
        "- hide :false\n",
        "- published: true`\n",
        "- editor : 전북대학교 통계학과 이강철"
      ],
      "metadata": {
        "id": "PC2n6iwkpA9i"
      }
    },
    {
      "cell_type": "code",
      "source": [
        ""
      ],
      "metadata": {
        "id": "csDgx87vpRKy"
      },
      "execution_count": null,
      "outputs": []
    }
  ]
}