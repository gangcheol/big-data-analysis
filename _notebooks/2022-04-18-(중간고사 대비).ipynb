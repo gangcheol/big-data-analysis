{
  "nbformat": 4,
  "nbformat_minor": 0,
  "metadata": {
    "colab": {
      "name": "2022-04-18-중간고사 대비.ipynb",
      "provenance": [],
      "collapsed_sections": [],
      "toc_visible": true
    },
    "kernelspec": {
      "name": "python3",
      "display_name": "Python 3"
    },
    "language_info": {
      "name": "python"
    }
  },
  "cells": [
    {
      "cell_type": "markdown",
      "source": [
        "# 중간고사 대비\n",
        "\n",
        "- toc:true\n",
        "- branch: master\n",
        "- badges: true\n",
        "- comments: true\n",
        "- editor : 이강철\n",
        "- hide : false\n",
        "- published : true"
      ],
      "metadata": {
        "id": "Im5ANgq-NHMe"
      }
    },
    {
      "cell_type": "markdown",
      "source": [
        "## 1주차 : 단순선형회귀"
      ],
      "metadata": {
        "id": "M5Ly2hkNNLeW"
      }
    },
    {
      "cell_type": "code",
      "source": [
        "import numpy as np\n",
        "import matplotlib.pyplot as plt\n",
        "import tensorflow as tf"
      ],
      "metadata": {
        "id": "QFi4n2LMNgvV"
      },
      "execution_count": null,
      "outputs": []
    },
    {
      "cell_type": "markdown",
      "source": [
        "### 온도에 따른 아메리카노 판매량"
      ],
      "metadata": {
        "id": "sqeNWL_RNrGb"
      }
    },
    {
      "cell_type": "markdown",
      "source": [
        "$$아이스 아메리카노  = \\beta_1 \\times 온도 + \\varepsilon$$"
      ],
      "metadata": {
        "id": "2-ZnDMLvNxLM"
      }
    },
    {
      "cell_type": "markdown",
      "source": [
        "`-` 온도 $\\bf{x}$를 아래와 같이 생성"
      ],
      "metadata": {
        "id": "zjWimtHON4eM"
      }
    },
    {
      "cell_type": "code",
      "source": [
        "x = tf.constant([20.1,22.2,22.7,23.3,24.4,25.1,26.2,27.3,28.4,30.4])\n",
        "x"
      ],
      "metadata": {
        "colab": {
          "base_uri": "https://localhost:8080/"
        },
        "id": "2OfRbLgDOGWW",
        "outputId": "1491d951-e18b-4266-968e-35f66c1127cc"
      },
      "execution_count": null,
      "outputs": [
        {
          "output_type": "execute_result",
          "data": {
            "text/plain": [
              "<tf.Tensor: shape=(10,), dtype=float32, numpy=\n",
              "array([20.1, 22.2, 22.7, 23.3, 24.4, 25.1, 26.2, 27.3, 28.4, 30.4],\n",
              "      dtype=float32)>"
            ]
          },
          "metadata": {},
          "execution_count": 43
        }
      ]
    },
    {
      "cell_type": "markdown",
      "source": [
        "`-` 가정 : 만약 아메리카노 판매량 $\\bf{y}$가 아래와 같다고 하자"
      ],
      "metadata": {
        "id": "Znsq7N-fOOsK"
      }
    },
    {
      "cell_type": "markdown",
      "source": [
        "$$ \\bf {y} \\approx 10.2 + 2.2 \\bf{x}$$"
      ],
      "metadata": {
        "id": "7W3Z1FzdOZpv"
      }
    },
    {
      "cell_type": "code",
      "source": [
        "tf.random.set_seed(202150256)\n",
        "\n",
        "epsilon = tf.random.normal([10])\n",
        "y = 10.2 + 2.2*x + epsilon\n",
        "y"
      ],
      "metadata": {
        "colab": {
          "base_uri": "https://localhost:8080/"
        },
        "id": "61His9FtOetV",
        "outputId": "6a882286-d881-47c6-f175-953fce923f01"
      },
      "execution_count": null,
      "outputs": [
        {
          "output_type": "execute_result",
          "data": {
            "text/plain": [
              "<tf.Tensor: shape=(10,), dtype=float32, numpy=\n",
              "array([53.728127, 57.886845, 59.39006 , 63.192116, 63.904133, 63.547157,\n",
              "       68.00105 , 70.056755, 72.11336 , 78.33952 ], dtype=float32)>"
            ]
          },
          "metadata": {},
          "execution_count": 83
        }
      ]
    },
    {
      "cell_type": "markdown",
      "source": [
        "`-` 일상적인 데이터 형식에서 다음과 같이 자료를 모은 셈이다 "
      ],
      "metadata": {
        "id": "kOTdqQ69O04B"
      }
    },
    {
      "cell_type": "code",
      "source": [
        "tf.transpose(tf.concat([[x],[y]],0))"
      ],
      "metadata": {
        "colab": {
          "base_uri": "https://localhost:8080/"
        },
        "id": "_-mGBagRO73Y",
        "outputId": "19be23f4-16ef-48ee-c6fd-f54c401cb3a6"
      },
      "execution_count": null,
      "outputs": [
        {
          "output_type": "execute_result",
          "data": {
            "text/plain": [
              "<tf.Tensor: shape=(10, 2), dtype=float32, numpy=\n",
              "array([[20.1     , 53.728127],\n",
              "       [22.2     , 57.886845],\n",
              "       [22.7     , 59.39006 ],\n",
              "       [23.3     , 63.192116],\n",
              "       [24.4     , 63.904133],\n",
              "       [25.1     , 63.547157],\n",
              "       [26.2     , 68.00105 ],\n",
              "       [27.3     , 70.056755],\n",
              "       [28.4     , 72.11336 ],\n",
              "       [30.4     , 78.33952 ]], dtype=float32)>"
            ]
          },
          "metadata": {},
          "execution_count": 84
        }
      ]
    },
    {
      "cell_type": "markdown",
      "source": [
        "### 도식화 "
      ],
      "metadata": {
        "id": "v1RdDB_EPPor"
      }
    },
    {
      "cell_type": "code",
      "source": [
        "plt.figure(figsize=(8,6))\n",
        "plt.plot(x,y,\".\",label=\"y\")\n",
        "plt.plot(x,10.2+2.2*x,\"--\",label =\"hat y\")\n",
        "plt.legend()"
      ],
      "metadata": {
        "colab": {
          "base_uri": "https://localhost:8080/",
          "height": 392
        },
        "id": "jSAGO7FuPZB4",
        "outputId": "358322b5-8144-4d5f-8da6-198f23155717"
      },
      "execution_count": null,
      "outputs": [
        {
          "output_type": "execute_result",
          "data": {
            "text/plain": [
              "<matplotlib.legend.Legend at 0x7ff99b361c50>"
            ]
          },
          "metadata": {},
          "execution_count": 85
        },
        {
          "output_type": "display_data",
          "data": {
            "text/plain": [
              "<Figure size 576x432 with 1 Axes>"
            ],
            "image/png": "[encoded data removed]"
          },
          "metadata": {
            "needs_background": "light"
          }
        }
      ]
    },
    {
      "cell_type": "markdown",
      "source": [
        "### 목표"
      ],
      "metadata": {
        "id": "3cr2TKspQHMK"
      }
    },
    {
      "cell_type": "markdown",
      "source": [
        "$$loss = \\sum (y - \\hat {y})^2 $$"
      ],
      "metadata": {
        "id": "XBHIVnVVQIyB"
      }
    },
    {
      "cell_type": "markdown",
      "source": [
        "* `loss`를 최소화 하는 것이 우리의 목표이다."
      ],
      "metadata": {
        "id": "qIBP6IGjQR5T"
      }
    },
    {
      "cell_type": "markdown",
      "source": [
        "* 일일이 $\\beta_i$의 값을 집어넣으면 `loss`를 최소화하는 $\\beta_i$를 구할 수 있지만 사실상 무한번 저 과정을 반복하는 것은 불가능하다."
      ],
      "metadata": {
        "id": "YDfZj3PaQZPw"
      }
    },
    {
      "cell_type": "markdown",
      "source": [
        "* 따라서 위를 각각의 $\\beta_i$로 미분하면 다음과 같이 구할 수 있다."
      ],
      "metadata": {
        "id": "W74KNlG-REB5"
      }
    },
    {
      "cell_type": "markdown",
      "source": [
        "$$\\hat {\\beta_1} = \\frac {S_{xy}}{S_{xx}}  = \\frac {\\sum (x-\\bar x)(y-\\bar y)}{\\sum {(x-\\bar x)^2}}$$"
      ],
      "metadata": {
        "id": "ZCHIY8bvRNEA"
      }
    },
    {
      "cell_type": "markdown",
      "source": [
        "$$\\hat {\\beta_0} =  \\bar y - \\hat {\\beta_1}\\bar x $$"
      ],
      "metadata": {
        "id": "wuNRN8VBRcuW"
      }
    },
    {
      "cell_type": "code",
      "source": [
        "import numpy as np"
      ],
      "metadata": {
        "id": "VdbQ0RfKSP7l"
      },
      "execution_count": null,
      "outputs": []
    },
    {
      "cell_type": "code",
      "source": [
        "Sxx = sum((x- np.mean(x))**2)\n",
        "Sxy = sum((x-np.mean(x))*(y-np.mean(y)))"
      ],
      "metadata": {
        "id": "peF6TDUdR05n"
      },
      "execution_count": null,
      "outputs": []
    },
    {
      "cell_type": "code",
      "source": [
        "hat_b1 = Sxy/Sxx\n",
        "hat_b0 = np.mean(y) - hat_b1*np.mean(x)"
      ],
      "metadata": {
        "id": "kyWKn1qeSDkP"
      },
      "execution_count": null,
      "outputs": []
    },
    {
      "cell_type": "code",
      "source": [
        "hat_b1,hat_b0"
      ],
      "metadata": {
        "colab": {
          "base_uri": "https://localhost:8080/"
        },
        "id": "1115E7J1SLOa",
        "outputId": "23db613f-f635-410d-f537-0db97b7cc44e"
      },
      "execution_count": null,
      "outputs": [
        {
          "output_type": "execute_result",
          "data": {
            "text/plain": [
              "(<tf.Tensor: shape=(), dtype=float32, numpy=2.311769>,\n",
              " <tf.Tensor: shape=(), dtype=float32, numpy=7.198574>)"
            ]
          },
          "metadata": {},
          "execution_count": 92
        }
      ]
    },
    {
      "cell_type": "markdown",
      "source": [
        "`-` 위의 그래프와 비교해보자"
      ],
      "metadata": {
        "id": "BuhnJeEmS4kp"
      }
    },
    {
      "cell_type": "markdown",
      "source": [
        "* $y$ : 실제 값\n",
        "* $\\hat {y_1}$ : 우리가 일전에 가정한 것(세상의 법칡)\n",
        "* $\\hat {y_2}$ : 미분으로 구한 베타 추정치"
      ],
      "metadata": {
        "id": "JRoe03p7TFl3"
      }
    },
    {
      "cell_type": "markdown",
      "source": [
        "$$\\hat {y_1} = 10.2 + 2.2 x$$"
      ],
      "metadata": {
        "id": "1Mj3lHMGTs-5"
      }
    },
    {
      "cell_type": "markdown",
      "source": [
        "$$\\hat  {y_2} = \\hat {\\beta_{0,2}} + \\hat {\\beta_{1,2}} \\times x $$"
      ],
      "metadata": {
        "id": "Jessh9w0TwTd"
      }
    },
    {
      "cell_type": "code",
      "source": [
        "plt.figure(figsize = (10,6))\n",
        "plt.plot(x, y,\".\", label = \"y\")\n",
        "plt.plot(x, 10.2+2.2*x,\"--\", label = \"hat y1\")\n",
        "plt.plot(x, hat_b1*x + hat_b0, label = \"hat y2\")\n",
        "plt.legend()"
      ],
      "metadata": {
        "colab": {
          "base_uri": "https://localhost:8080/",
          "height": 392
        },
        "id": "hd1swpLcTgP1",
        "outputId": "c794fa91-06c4-4de5-f168-a577d0617fa5"
      },
      "execution_count": null,
      "outputs": [
        {
          "output_type": "execute_result",
          "data": {
            "text/plain": [
              "<matplotlib.legend.Legend at 0x7ff99cd223d0>"
            ]
          },
          "metadata": {},
          "execution_count": 93
        },
        {
          "output_type": "display_data",
          "data": {
            "text/plain": [
              "<Figure size 720x432 with 1 Axes>"
            ],
            "image/png": "[encoded data removed]"
          },
          "metadata": {
            "needs_background": "light"
          }
        }
      ]
    },
    {
      "cell_type": "markdown",
      "source": [
        "*  여튼 미분을 통해서 $\\beta_i$를 추정한다는 것은 수학적 관점에서 꽤나 훌륭한 방법인 것 같다."
      ],
      "metadata": {
        "id": "IM7X-8QeV7gE"
      }
    },
    {
      "cell_type": "markdown",
      "source": [
        "* 그러나 만약 $x_i,i = 1,2,\\dots 10009$  이런식으로 무수히 많은 변수가 존재할 경우 확장이 어렵고 \\beta_i 를 추정하는데 어마어마한 시간이 걸릴 것임"
      ],
      "metadata": {
        "id": "MwtRdD4gWBRG"
      }
    },
    {
      "cell_type": "markdown",
      "source": [
        "* 이를 행렬구조로 바꾸어서 생각해보자"
      ],
      "metadata": {
        "id": "Naxiqc9HWVen"
      }
    },
    {
      "cell_type": "markdown",
      "source": [
        "$$ \\bf {y} = \\bf {x} \\boldsymbol{\\beta} + \\boldsymbol{\\varepsilon}$$"
      ],
      "metadata": {
        "id": "ob-kUEPZWfCG"
      }
    },
    {
      "cell_type": "markdown",
      "source": [
        "* $\\bf {y} \\to (n\\times 1)$"
      ],
      "metadata": {
        "id": "nV_goCanW-fj"
      }
    },
    {
      "cell_type": "markdown",
      "source": [
        "* $\\bf {x} \\to  (n \\times p), \\quad \\boldsymbol {\\beta} \\to (\\bf p \\times 1), \\quad \\therefore \\quad \\bf {x} \\boldsymbol{\\beta} \\to (n \\times 1)$"
      ],
      "metadata": {
        "id": "S5cNnVsmXIoY"
      }
    },
    {
      "cell_type": "markdown",
      "source": [
        "* $\\boldsymbol {\\varepsilon} \\to (\\bf n \\times 1)$"
      ],
      "metadata": {
        "id": "Qvk3VbtJXX8Z"
      }
    },
    {
      "cell_type": "markdown",
      "source": [
        "$$loss = \\sum (y- \\hat y)^2 = (\\bf y - \\bf X \\boldsymbol {\\beta} )^{\\top}(\\bf y - \\bf X \\boldsymbol {\\beta} ) $$"
      ],
      "metadata": {
        "id": "y73keZCOYQXB"
      }
    },
    {
      "cell_type": "markdown",
      "source": [
        "위를 풀면"
      ],
      "metadata": {
        "id": "ew8TkmBeYrgm"
      }
    },
    {
      "cell_type": "markdown",
      "source": [
        "$$loss = \\bf y^{\\top}y - \\bf y^{\\top}\\bf X \\boldsymbol{\\beta}  -\\boldsymbol {\\beta}^{\\top} \\bf {X}^{\\top}y + \\boldsymbol {\\beta}^{\\top}\\bf{X}^{\\top}\\bf X \\boldsymbol {\\beta}$$"
      ],
      "metadata": {
        "id": "D-7lWcszYsy5"
      }
    },
    {
      "cell_type": "markdown",
      "source": [
        "위를 미분하여  $loss$를 최소화하는 $\\hat {\\boldsymbol {\\beta}}$를 구하면"
      ],
      "metadata": {
        "id": "tcDMKKlTZVdc"
      }
    },
    {
      "cell_type": "markdown",
      "source": [
        "$$\\hat {\\boldsymbol {\\beta}} = (\\bf {X^{\\top} X})^{-1} \\bf X^{\\top} \\bf y$$ "
      ],
      "metadata": {
        "id": "A1nEa37GZhjc"
      }
    },
    {
      "cell_type": "markdown",
      "source": [
        "`-` 이제 직접 코드를 짜서 $loss$를 최소화하는 $\\hat {\\boldsymbol{\\beta}}$를 구해보자"
      ],
      "metadata": {
        "id": "ws3Tk4XyZ4t_"
      }
    },
    {
      "cell_type": "markdown",
      "source": [
        "#### 매트릭스를 이용한 베타 추정치 구하기"
      ],
      "metadata": {
        "id": "xR3vE2x1bWxb"
      }
    },
    {
      "cell_type": "code",
      "source": [
        "from tensorflow.python.ops.numpy_ops import np_config\n",
        "np_config.enable_numpy_behavior() ## numpy 처럼 사용하기 위해!"
      ],
      "metadata": {
        "id": "XZ9-4XhlfKxu"
      },
      "execution_count": 139,
      "outputs": []
    },
    {
      "cell_type": "code",
      "source": [
        "x = tf.constant([20.1,22.2,22.7,23.3,24.4,25.1,26.2,27.3,28.4,30.4])\n",
        "epsilon = tf.random.normal([10])\n",
        "y = 10.2 + 2.2*x + epsilon\n",
        "n = len(x)"
      ],
      "metadata": {
        "id": "ywvXrgAEcpH-"
      },
      "execution_count": 144,
      "outputs": []
    },
    {
      "cell_type": "code",
      "source": [
        "X = tf.concat([[[1.0]*n],[x]],0).T"
      ],
      "metadata": {
        "id": "clVlw17keOnH"
      },
      "execution_count": 145,
      "outputs": []
    },
    {
      "cell_type": "code",
      "source": [
        "X"
      ],
      "metadata": {
        "colab": {
          "base_uri": "https://localhost:8080/"
        },
        "id": "_O6Nh6CVe_Nj",
        "outputId": "7204bca2-10f0-48de-ad7c-b0c4937948bc"
      },
      "execution_count": 146,
      "outputs": [
        {
          "output_type": "execute_result",
          "data": {
            "text/plain": [
              "<tf.Tensor: shape=(10, 2), dtype=float32, numpy=\n",
              "array([[ 1. , 20.1],\n",
              "       [ 1. , 22.2],\n",
              "       [ 1. , 22.7],\n",
              "       [ 1. , 23.3],\n",
              "       [ 1. , 24.4],\n",
              "       [ 1. , 25.1],\n",
              "       [ 1. , 26.2],\n",
              "       [ 1. , 27.3],\n",
              "       [ 1. , 28.4],\n",
              "       [ 1. , 30.4]], dtype=float32)>"
            ]
          },
          "metadata": {},
          "execution_count": 146
        }
      ]
    },
    {
      "cell_type": "code",
      "source": [
        "print(tf.linalg.inv(X.T @ X) @ X.T @ y)"
      ],
      "metadata": {
        "colab": {
          "base_uri": "https://localhost:8080/"
        },
        "id": "WTxRjPgyfn8l",
        "outputId": "e4da7193-0593-41d9-a11b-663134e1e646"
      },
      "execution_count": 148,
      "outputs": [
        {
          "output_type": "stream",
          "name": "stdout",
          "text": [
            "tf.Tensor([9.045627  2.2322702], shape=(2,), dtype=float32)\n"
          ]
        }
      ]
    },
    {
      "cell_type": "markdown",
      "source": [
        "* 값이 좀 다르긴 한데 이는 텐서플로우가 계산을 대충하는 것임"
      ],
      "metadata": {
        "id": "goJI8Cc3f7SR"
      }
    },
    {
      "cell_type": "markdown",
      "source": [
        "* 실제로 정확한 계산을 위해  `tensorflow` 안에 내장된 `nummpy`를 이용하자"
      ],
      "metadata": {
        "id": "BQJKLgL5gCWc"
      }
    },
    {
      "cell_type": "markdown",
      "source": [
        "#### tensorflow의 정확한 계산을 위해!"
      ],
      "metadata": {
        "id": "-YzMkYj5hUCW"
      }
    },
    {
      "cell_type": "code",
      "source": [
        "import tensorflow.experimental.numpy as tnp"
      ],
      "metadata": {
        "id": "CR4bOJ2fgJ36"
      },
      "execution_count": 149,
      "outputs": []
    },
    {
      "cell_type": "code",
      "source": [
        "x = tnp.array([20.1, 22.2, 22.7, 23.3, 24.4, 25.1, 26.2, 27.3, 28.4, 30.4])\n",
        "y = 10.2 + 2.2 *x +epsilon"
      ],
      "metadata": {
        "id": "m3bWw3FAgONP"
      },
      "execution_count": 150,
      "outputs": []
    },
    {
      "cell_type": "code",
      "source": [
        "Sxx = sum((x-np.mean(x))**2)\n",
        "Sxy = sum((x-np.mean(x))* (y-np.mean(y)))\n",
        "beta1 =  Sxy/Sxx\n",
        "beta0 = np.mean(y) - beta1*np.mean(x)"
      ],
      "metadata": {
        "id": "OPfnvgttgU6c"
      },
      "execution_count": 154,
      "outputs": []
    },
    {
      "cell_type": "code",
      "source": [
        "[beta0,beta1]"
      ],
      "metadata": {
        "colab": {
          "base_uri": "https://localhost:8080/"
        },
        "id": "oUgdf59Qg5P9",
        "outputId": "c653e79a-82f8-4bc8-8eda-773711b4aa22"
      },
      "execution_count": 155,
      "outputs": [
        {
          "output_type": "execute_result",
          "data": {
            "text/plain": [
              "[<tf.Tensor: shape=(), dtype=float64, numpy=9.045680157770313>,\n",
              " <tf.Tensor: shape=(), dtype=float64, numpy=2.2322740618055756>]"
            ]
          },
          "metadata": {},
          "execution_count": 155
        }
      ]
    },
    {
      "cell_type": "code",
      "source": [
        "X = tnp.concatenate([[[1.0]*n],[x]]).T\n",
        "tf.linalg.inv(X.T @ X) @ X.T @ y"
      ],
      "metadata": {
        "colab": {
          "base_uri": "https://localhost:8080/"
        },
        "id": "eSkTvaFYg8qG",
        "outputId": "1fe69882-346b-4722-b70c-2022c914ab60"
      },
      "execution_count": 162,
      "outputs": [
        {
          "output_type": "execute_result",
          "data": {
            "text/plain": [
              "<tf.Tensor: shape=(2,), dtype=float64, numpy=array([9.04568016, 2.23227406])>"
            ]
          },
          "metadata": {},
          "execution_count": 162
        }
      ]
    }
  ]
}